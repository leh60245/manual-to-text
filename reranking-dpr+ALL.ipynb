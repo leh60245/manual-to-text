{
 "cells": [
  {
   "cell_type": "code",
   "execution_count": 1,
   "metadata": {},
   "outputs": [],
   "source": [
    "import json\n",
    "import os\n",
    "from tqdm import tqdm\n",
    "import numpy as np\n",
    "import torch\n",
    "from transformers import DPRContextEncoder, DPRContextEncoderTokenizer\n",
    "from transformers import DPRQuestionEncoder, DPRQuestionEncoderTokenizer\n",
    "\n",
    "device = torch.device('cuda:7' if torch.cuda.is_available() else 'cpu')"
   ]
  },
  {
   "cell_type": "code",
   "execution_count": 2,
   "metadata": {},
   "outputs": [],
   "source": [
    "# 데이터 로드\n",
    "data = 'data/aihub_rules_prev.json'\n",
    "with open(data, 'r', encoding=\"UTF-8\") as j:\n",
    "    aihub_rule = json.load(j)\n",
    "\n",
    "normal_rule = aihub_rule['normal']\n",
    "abnormal_rule = aihub_rule['abnormal']\n",
    "combined_rules = normal_rule + abnormal_rule"
   ]
  },
  {
   "cell_type": "code",
   "execution_count": 3,
   "metadata": {},
   "outputs": [
    {
     "name": "stderr",
     "output_type": "stream",
     "text": [
      "100%|██████████| 943/943 [00:00<00:00, 23996.39it/s]\n"
     ]
    }
   ],
   "source": [
    "root_path = '/data1/sliver/jwsuh/construction_dataset/aihub/llava/llava_image_result_with_obj'\n",
    "files = sorted([i for i in os.listdir(root_path) if i.endswith('.json')])\n",
    "\n",
    "files_captions = []\n",
    "for idx, file in enumerate(tqdm(files)):\n",
    "    with open(os.path.join(root_path, file), 'r', encoding=\"UTF-8\") as j:\n",
    "        caption = json.load(j)['outputs']\n",
    "    files_captions.append(caption)\n",
    "    "
   ]
  },
  {
   "cell_type": "code",
   "execution_count": 4,
   "metadata": {},
   "outputs": [],
   "source": [
    "context_embeddings_dpr = torch.load('context_embeddings_dpr.pt')\n",
    "query_embeddings_dpr = torch.load('query_embeddings_dpr.pt')"
   ]
  },
  {
   "cell_type": "code",
   "execution_count": 5,
   "metadata": {},
   "outputs": [],
   "source": [
    "from tqdm import tqdm\n",
    "from sentence_transformers.cross_encoder import CrossEncoder\n",
    "\n",
    "def dpr_initial_search_and_rerank(query, query_idx, top_k=50):\n",
    "    query_embedding = query_embeddings_dpr[query_idx]\n",
    "    similarities = np.dot(query_embedding, context_embeddings_dpr.T).flatten()\n",
    "    initial_top_k_indices = np.argsort(similarities)[::-1][:top_k]\n",
    "    initial_top_k_docs = [combined_rules[i] for i in initial_top_k_indices]\n",
    "    \n",
    "    sentence_combinations = [[query, doc] for doc in initial_top_k_docs]\n",
    "    reranked_scores = model.predict(sentence_combinations)\n",
    "    reranked_indices = np.argsort(reranked_scores)[::-1]\n",
    "    final_top_k_indices = [initial_top_k_indices[i] for i in reranked_indices]\n",
    "    \n",
    "    return final_top_k_indices"
   ]
  },
  {
   "cell_type": "code",
   "execution_count": 6,
   "metadata": {},
   "outputs": [],
   "source": [
    "def find_rank_of_answer_in_results(final_indices, answer_index):\n",
    "    try:\n",
    "        return final_indices.index(answer_index) + 1\n",
    "    except ValueError:\n",
    "        return -1"
   ]
  },
  {
   "cell_type": "code",
   "execution_count": 7,
   "metadata": {},
   "outputs": [],
   "source": [
    "model_names = [\"cross-encoder/qnli-electra-base\", \"cross-encoder/quora-roberta-large\"]"
   ]
  },
  {
   "cell_type": "code",
   "execution_count": 8,
   "metadata": {},
   "outputs": [
    {
     "name": "stdout",
     "output_type": "stream",
     "text": [
      "cross-encoder/qnli-electra-base\n"
     ]
    },
    {
     "name": "stderr",
     "output_type": "stream",
     "text": [
      "100%|██████████| 943/943 [04:53<00:00,  3.21it/s]\n"
     ]
    },
    {
     "name": "stdout",
     "output_type": "stream",
     "text": [
      "Top-50 accuracy: 0.8197242841993637\n"
     ]
    },
    {
     "name": "stderr",
     "output_type": "stream",
     "text": [
      "100%|██████████| 943/943 [00:00<00:00, 18591.14it/s]\n"
     ]
    },
    {
     "name": "stdout",
     "output_type": "stream",
     "text": [
      "Top-1 accuracy: 0.009544008483563097\n"
     ]
    },
    {
     "name": "stderr",
     "output_type": "stream",
     "text": [
      "100%|██████████| 943/943 [00:00<00:00, 19312.64it/s]\n"
     ]
    },
    {
     "name": "stdout",
     "output_type": "stream",
     "text": [
      "Top-5 accuracy: 0.04029692470837752\n"
     ]
    },
    {
     "name": "stderr",
     "output_type": "stream",
     "text": [
      "100%|██████████| 943/943 [00:00<00:00, 19183.28it/s]\n"
     ]
    },
    {
     "name": "stdout",
     "output_type": "stream",
     "text": [
      "Top-10 accuracy: 0.05726405090137858\n"
     ]
    },
    {
     "name": "stderr",
     "output_type": "stream",
     "text": [
      "100%|██████████| 943/943 [00:00<00:00, 19703.14it/s]\n"
     ]
    },
    {
     "name": "stdout",
     "output_type": "stream",
     "text": [
      "Top-15 accuracy: 0.08589607635206786\n"
     ]
    },
    {
     "name": "stderr",
     "output_type": "stream",
     "text": [
      "100%|██████████| 943/943 [00:00<00:00, 19744.26it/s]\n"
     ]
    },
    {
     "name": "stdout",
     "output_type": "stream",
     "text": [
      "Top-20 accuracy: 0.12937433722163308\n"
     ]
    },
    {
     "name": "stderr",
     "output_type": "stream",
     "text": [
      "100%|██████████| 943/943 [00:00<00:00, 19497.72it/s]\n"
     ]
    },
    {
     "name": "stdout",
     "output_type": "stream",
     "text": [
      "Top-25 accuracy: 0.1728525980911983\n"
     ]
    },
    {
     "name": "stderr",
     "output_type": "stream",
     "text": [
      "100%|██████████| 943/943 [00:00<00:00, 16811.02it/s]\n"
     ]
    },
    {
     "name": "stdout",
     "output_type": "stream",
     "text": [
      "Top-30 accuracy: 0.21845174973488865\n",
      "cross-encoder/quora-roberta-large\n"
     ]
    },
    {
     "name": "stderr",
     "output_type": "stream",
     "text": [
      "100%|██████████| 943/943 [12:37<00:00,  1.24it/s]\n"
     ]
    },
    {
     "name": "stdout",
     "output_type": "stream",
     "text": [
      "Top-50 accuracy: 0.8197242841993637\n"
     ]
    },
    {
     "name": "stderr",
     "output_type": "stream",
     "text": [
      "100%|██████████| 943/943 [00:00<00:00, 19857.56it/s]\n"
     ]
    },
    {
     "name": "stdout",
     "output_type": "stream",
     "text": [
      "Top-1 accuracy: 0.17179215270413573\n"
     ]
    },
    {
     "name": "stderr",
     "output_type": "stream",
     "text": [
      "100%|██████████| 943/943 [00:00<00:00, 21113.13it/s]\n"
     ]
    },
    {
     "name": "stdout",
     "output_type": "stream",
     "text": [
      "Top-5 accuracy: 0.383881230116649\n"
     ]
    },
    {
     "name": "stderr",
     "output_type": "stream",
     "text": [
      "100%|██████████| 943/943 [00:00<00:00, 20303.32it/s]\n"
     ]
    },
    {
     "name": "stdout",
     "output_type": "stream",
     "text": [
      "Top-10 accuracy: 0.48568398727465534\n"
     ]
    },
    {
     "name": "stderr",
     "output_type": "stream",
     "text": [
      "100%|██████████| 943/943 [00:00<00:00, 19517.34it/s]\n"
     ]
    },
    {
     "name": "stdout",
     "output_type": "stream",
     "text": [
      "Top-15 accuracy: 0.5673382820784729\n"
     ]
    },
    {
     "name": "stderr",
     "output_type": "stream",
     "text": [
      "100%|██████████| 943/943 [00:00<00:00, 21288.48it/s]\n"
     ]
    },
    {
     "name": "stdout",
     "output_type": "stream",
     "text": [
      "Top-20 accuracy: 0.6277836691410392\n"
     ]
    },
    {
     "name": "stderr",
     "output_type": "stream",
     "text": [
      "100%|██████████| 943/943 [00:00<00:00, 21553.32it/s]\n"
     ]
    },
    {
     "name": "stdout",
     "output_type": "stream",
     "text": [
      "Top-25 accuracy: 0.6818663838812301\n"
     ]
    },
    {
     "name": "stderr",
     "output_type": "stream",
     "text": [
      "100%|██████████| 943/943 [00:00<00:00, 21718.18it/s]\n"
     ]
    },
    {
     "name": "stdout",
     "output_type": "stream",
     "text": [
      "Top-30 accuracy: 0.7242841993637328\n"
     ]
    }
   ],
   "source": [
    "for model_name in model_names:\n",
    "    print(model_name)\n",
    "    model = CrossEncoder(model_name, device=device, max_length=512)\n",
    "\n",
    "    save_right_index = {}\n",
    "    save_wrong_index = {}\n",
    "    bm25_and_cross_encoder_final_top_k_indices = []\n",
    "\n",
    "    for final_top_k in [50]:\n",
    "        correct = 0\n",
    "        save_right_index[final_top_k] = {}\n",
    "        save_wrong_index[final_top_k] = {}\n",
    "        \n",
    "        for idx, file in enumerate(tqdm(files)):\n",
    "            with open(os.path.join(root_path, file), 'r', encoding=\"UTF-8\") as j:\n",
    "                caption = json.load(j)\n",
    "            \n",
    "            final_top_k_indices = dpr_initial_search_and_rerank(caption['outputs'], idx, top_k=50)\n",
    "            bm25_and_cross_encoder_final_top_k_indices.append(final_top_k_indices)\n",
    "            \n",
    "            answer = file.split('_')[2]\n",
    "            if answer[0] == 'Y':\n",
    "                answer_index = int(answer[2:]) - 1\n",
    "            elif answer[0] == 'N':\n",
    "                answer_index = int(answer[2:]) + 49\n",
    "                \n",
    "            rank = find_rank_of_answer_in_results(final_top_k_indices, answer_index)\n",
    "\n",
    "            if rank <= final_top_k and rank != -1:\n",
    "                correct += 1\n",
    "                save_right_index[final_top_k][idx] = final_top_k_indices\n",
    "            else:\n",
    "                save_wrong_index[final_top_k][idx] = final_top_k_indices\n",
    "\n",
    "        print(f\"Top-{final_top_k} accuracy:\", correct / len(files))\n",
    "        \n",
    "    for final_top_k in [1, 5, 10, 15, 20, 25, 30]:\n",
    "        correct = 0\n",
    "        \n",
    "        for idx, file in enumerate(tqdm(files)):\n",
    "            with open(os.path.join(root_path, file), 'r', encoding=\"UTF-8\") as j:\n",
    "                caption = json.load(j)\n",
    "            \n",
    "            final_top_k_indices = bm25_and_cross_encoder_final_top_k_indices[idx]\n",
    "\n",
    "            answer = file.split('_')[2]\n",
    "            if answer[0] == 'Y':\n",
    "                answer_index = int(answer[2:]) - 1\n",
    "            elif answer[0] == 'N':\n",
    "                answer_index = int(answer[2:]) + 49\n",
    "                \n",
    "            rank = find_rank_of_answer_in_results(final_top_k_indices, answer_index)\n",
    "\n",
    "            if rank <= final_top_k and rank != -1:\n",
    "                correct += 1\n",
    "\n",
    "        print(f\"Top-{final_top_k} accuracy:\", correct / len(files))"
   ]
  },
  {
   "cell_type": "code",
   "execution_count": 9,
   "metadata": {},
   "outputs": [],
   "source": [
    "from rank_bm25 import BM25Okapi\n",
    "from nltk.tokenize import word_tokenize\n",
    "import nltk\n",
    "\n",
    "def tokenize(text):\n",
    "    return word_tokenize(text.lower())\n",
    "\n",
    "tokenized_rules = [tokenize(rule) for rule in combined_rules]\n",
    "\n",
    "# BM25 모델 생성\n",
    "bm25 = BM25Okapi(tokenized_rules)"
   ]
  },
  {
   "cell_type": "code",
   "execution_count": 10,
   "metadata": {},
   "outputs": [],
   "source": [
    "def bm25_initial_search_and_rerank(query, top_k=50):\n",
    "    tokenized_query = tokenize(query)\n",
    "    initial_top_k_scores = bm25.get_scores(tokenized_query)\n",
    "    initial_top_k_indices =  np.argsort(initial_top_k_scores)[::-1][:top_k]\n",
    "    initial_top_k_docs = [combined_rules[i] for i in initial_top_k_indices]\n",
    "    \n",
    "    sentence_combinations = [[query, doc] for doc in initial_top_k_docs]\n",
    "    reranked_scores = model.predict(sentence_combinations)\n",
    "    reranked_indices = np.argsort(reranked_scores)[::-1]\n",
    "    final_top_k_indices = [initial_top_k_indices[i] for i in reranked_indices]\n",
    "    \n",
    "    return final_top_k_indices"
   ]
  },
  {
   "cell_type": "code",
   "execution_count": 11,
   "metadata": {},
   "outputs": [
    {
     "name": "stdout",
     "output_type": "stream",
     "text": [
      "cross-encoder/qnli-electra-base\n"
     ]
    },
    {
     "name": "stderr",
     "output_type": "stream",
     "text": [
      "100%|██████████| 943/943 [04:32<00:00,  3.46it/s]\n"
     ]
    },
    {
     "name": "stdout",
     "output_type": "stream",
     "text": [
      "Top-50 accuracy: 0.9406150583244963\n"
     ]
    },
    {
     "name": "stderr",
     "output_type": "stream",
     "text": [
      "100%|██████████| 943/943 [00:00<00:00, 18180.95it/s]\n"
     ]
    },
    {
     "name": "stdout",
     "output_type": "stream",
     "text": [
      "Top-1 accuracy: 0.010604453870625663\n"
     ]
    },
    {
     "name": "stderr",
     "output_type": "stream",
     "text": [
      "100%|██████████| 943/943 [00:00<00:00, 19012.32it/s]\n"
     ]
    },
    {
     "name": "stdout",
     "output_type": "stream",
     "text": [
      "Top-5 accuracy: 0.043478260869565216\n"
     ]
    },
    {
     "name": "stderr",
     "output_type": "stream",
     "text": [
      "100%|██████████| 943/943 [00:00<00:00, 18735.30it/s]\n"
     ]
    },
    {
     "name": "stdout",
     "output_type": "stream",
     "text": [
      "Top-10 accuracy: 0.07211028632025451\n"
     ]
    },
    {
     "name": "stderr",
     "output_type": "stream",
     "text": [
      "100%|██████████| 943/943 [00:00<00:00, 18758.23it/s]\n"
     ]
    },
    {
     "name": "stdout",
     "output_type": "stream",
     "text": [
      "Top-15 accuracy: 0.10604453870625663\n"
     ]
    },
    {
     "name": "stderr",
     "output_type": "stream",
     "text": [
      "100%|██████████| 943/943 [00:00<00:00, 19344.28it/s]\n"
     ]
    },
    {
     "name": "stdout",
     "output_type": "stream",
     "text": [
      "Top-20 accuracy: 0.1569459172852598\n"
     ]
    },
    {
     "name": "stderr",
     "output_type": "stream",
     "text": [
      "100%|██████████| 943/943 [00:00<00:00, 19446.72it/s]\n"
     ]
    },
    {
     "name": "stdout",
     "output_type": "stream",
     "text": [
      "Top-25 accuracy: 0.19936373276776245\n"
     ]
    },
    {
     "name": "stderr",
     "output_type": "stream",
     "text": [
      "100%|██████████| 943/943 [00:00<00:00, 18896.24it/s]\n"
     ]
    },
    {
     "name": "stdout",
     "output_type": "stream",
     "text": [
      "Top-30 accuracy: 0.2545068928950159\n",
      "cross-encoder/quora-roberta-large\n"
     ]
    },
    {
     "name": "stderr",
     "output_type": "stream",
     "text": [
      "100%|██████████| 943/943 [12:15<00:00,  1.28it/s]\n"
     ]
    },
    {
     "name": "stdout",
     "output_type": "stream",
     "text": [
      "Top-50 accuracy: 0.9406150583244963\n"
     ]
    },
    {
     "name": "stderr",
     "output_type": "stream",
     "text": [
      "100%|██████████| 943/943 [00:00<00:00, 22766.13it/s]\n"
     ]
    },
    {
     "name": "stdout",
     "output_type": "stream",
     "text": [
      "Top-1 accuracy: 0.16967126193001061\n"
     ]
    },
    {
     "name": "stderr",
     "output_type": "stream",
     "text": [
      "100%|██████████| 943/943 [00:00<00:00, 22177.03it/s]\n"
     ]
    },
    {
     "name": "stdout",
     "output_type": "stream",
     "text": [
      "Top-5 accuracy: 0.45705196182396607\n"
     ]
    },
    {
     "name": "stderr",
     "output_type": "stream",
     "text": [
      "100%|██████████| 943/943 [00:00<00:00, 22384.37it/s]\n"
     ]
    },
    {
     "name": "stdout",
     "output_type": "stream",
     "text": [
      "Top-10 accuracy: 0.6002120890774125\n"
     ]
    },
    {
     "name": "stderr",
     "output_type": "stream",
     "text": [
      "100%|██████████| 943/943 [00:00<00:00, 22161.12it/s]\n"
     ]
    },
    {
     "name": "stdout",
     "output_type": "stream",
     "text": [
      "Top-15 accuracy: 0.6903499469777307\n"
     ]
    },
    {
     "name": "stderr",
     "output_type": "stream",
     "text": [
      "100%|██████████| 943/943 [00:00<00:00, 21610.56it/s]\n"
     ]
    },
    {
     "name": "stdout",
     "output_type": "stream",
     "text": [
      "Top-20 accuracy: 0.7348886532343585\n"
     ]
    },
    {
     "name": "stderr",
     "output_type": "stream",
     "text": [
      "100%|██████████| 943/943 [00:00<00:00, 22329.02it/s]\n"
     ]
    },
    {
     "name": "stdout",
     "output_type": "stream",
     "text": [
      "Top-25 accuracy: 0.7857900318133616\n"
     ]
    },
    {
     "name": "stderr",
     "output_type": "stream",
     "text": [
      "100%|██████████| 943/943 [00:00<00:00, 20898.50it/s]"
     ]
    },
    {
     "name": "stdout",
     "output_type": "stream",
     "text": [
      "Top-30 accuracy: 0.8144220572640509\n"
     ]
    },
    {
     "name": "stderr",
     "output_type": "stream",
     "text": [
      "\n"
     ]
    }
   ],
   "source": [
    "for model_name in model_names:\n",
    "    print(model_name)\n",
    "    model = CrossEncoder(model_name, device=device, max_length=512)\n",
    "\n",
    "    save_right_index = {}\n",
    "    save_wrong_index = {}\n",
    "    bm25_and_cross_encoder_final_top_k_indices = []\n",
    "\n",
    "    for final_top_k in [50]:\n",
    "        correct = 0\n",
    "        save_right_index[final_top_k] = {}\n",
    "        save_wrong_index[final_top_k] = {}\n",
    "        \n",
    "        for idx, file in enumerate(tqdm(files)):\n",
    "            with open(os.path.join(root_path, file), 'r', encoding=\"UTF-8\") as j:\n",
    "                caption = json.load(j)\n",
    "            \n",
    "            final_top_k_indices = bm25_initial_search_and_rerank(caption['outputs'], top_k=50)\n",
    "            bm25_and_cross_encoder_final_top_k_indices.append(final_top_k_indices)\n",
    "            \n",
    "            answer = file.split('_')[2]\n",
    "            if answer[0] == 'Y':\n",
    "                answer_index = int(answer[2:]) - 1\n",
    "            elif answer[0] == 'N':\n",
    "                answer_index = int(answer[2:]) + 49\n",
    "                \n",
    "            rank = find_rank_of_answer_in_results(final_top_k_indices, answer_index)\n",
    "\n",
    "            if rank <= final_top_k and rank != -1:\n",
    "                correct += 1\n",
    "                save_right_index[final_top_k][idx] = final_top_k_indices\n",
    "            else:\n",
    "                save_wrong_index[final_top_k][idx] = final_top_k_indices\n",
    "\n",
    "        print(f\"Top-{final_top_k} accuracy:\", correct / len(files))\n",
    "        \n",
    "    for final_top_k in [1, 5, 10, 15, 20, 25, 30]:\n",
    "        correct = 0\n",
    "        \n",
    "        for idx, file in enumerate(tqdm(files)):\n",
    "            with open(os.path.join(root_path, file), 'r', encoding=\"UTF-8\") as j:\n",
    "                caption = json.load(j)\n",
    "            \n",
    "            final_top_k_indices = bm25_and_cross_encoder_final_top_k_indices[idx]\n",
    "\n",
    "            answer = file.split('_')[2]\n",
    "            if answer[0] == 'Y':\n",
    "                answer_index = int(answer[2:]) - 1\n",
    "            elif answer[0] == 'N':\n",
    "                answer_index = int(answer[2:]) + 49\n",
    "                \n",
    "            rank = find_rank_of_answer_in_results(final_top_k_indices, answer_index)\n",
    "\n",
    "            if rank <= final_top_k and rank != -1:\n",
    "                correct += 1\n",
    "\n",
    "        print(f\"Top-{final_top_k} accuracy:\", correct / len(files))"
   ]
  },
  {
   "cell_type": "code",
   "execution_count": null,
   "metadata": {},
   "outputs": [],
   "source": []
  }
 ],
 "metadata": {
  "kernelspec": {
   "display_name": "leh",
   "language": "python",
   "name": "python3"
  },
  "language_info": {
   "codemirror_mode": {
    "name": "ipython",
    "version": 3
   },
   "file_extension": ".py",
   "mimetype": "text/x-python",
   "name": "python",
   "nbconvert_exporter": "python",
   "pygments_lexer": "ipython3",
   "version": "3.10.14"
  }
 },
 "nbformat": 4,
 "nbformat_minor": 2
}
