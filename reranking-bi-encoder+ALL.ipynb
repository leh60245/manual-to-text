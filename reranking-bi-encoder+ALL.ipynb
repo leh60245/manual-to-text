{
 "cells": [
  {
   "cell_type": "code",
   "execution_count": 1,
   "metadata": {},
   "outputs": [],
   "source": [
    "import json\n",
    "import os\n",
    "from tqdm import tqdm\n",
    "import numpy as np\n",
    "import torch\n",
    "from sentence_transformers import SentenceTransformer, util\n",
    "from sentence_transformers.cross_encoder import CrossEncoder\n",
    "\n",
    "# GPU 설정\n",
    "device = torch.device('cuda:0' if torch.cuda.is_available() else 'cpu')"
   ]
  },
  {
   "cell_type": "code",
   "execution_count": 2,
   "metadata": {},
   "outputs": [],
   "source": [
    "# Rule load = document = corpus\n",
    "data = 'data/aihub_rules_prev.json'\n",
    "with open(data, 'r', encoding=\"UTF-8\") as j:\n",
    "    aihub_rule = json.load(j)\n",
    "\n",
    "normal_rule = aihub_rule['normal']\n",
    "abnormal_rule = aihub_rule['abnormal']\n",
    "combined_rules = normal_rule + abnormal_rule"
   ]
  },
  {
   "cell_type": "code",
   "execution_count": 3,
   "metadata": {},
   "outputs": [
    {
     "name": "stderr",
     "output_type": "stream",
     "text": [
      "100%|██████████| 943/943 [00:00<00:00, 24657.92it/s]\n"
     ]
    }
   ],
   "source": [
    "# Caption load = discreption = query\n",
    "root_path = '/data1/sliver/jwsuh/construction_dataset/aihub/llava/llava_image_result_with_obj'\n",
    "files = sorted([i for i in os.listdir(root_path) if i.endswith('.json')])\n",
    "\n",
    "files_captions = []\n",
    "for idx, file in enumerate(tqdm(files)):\n",
    "    with open(os.path.join(root_path, file), 'r', encoding=\"UTF-8\") as j:\n",
    "        caption = json.load(j)['outputs']\n",
    "    files_captions.append(caption)\n",
    "    "
   ]
  },
  {
   "cell_type": "code",
   "execution_count": 4,
   "metadata": {},
   "outputs": [],
   "source": [
    "def find_rank_of_answer_in_results(final_indices, answer_index):\n",
    "    try:\n",
    "        return final_indices.index(answer_index) + 1\n",
    "    except ValueError:\n",
    "        return -1"
   ]
  },
  {
   "cell_type": "code",
   "execution_count": null,
   "metadata": {},
   "outputs": [],
   "source": [
    "embedder_names = [\"all-MiniLM-L6-v2\", \"all-distilroberta-v1\", \"multi-qa-mpnet-base-dot-v1\", \"msmarco-bert-base-dot-v5\"]\n",
    "model_names = [\"cross-encoder/ms-marco-MiniLM-L-12-v2\", \"cross-encoder/stsb-roberta-large\", \"cross-encoder/qnli-electra-base\", \"cross-encoder/quora-roberta-large\"]\n",
    "\n",
    "for embedder_name in embedder_names:\n",
    "    for model_name in model_names:\n",
    "        print(\"embedder_names:\", embedder_name)\n",
    "        print(\"model_names:\", model_name)\n",
    "        embedder = SentenceTransformer(embedder_name)  # 우선 임시로 사용할 모델\n",
    "\n",
    "        corpus_embeddings = embedder.encode(combined_rules, convert_to_tensor=True)\n",
    "        query_embedding = embedder.encode(files_captions, convert_to_tensor=True)\n",
    "\n",
    "        model = CrossEncoder(model_name, device=device, max_length=512)\n",
    "\n",
    "        save_right_index = {}\n",
    "        save_wrong_index = {}\n",
    "        biencoder_and_cross_encoder_final_top_k_indices = []\n",
    "\n",
    "        for final_top_k in [50]:\n",
    "            correct = 0\n",
    "            save_right_index[final_top_k] = {}\n",
    "            save_wrong_index[final_top_k] = {}\n",
    "            \n",
    "            for idx, file in enumerate(tqdm(files)):\n",
    "                with open(os.path.join(root_path, file), 'r', encoding=\"UTF-8\") as j:\n",
    "                    caption = json.load(j)\n",
    "                \n",
    "                tokenized_query = query_embedding[idx]\n",
    "                initial_top_k_scores = util.dot_score(tokenized_query, corpus_embeddings)[0]\n",
    "                top_results =  torch.topk(initial_top_k_scores, k=50)\n",
    "                initial_top_k_docs = [combined_rules[i] for i in top_results[1]]\n",
    "                \n",
    "                sentence_combinations = [[caption['outputs'], doc] for doc in initial_top_k_docs]\n",
    "                reranked_scores = model.predict(sentence_combinations)\n",
    "                reranked_indices = np.argsort(reranked_scores)[::-1]\n",
    "                final_top_k_indices = [top_results[1][i] for i in reranked_indices]\n",
    "                \n",
    "                biencoder_and_cross_encoder_final_top_k_indices.append(final_top_k_indices)\n",
    "                \n",
    "                answer = file.split('_')[2]\n",
    "                if answer[0] == 'Y':\n",
    "                    answer_index = int(answer[2:]) - 1\n",
    "                elif answer[0] == 'N':\n",
    "                    answer_index = int(answer[2:]) + 49\n",
    "                    \n",
    "                rank = find_rank_of_answer_in_results(final_top_k_indices, answer_index)\n",
    "\n",
    "                if rank <= final_top_k and rank != -1:\n",
    "                    correct += 1\n",
    "                    save_right_index[final_top_k][idx] = final_top_k_indices\n",
    "                else:\n",
    "                    save_wrong_index[final_top_k][idx] = final_top_k_indices\n",
    "\n",
    "            print(f\"Top-{final_top_k} accuracy:\", correct / len(files))\n",
    "            \n",
    "        for final_top_k in [1, 5, 10, 15, 20, 25, 30]:\n",
    "            correct = 0\n",
    "            \n",
    "            for idx, file in enumerate(tqdm(files)):\n",
    "                with open(os.path.join(root_path, file), 'r', encoding=\"UTF-8\") as j:\n",
    "                    caption = json.load(j)\n",
    "                \n",
    "                final_top_k_indices = biencoder_and_cross_encoder_final_top_k_indices[idx]\n",
    "\n",
    "                answer = file.split('_')[2]\n",
    "                if answer[0] == 'Y':\n",
    "                    answer_index = int(answer[2:]) - 1\n",
    "                elif answer[0] == 'N':\n",
    "                    answer_index = int(answer[2:]) + 49\n",
    "                    \n",
    "                rank = find_rank_of_answer_in_results(final_top_k_indices, answer_index)\n",
    "\n",
    "                if rank <= final_top_k and rank != -1:\n",
    "                    correct += 1\n",
    "\n",
    "            print(f\"Top-{final_top_k} accuracy:\", correct / len(files))"
   ]
  },
  {
   "cell_type": "code",
   "execution_count": 5,
   "metadata": {},
   "outputs": [
    {
     "name": "stdout",
     "output_type": "stream",
     "text": [
      "embedder_names: msmarco-distilbert-base-v4\n",
      "model_names: cross-encoder/ms-marco-MiniLM-L-12-v2\n"
     ]
    },
    {
     "name": "stderr",
     "output_type": "stream",
     "text": [
      "100%|██████████| 943/943 [02:15<00:00,  6.96it/s]\n"
     ]
    },
    {
     "name": "stdout",
     "output_type": "stream",
     "text": [
      "Top-50 accuracy: 0.9469777306468717\n"
     ]
    },
    {
     "name": "stderr",
     "output_type": "stream",
     "text": [
      "100%|██████████| 943/943 [00:00<00:00, 1146.63it/s]\n"
     ]
    },
    {
     "name": "stdout",
     "output_type": "stream",
     "text": [
      "Top-1 accuracy: 0.0911983032873807\n"
     ]
    },
    {
     "name": "stderr",
     "output_type": "stream",
     "text": [
      "100%|██████████| 943/943 [00:00<00:00, 1153.58it/s]\n"
     ]
    },
    {
     "name": "stdout",
     "output_type": "stream",
     "text": [
      "Top-5 accuracy: 0.27465535524920465\n"
     ]
    },
    {
     "name": "stderr",
     "output_type": "stream",
     "text": [
      "100%|██████████| 943/943 [00:00<00:00, 1191.49it/s]\n"
     ]
    },
    {
     "name": "stdout",
     "output_type": "stream",
     "text": [
      "Top-10 accuracy: 0.37857900318133614\n"
     ]
    },
    {
     "name": "stderr",
     "output_type": "stream",
     "text": [
      "100%|██████████| 943/943 [00:00<00:00, 1210.86it/s]\n"
     ]
    },
    {
     "name": "stdout",
     "output_type": "stream",
     "text": [
      "Top-15 accuracy: 0.43902439024390244\n"
     ]
    },
    {
     "name": "stderr",
     "output_type": "stream",
     "text": [
      "100%|██████████| 943/943 [00:00<00:00, 1239.79it/s]\n"
     ]
    },
    {
     "name": "stdout",
     "output_type": "stream",
     "text": [
      "Top-20 accuracy: 0.49204665959703076\n"
     ]
    },
    {
     "name": "stderr",
     "output_type": "stream",
     "text": [
      "100%|██████████| 943/943 [00:00<00:00, 1221.61it/s]\n"
     ]
    },
    {
     "name": "stdout",
     "output_type": "stream",
     "text": [
      "Top-25 accuracy: 0.5503711558854719\n"
     ]
    },
    {
     "name": "stderr",
     "output_type": "stream",
     "text": [
      "100%|██████████| 943/943 [00:00<00:00, 1211.47it/s]\n"
     ]
    },
    {
     "name": "stdout",
     "output_type": "stream",
     "text": [
      "Top-30 accuracy: 0.6076352067868505\n",
      "embedder_names: msmarco-distilbert-base-v4\n",
      "model_names: cross-encoder/stsb-roberta-large\n"
     ]
    },
    {
     "name": "stderr",
     "output_type": "stream",
     "text": [
      "100%|██████████| 943/943 [11:55<00:00,  1.32it/s]\n"
     ]
    },
    {
     "name": "stdout",
     "output_type": "stream",
     "text": [
      "Top-50 accuracy: 0.9469777306468717\n"
     ]
    },
    {
     "name": "stderr",
     "output_type": "stream",
     "text": [
      "100%|██████████| 943/943 [00:00<00:00, 1982.34it/s]\n"
     ]
    },
    {
     "name": "stdout",
     "output_type": "stream",
     "text": [
      "Top-1 accuracy: 0.20784729586426298\n"
     ]
    },
    {
     "name": "stderr",
     "output_type": "stream",
     "text": [
      "100%|██████████| 943/943 [00:00<00:00, 2103.31it/s]\n"
     ]
    },
    {
     "name": "stdout",
     "output_type": "stream",
     "text": [
      "Top-5 accuracy: 0.4740190880169671\n"
     ]
    },
    {
     "name": "stderr",
     "output_type": "stream",
     "text": [
      "100%|██████████| 943/943 [00:00<00:00, 1972.04it/s]\n"
     ]
    },
    {
     "name": "stdout",
     "output_type": "stream",
     "text": [
      "Top-10 accuracy: 0.591728525980912\n"
     ]
    },
    {
     "name": "stderr",
     "output_type": "stream",
     "text": [
      "100%|██████████| 943/943 [00:00<00:00, 1951.23it/s]\n"
     ]
    },
    {
     "name": "stdout",
     "output_type": "stream",
     "text": [
      "Top-15 accuracy: 0.6765641569459173\n"
     ]
    },
    {
     "name": "stderr",
     "output_type": "stream",
     "text": [
      "100%|██████████| 943/943 [00:00<00:00, 1993.65it/s]\n"
     ]
    },
    {
     "name": "stdout",
     "output_type": "stream",
     "text": [
      "Top-20 accuracy: 0.7423117709437964\n"
     ]
    },
    {
     "name": "stderr",
     "output_type": "stream",
     "text": [
      "100%|██████████| 943/943 [00:00<00:00, 1988.35it/s]\n"
     ]
    },
    {
     "name": "stdout",
     "output_type": "stream",
     "text": [
      "Top-25 accuracy: 0.8038176033934252\n"
     ]
    },
    {
     "name": "stderr",
     "output_type": "stream",
     "text": [
      "100%|██████████| 943/943 [00:00<00:00, 1983.11it/s]\n"
     ]
    },
    {
     "name": "stdout",
     "output_type": "stream",
     "text": [
      "Top-30 accuracy: 0.8568398727465536\n",
      "embedder_names: msmarco-distilbert-base-v4\n",
      "model_names: cross-encoder/qnli-electra-base\n"
     ]
    },
    {
     "name": "stderr",
     "output_type": "stream",
     "text": [
      "100%|██████████| 943/943 [04:15<00:00,  3.69it/s]\n"
     ]
    },
    {
     "name": "stdout",
     "output_type": "stream",
     "text": [
      "Top-50 accuracy: 0.9469777306468717\n"
     ]
    },
    {
     "name": "stderr",
     "output_type": "stream",
     "text": [
      "100%|██████████| 943/943 [00:01<00:00, 756.50it/s]\n"
     ]
    },
    {
     "name": "stdout",
     "output_type": "stream",
     "text": [
      "Top-1 accuracy: 0.010604453870625663\n"
     ]
    },
    {
     "name": "stderr",
     "output_type": "stream",
     "text": [
      "100%|██████████| 943/943 [00:01<00:00, 780.85it/s]\n"
     ]
    },
    {
     "name": "stdout",
     "output_type": "stream",
     "text": [
      "Top-5 accuracy: 0.05090137857900318\n"
     ]
    },
    {
     "name": "stderr",
     "output_type": "stream",
     "text": [
      "100%|██████████| 943/943 [00:01<00:00, 776.22it/s]\n"
     ]
    },
    {
     "name": "stdout",
     "output_type": "stream",
     "text": [
      "Top-10 accuracy: 0.07741251325556733\n"
     ]
    },
    {
     "name": "stderr",
     "output_type": "stream",
     "text": [
      "100%|██████████| 943/943 [00:01<00:00, 798.96it/s]\n"
     ]
    },
    {
     "name": "stdout",
     "output_type": "stream",
     "text": [
      "Top-15 accuracy: 0.11983032873807\n"
     ]
    },
    {
     "name": "stderr",
     "output_type": "stream",
     "text": [
      "100%|██████████| 943/943 [00:01<00:00, 785.01it/s]\n"
     ]
    },
    {
     "name": "stdout",
     "output_type": "stream",
     "text": [
      "Top-20 accuracy: 0.17709437963944857\n"
     ]
    },
    {
     "name": "stderr",
     "output_type": "stream",
     "text": [
      "100%|██████████| 943/943 [00:01<00:00, 762.38it/s]\n"
     ]
    },
    {
     "name": "stdout",
     "output_type": "stream",
     "text": [
      "Top-25 accuracy: 0.22799575821845175\n"
     ]
    },
    {
     "name": "stderr",
     "output_type": "stream",
     "text": [
      "100%|██████████| 943/943 [00:01<00:00, 762.38it/s]\n"
     ]
    },
    {
     "name": "stdout",
     "output_type": "stream",
     "text": [
      "Top-30 accuracy: 0.29374337221633084\n",
      "embedder_names: msmarco-distilbert-base-v4\n",
      "model_names: cross-encoder/quora-roberta-large\n"
     ]
    },
    {
     "name": "stderr",
     "output_type": "stream",
     "text": [
      "100%|██████████| 943/943 [11:54<00:00,  1.32it/s]\n"
     ]
    },
    {
     "name": "stdout",
     "output_type": "stream",
     "text": [
      "Top-50 accuracy: 0.9469777306468717\n"
     ]
    },
    {
     "name": "stderr",
     "output_type": "stream",
     "text": [
      "100%|██████████| 943/943 [00:00<00:00, 1791.80it/s]\n"
     ]
    },
    {
     "name": "stdout",
     "output_type": "stream",
     "text": [
      "Top-1 accuracy: 0.1633085896076352\n"
     ]
    },
    {
     "name": "stderr",
     "output_type": "stream",
     "text": [
      "100%|██████████| 943/943 [00:00<00:00, 1813.75it/s]\n"
     ]
    },
    {
     "name": "stdout",
     "output_type": "stream",
     "text": [
      "Top-5 accuracy: 0.42948038176033937\n"
     ]
    },
    {
     "name": "stderr",
     "output_type": "stream",
     "text": [
      "100%|██████████| 943/943 [00:00<00:00, 1740.36it/s]\n"
     ]
    },
    {
     "name": "stdout",
     "output_type": "stream",
     "text": [
      "Top-10 accuracy: 0.545068928950159\n"
     ]
    },
    {
     "name": "stderr",
     "output_type": "stream",
     "text": [
      "100%|██████████| 943/943 [00:00<00:00, 1804.45it/s]\n"
     ]
    },
    {
     "name": "stdout",
     "output_type": "stream",
     "text": [
      "Top-15 accuracy: 0.6352067868504772\n"
     ]
    },
    {
     "name": "stderr",
     "output_type": "stream",
     "text": [
      "100%|██████████| 943/943 [00:00<00:00, 1856.22it/s]\n"
     ]
    },
    {
     "name": "stdout",
     "output_type": "stream",
     "text": [
      "Top-20 accuracy: 0.704135737009544\n"
     ]
    },
    {
     "name": "stderr",
     "output_type": "stream",
     "text": [
      "100%|██████████| 943/943 [00:00<00:00, 1819.67it/s]\n"
     ]
    },
    {
     "name": "stdout",
     "output_type": "stream",
     "text": [
      "Top-25 accuracy: 0.7709437963944857\n"
     ]
    },
    {
     "name": "stderr",
     "output_type": "stream",
     "text": [
      "100%|██████████| 943/943 [00:00<00:00, 1839.70it/s]"
     ]
    },
    {
     "name": "stdout",
     "output_type": "stream",
     "text": [
      "Top-30 accuracy: 0.8207847295864263\n"
     ]
    },
    {
     "name": "stderr",
     "output_type": "stream",
     "text": [
      "\n"
     ]
    }
   ],
   "source": [
    "embedder_names = [\"msmarco-distilbert-base-v4\"]\n",
    "model_names = [\"cross-encoder/ms-marco-MiniLM-L-12-v2\", \"cross-encoder/stsb-roberta-large\", \"cross-encoder/qnli-electra-base\", \"cross-encoder/quora-roberta-large\"]\n",
    "\n",
    "for embedder_name in embedder_names:\n",
    "    for model_name in model_names:\n",
    "        print(\"embedder_names:\", embedder_name)\n",
    "        print(\"model_names:\", model_name)\n",
    "        embedder = SentenceTransformer(embedder_name)  # 우선 임시로 사용할 모델\n",
    "\n",
    "        corpus_embeddings = embedder.encode(combined_rules, convert_to_tensor=True)\n",
    "        query_embedding = embedder.encode(files_captions, convert_to_tensor=True)\n",
    "\n",
    "        model = CrossEncoder(model_name, device=device, max_length=512)\n",
    "\n",
    "        save_right_index = {}\n",
    "        save_wrong_index = {}\n",
    "        biencoder_and_cross_encoder_final_top_k_indices = []\n",
    "\n",
    "        for final_top_k in [50]:\n",
    "            correct = 0\n",
    "            save_right_index[final_top_k] = {}\n",
    "            save_wrong_index[final_top_k] = {}\n",
    "            \n",
    "            for idx, file in enumerate(tqdm(files)):\n",
    "                with open(os.path.join(root_path, file), 'r', encoding=\"UTF-8\") as j:\n",
    "                    caption = json.load(j)\n",
    "                \n",
    "                tokenized_query = query_embedding[idx]\n",
    "                initial_top_k_scores = util.cos_sim(tokenized_query, corpus_embeddings)[0]\n",
    "                top_results =  torch.topk(initial_top_k_scores, k=50)\n",
    "                initial_top_k_docs = [combined_rules[i] for i in top_results[1]]\n",
    "                \n",
    "                sentence_combinations = [[caption['outputs'], doc] for doc in initial_top_k_docs]\n",
    "                reranked_scores = model.predict(sentence_combinations)\n",
    "                reranked_indices = np.argsort(reranked_scores)[::-1]\n",
    "                final_top_k_indices = [top_results[1][i] for i in reranked_indices]\n",
    "                \n",
    "                biencoder_and_cross_encoder_final_top_k_indices.append(final_top_k_indices)\n",
    "                \n",
    "                answer = file.split('_')[2]\n",
    "                if answer[0] == 'Y':\n",
    "                    answer_index = int(answer[2:]) - 1\n",
    "                elif answer[0] == 'N':\n",
    "                    answer_index = int(answer[2:]) + 49\n",
    "                    \n",
    "                rank = find_rank_of_answer_in_results(final_top_k_indices, answer_index)\n",
    "\n",
    "                if rank <= final_top_k and rank != -1:\n",
    "                    correct += 1\n",
    "                    save_right_index[final_top_k][idx] = final_top_k_indices\n",
    "                else:\n",
    "                    save_wrong_index[final_top_k][idx] = final_top_k_indices\n",
    "\n",
    "            print(f\"Top-{final_top_k} accuracy:\", correct / len(files))\n",
    "            \n",
    "        for final_top_k in [1, 5, 10, 15, 20, 25, 30]:\n",
    "            correct = 0\n",
    "            \n",
    "            for idx, file in enumerate(tqdm(files)):\n",
    "                with open(os.path.join(root_path, file), 'r', encoding=\"UTF-8\") as j:\n",
    "                    caption = json.load(j)\n",
    "                \n",
    "                final_top_k_indices = biencoder_and_cross_encoder_final_top_k_indices[idx]\n",
    "\n",
    "                answer = file.split('_')[2]\n",
    "                if answer[0] == 'Y':\n",
    "                    answer_index = int(answer[2:]) - 1\n",
    "                elif answer[0] == 'N':\n",
    "                    answer_index = int(answer[2:]) + 49\n",
    "                    \n",
    "                rank = find_rank_of_answer_in_results(final_top_k_indices, answer_index)\n",
    "\n",
    "                if rank <= final_top_k and rank != -1:\n",
    "                    correct += 1\n",
    "\n",
    "            print(f\"Top-{final_top_k} accuracy:\", correct / len(files))"
   ]
  },
  {
   "cell_type": "code",
   "execution_count": 6,
   "metadata": {},
   "outputs": [
    {
     "name": "stdout",
     "output_type": "stream",
     "text": [
      "embedder_names: msmarco-distilbert-base-tas-b\n",
      "model_names: cross-encoder/ms-marco-MiniLM-L-12-v2\n"
     ]
    },
    {
     "name": "stderr",
     "output_type": "stream",
     "text": [
      "100%|██████████| 943/943 [02:14<00:00,  6.99it/s]\n"
     ]
    },
    {
     "name": "stdout",
     "output_type": "stream",
     "text": [
      "Top-50 accuracy: 0.9639448568398727\n"
     ]
    },
    {
     "name": "stderr",
     "output_type": "stream",
     "text": [
      "100%|██████████| 943/943 [00:00<00:00, 1091.39it/s]\n"
     ]
    },
    {
     "name": "stdout",
     "output_type": "stream",
     "text": [
      "Top-1 accuracy: 0.08907741251325557\n"
     ]
    },
    {
     "name": "stderr",
     "output_type": "stream",
     "text": [
      "100%|██████████| 943/943 [00:00<00:00, 1199.67it/s]\n"
     ]
    },
    {
     "name": "stdout",
     "output_type": "stream",
     "text": [
      "Top-5 accuracy: 0.2799575821845175\n"
     ]
    },
    {
     "name": "stderr",
     "output_type": "stream",
     "text": [
      "100%|██████████| 943/943 [00:00<00:00, 1196.33it/s]\n"
     ]
    },
    {
     "name": "stdout",
     "output_type": "stream",
     "text": [
      "Top-10 accuracy: 0.3711558854718982\n"
     ]
    },
    {
     "name": "stderr",
     "output_type": "stream",
     "text": [
      "100%|██████████| 943/943 [00:00<00:00, 1198.55it/s]\n"
     ]
    },
    {
     "name": "stdout",
     "output_type": "stream",
     "text": [
      "Top-15 accuracy: 0.44750795334040294\n"
     ]
    },
    {
     "name": "stderr",
     "output_type": "stream",
     "text": [
      "100%|██████████| 943/943 [00:00<00:00, 1214.35it/s]\n"
     ]
    },
    {
     "name": "stdout",
     "output_type": "stream",
     "text": [
      "Top-20 accuracy: 0.49946977730646874\n"
     ]
    },
    {
     "name": "stderr",
     "output_type": "stream",
     "text": [
      "100%|██████████| 943/943 [00:00<00:00, 1190.03it/s]\n"
     ]
    },
    {
     "name": "stdout",
     "output_type": "stream",
     "text": [
      "Top-25 accuracy: 0.5556733828207847\n"
     ]
    },
    {
     "name": "stderr",
     "output_type": "stream",
     "text": [
      "100%|██████████| 943/943 [00:00<00:00, 1265.07it/s]\n"
     ]
    },
    {
     "name": "stdout",
     "output_type": "stream",
     "text": [
      "Top-30 accuracy: 0.616118769883351\n",
      "embedder_names: msmarco-distilbert-base-tas-b\n",
      "model_names: cross-encoder/stsb-roberta-large\n"
     ]
    },
    {
     "name": "stderr",
     "output_type": "stream",
     "text": [
      "100%|██████████| 943/943 [11:55<00:00,  1.32it/s]\n"
     ]
    },
    {
     "name": "stdout",
     "output_type": "stream",
     "text": [
      "Top-50 accuracy: 0.9639448568398727\n"
     ]
    },
    {
     "name": "stderr",
     "output_type": "stream",
     "text": [
      "100%|██████████| 943/943 [00:00<00:00, 1986.10it/s]\n"
     ]
    },
    {
     "name": "stdout",
     "output_type": "stream",
     "text": [
      "Top-1 accuracy: 0.2067868504772004\n"
     ]
    },
    {
     "name": "stderr",
     "output_type": "stream",
     "text": [
      "100%|██████████| 943/943 [00:00<00:00, 2091.15it/s]\n"
     ]
    },
    {
     "name": "stdout",
     "output_type": "stream",
     "text": [
      "Top-5 accuracy: 0.4814422057264051\n"
     ]
    },
    {
     "name": "stderr",
     "output_type": "stream",
     "text": [
      "100%|██████████| 943/943 [00:00<00:00, 1974.94it/s]\n"
     ]
    },
    {
     "name": "stdout",
     "output_type": "stream",
     "text": [
      "Top-10 accuracy: 0.591728525980912\n"
     ]
    },
    {
     "name": "stderr",
     "output_type": "stream",
     "text": [
      "100%|██████████| 943/943 [00:00<00:00, 2051.11it/s]\n"
     ]
    },
    {
     "name": "stdout",
     "output_type": "stream",
     "text": [
      "Top-15 accuracy: 0.6808059384941676\n"
     ]
    },
    {
     "name": "stderr",
     "output_type": "stream",
     "text": [
      "100%|██████████| 943/943 [00:00<00:00, 2011.37it/s]\n"
     ]
    },
    {
     "name": "stdout",
     "output_type": "stream",
     "text": [
      "Top-20 accuracy: 0.7444326617179216\n"
     ]
    },
    {
     "name": "stderr",
     "output_type": "stream",
     "text": [
      "100%|██████████| 943/943 [00:00<00:00, 1819.81it/s]\n"
     ]
    },
    {
     "name": "stdout",
     "output_type": "stream",
     "text": [
      "Top-25 accuracy: 0.8048780487804879\n"
     ]
    },
    {
     "name": "stderr",
     "output_type": "stream",
     "text": [
      "100%|██████████| 943/943 [00:00<00:00, 2021.16it/s]\n"
     ]
    },
    {
     "name": "stdout",
     "output_type": "stream",
     "text": [
      "Top-30 accuracy: 0.8716861081654295\n",
      "embedder_names: msmarco-distilbert-base-tas-b\n",
      "model_names: cross-encoder/qnli-electra-base\n"
     ]
    },
    {
     "name": "stderr",
     "output_type": "stream",
     "text": [
      "100%|██████████| 943/943 [04:16<00:00,  3.68it/s]\n"
     ]
    },
    {
     "name": "stdout",
     "output_type": "stream",
     "text": [
      "Top-50 accuracy: 0.9639448568398727\n"
     ]
    },
    {
     "name": "stderr",
     "output_type": "stream",
     "text": [
      "100%|██████████| 943/943 [00:01<00:00, 811.60it/s]\n"
     ]
    },
    {
     "name": "stdout",
     "output_type": "stream",
     "text": [
      "Top-1 accuracy: 0.013785790031813362\n"
     ]
    },
    {
     "name": "stderr",
     "output_type": "stream",
     "text": [
      "100%|██████████| 943/943 [00:01<00:00, 805.68it/s]\n"
     ]
    },
    {
     "name": "stdout",
     "output_type": "stream",
     "text": [
      "Top-5 accuracy: 0.04665959703075292\n"
     ]
    },
    {
     "name": "stderr",
     "output_type": "stream",
     "text": [
      "100%|██████████| 943/943 [00:01<00:00, 777.83it/s]\n"
     ]
    },
    {
     "name": "stdout",
     "output_type": "stream",
     "text": [
      "Top-10 accuracy: 0.0784729586426299\n"
     ]
    },
    {
     "name": "stderr",
     "output_type": "stream",
     "text": [
      "100%|██████████| 943/943 [00:01<00:00, 787.20it/s]\n"
     ]
    },
    {
     "name": "stdout",
     "output_type": "stream",
     "text": [
      "Top-15 accuracy: 0.11876988335100742\n"
     ]
    },
    {
     "name": "stderr",
     "output_type": "stream",
     "text": [
      "100%|██████████| 943/943 [00:01<00:00, 769.91it/s]\n"
     ]
    },
    {
     "name": "stdout",
     "output_type": "stream",
     "text": [
      "Top-20 accuracy: 0.17815482502651114\n"
     ]
    },
    {
     "name": "stderr",
     "output_type": "stream",
     "text": [
      "100%|██████████| 943/943 [00:01<00:00, 791.72it/s]\n"
     ]
    },
    {
     "name": "stdout",
     "output_type": "stream",
     "text": [
      "Top-25 accuracy: 0.22799575821845175\n"
     ]
    },
    {
     "name": "stderr",
     "output_type": "stream",
     "text": [
      "100%|██████████| 943/943 [00:01<00:00, 793.33it/s]\n"
     ]
    },
    {
     "name": "stdout",
     "output_type": "stream",
     "text": [
      "Top-30 accuracy: 0.2948038176033934\n",
      "embedder_names: msmarco-distilbert-base-tas-b\n",
      "model_names: cross-encoder/quora-roberta-large\n"
     ]
    },
    {
     "name": "stderr",
     "output_type": "stream",
     "text": [
      "100%|██████████| 943/943 [11:55<00:00,  1.32it/s]\n"
     ]
    },
    {
     "name": "stdout",
     "output_type": "stream",
     "text": [
      "Top-50 accuracy: 0.9639448568398727\n"
     ]
    },
    {
     "name": "stderr",
     "output_type": "stream",
     "text": [
      "100%|██████████| 943/943 [00:00<00:00, 1764.86it/s]\n"
     ]
    },
    {
     "name": "stdout",
     "output_type": "stream",
     "text": [
      "Top-1 accuracy: 0.16436903499469777\n"
     ]
    },
    {
     "name": "stderr",
     "output_type": "stream",
     "text": [
      "100%|██████████| 943/943 [00:00<00:00, 1816.64it/s]\n"
     ]
    },
    {
     "name": "stdout",
     "output_type": "stream",
     "text": [
      "Top-5 accuracy: 0.42735949098621423\n"
     ]
    },
    {
     "name": "stderr",
     "output_type": "stream",
     "text": [
      "100%|██████████| 943/943 [00:00<00:00, 1856.43it/s]\n"
     ]
    },
    {
     "name": "stdout",
     "output_type": "stream",
     "text": [
      "Top-10 accuracy: 0.5365853658536586\n"
     ]
    },
    {
     "name": "stderr",
     "output_type": "stream",
     "text": [
      "100%|██████████| 943/943 [00:00<00:00, 1806.85it/s]\n"
     ]
    },
    {
     "name": "stdout",
     "output_type": "stream",
     "text": [
      "Top-15 accuracy: 0.6341463414634146\n"
     ]
    },
    {
     "name": "stderr",
     "output_type": "stream",
     "text": [
      "100%|██████████| 943/943 [00:00<00:00, 1860.19it/s]\n"
     ]
    },
    {
     "name": "stdout",
     "output_type": "stream",
     "text": [
      "Top-20 accuracy: 0.704135737009544\n"
     ]
    },
    {
     "name": "stderr",
     "output_type": "stream",
     "text": [
      "100%|██████████| 943/943 [00:00<00:00, 1800.93it/s]\n"
     ]
    },
    {
     "name": "stdout",
     "output_type": "stream",
     "text": [
      "Top-25 accuracy: 0.7762460233297985\n"
     ]
    },
    {
     "name": "stderr",
     "output_type": "stream",
     "text": [
      "100%|██████████| 943/943 [00:00<00:00, 1836.17it/s]"
     ]
    },
    {
     "name": "stdout",
     "output_type": "stream",
     "text": [
      "Top-30 accuracy: 0.8313891834570519\n"
     ]
    },
    {
     "name": "stderr",
     "output_type": "stream",
     "text": [
      "\n"
     ]
    }
   ],
   "source": [
    "embedder_names = [\"msmarco-distilbert-base-tas-b\"]\n",
    "model_names = [\"cross-encoder/ms-marco-MiniLM-L-12-v2\", \"cross-encoder/stsb-roberta-large\", \"cross-encoder/qnli-electra-base\", \"cross-encoder/quora-roberta-large\"]\n",
    "\n",
    "for embedder_name in embedder_names:\n",
    "    for model_name in model_names:\n",
    "        print(\"embedder_names:\", embedder_name)\n",
    "        print(\"model_names:\", model_name)\n",
    "        embedder = SentenceTransformer(embedder_name)  # 우선 임시로 사용할 모델\n",
    "\n",
    "        corpus_embeddings = embedder.encode(combined_rules, convert_to_tensor=True)\n",
    "        query_embedding = embedder.encode(files_captions, convert_to_tensor=True)\n",
    "\n",
    "        model = CrossEncoder(model_name, device=device, max_length=512)\n",
    "\n",
    "        save_right_index = {}\n",
    "        save_wrong_index = {}\n",
    "        biencoder_and_cross_encoder_final_top_k_indices = []\n",
    "\n",
    "        for final_top_k in [50]:\n",
    "            correct = 0\n",
    "            save_right_index[final_top_k] = {}\n",
    "            save_wrong_index[final_top_k] = {}\n",
    "            \n",
    "            for idx, file in enumerate(tqdm(files)):\n",
    "                with open(os.path.join(root_path, file), 'r', encoding=\"UTF-8\") as j:\n",
    "                    caption = json.load(j)\n",
    "                \n",
    "                tokenized_query = query_embedding[idx]\n",
    "                initial_top_k_scores = util.dot_score(tokenized_query, corpus_embeddings)[0]\n",
    "                top_results =  torch.topk(initial_top_k_scores, k=50)\n",
    "                initial_top_k_docs = [combined_rules[i] for i in top_results[1]]\n",
    "                \n",
    "                sentence_combinations = [[caption['outputs'], doc] for doc in initial_top_k_docs]\n",
    "                reranked_scores = model.predict(sentence_combinations)\n",
    "                reranked_indices = np.argsort(reranked_scores)[::-1]\n",
    "                final_top_k_indices = [top_results[1][i] for i in reranked_indices]\n",
    "                \n",
    "                biencoder_and_cross_encoder_final_top_k_indices.append(final_top_k_indices)\n",
    "                \n",
    "                answer = file.split('_')[2]\n",
    "                if answer[0] == 'Y':\n",
    "                    answer_index = int(answer[2:]) - 1\n",
    "                elif answer[0] == 'N':\n",
    "                    answer_index = int(answer[2:]) + 49\n",
    "                    \n",
    "                rank = find_rank_of_answer_in_results(final_top_k_indices, answer_index)\n",
    "\n",
    "                if rank <= final_top_k and rank != -1:\n",
    "                    correct += 1\n",
    "                    save_right_index[final_top_k][idx] = final_top_k_indices\n",
    "                else:\n",
    "                    save_wrong_index[final_top_k][idx] = final_top_k_indices\n",
    "\n",
    "            print(f\"Top-{final_top_k} accuracy:\", correct / len(files))\n",
    "            \n",
    "        for final_top_k in [1, 5, 10, 15, 20, 25, 30]:\n",
    "            correct = 0\n",
    "            \n",
    "            for idx, file in enumerate(tqdm(files)):\n",
    "                with open(os.path.join(root_path, file), 'r', encoding=\"UTF-8\") as j:\n",
    "                    caption = json.load(j)\n",
    "                \n",
    "                final_top_k_indices = biencoder_and_cross_encoder_final_top_k_indices[idx]\n",
    "\n",
    "                answer = file.split('_')[2]\n",
    "                if answer[0] == 'Y':\n",
    "                    answer_index = int(answer[2:]) - 1\n",
    "                elif answer[0] == 'N':\n",
    "                    answer_index = int(answer[2:]) + 49\n",
    "                    \n",
    "                rank = find_rank_of_answer_in_results(final_top_k_indices, answer_index)\n",
    "\n",
    "                if rank <= final_top_k and rank != -1:\n",
    "                    correct += 1\n",
    "\n",
    "            print(f\"Top-{final_top_k} accuracy:\", correct / len(files))"
   ]
  },
  {
   "cell_type": "code",
   "execution_count": null,
   "metadata": {},
   "outputs": [],
   "source": []
  }
 ],
 "metadata": {
  "kernelspec": {
   "display_name": "leh",
   "language": "python",
   "name": "python3"
  },
  "language_info": {
   "codemirror_mode": {
    "name": "ipython",
    "version": 3
   },
   "file_extension": ".py",
   "mimetype": "text/x-python",
   "name": "python",
   "nbconvert_exporter": "python",
   "pygments_lexer": "ipython3",
   "version": "3.10.14"
  }
 },
 "nbformat": 4,
 "nbformat_minor": 2
}
