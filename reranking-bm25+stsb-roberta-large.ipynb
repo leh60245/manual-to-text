{
 "cells": [
  {
   "cell_type": "code",
   "execution_count": 1,
   "metadata": {},
   "outputs": [],
   "source": [
    "import json\n",
    "import os\n",
    "from tqdm import tqdm\n",
    "import numpy as np\n",
    "import torch\n",
    "from rank_bm25 import BM25Okapi\n",
    "from nltk.tokenize import word_tokenize\n",
    "import nltk\n",
    "\n",
    "import torch\n",
    "# GPU 설정\n",
    "device = torch.device('cuda:0' if torch.cuda.is_available() else 'cpu')"
   ]
  },
  {
   "cell_type": "code",
   "execution_count": 2,
   "metadata": {},
   "outputs": [],
   "source": [
    "# 데이터 로드\n",
    "data = 'data/aihub_rules_prev.json'\n",
    "with open(data, 'r', encoding=\"UTF-8\") as j:\n",
    "    aihub_rule = json.load(j)\n",
    "\n",
    "normal_rule = aihub_rule['normal']\n",
    "abnormal_rule = aihub_rule['abnormal']\n",
    "combined_rules = normal_rule + abnormal_rule"
   ]
  },
  {
   "cell_type": "code",
   "execution_count": 3,
   "metadata": {},
   "outputs": [
    {
     "name": "stderr",
     "output_type": "stream",
     "text": [
      "100%|██████████| 943/943 [00:00<00:00, 24058.42it/s]\n"
     ]
    }
   ],
   "source": [
    "root_path = '/data1/sliver/jwsuh/construction_dataset/aihub/llava/llava_image_result_with_obj'\n",
    "files = sorted([i for i in os.listdir(root_path) if i.endswith('.json')])\n",
    "\n",
    "files_captions = []\n",
    "for idx, file in enumerate(tqdm(files)):\n",
    "    with open(os.path.join(root_path, file), 'r', encoding=\"UTF-8\") as j:\n",
    "        caption = json.load(j)['outputs']\n",
    "    files_captions.append(caption)\n",
    "    "
   ]
  },
  {
   "cell_type": "code",
   "execution_count": 4,
   "metadata": {},
   "outputs": [],
   "source": [
    "def tokenize(text):\n",
    "    return word_tokenize(text.lower())\n",
    "\n",
    "tokenized_rules = [tokenize(rule) for rule in combined_rules]\n",
    "\n",
    "# BM25 모델 생성\n",
    "bm25 = BM25Okapi(tokenized_rules)"
   ]
  },
  {
   "cell_type": "code",
   "execution_count": 5,
   "metadata": {},
   "outputs": [
    {
     "data": {
      "application/vnd.jupyter.widget-view+json": {
       "model_id": "b1b9eada32b34407aff2a993e26fd63f",
       "version_major": 2,
       "version_minor": 0
      },
      "text/plain": [
       "config.json:   0%|          | 0.00/629 [00:00<?, ?B/s]"
      ]
     },
     "metadata": {},
     "output_type": "display_data"
    },
    {
     "data": {
      "application/vnd.jupyter.widget-view+json": {
       "model_id": "84785024fe0a4b83965850fa5cd5390a",
       "version_major": 2,
       "version_minor": 0
      },
      "text/plain": [
       "pytorch_model.bin:   0%|          | 0.00/1.42G [00:00<?, ?B/s]"
      ]
     },
     "metadata": {},
     "output_type": "display_data"
    },
    {
     "data": {
      "application/vnd.jupyter.widget-view+json": {
       "model_id": "07a6e87bc11d464c8d830ac65c3cf987",
       "version_major": 2,
       "version_minor": 0
      },
      "text/plain": [
       "tokenizer_config.json:   0%|          | 0.00/139 [00:00<?, ?B/s]"
      ]
     },
     "metadata": {},
     "output_type": "display_data"
    },
    {
     "data": {
      "application/vnd.jupyter.widget-view+json": {
       "model_id": "4b5c7dc92a8f4e2ca1225ace79ce8444",
       "version_major": 2,
       "version_minor": 0
      },
      "text/plain": [
       "vocab.json:   0%|          | 0.00/899k [00:00<?, ?B/s]"
      ]
     },
     "metadata": {},
     "output_type": "display_data"
    },
    {
     "data": {
      "application/vnd.jupyter.widget-view+json": {
       "model_id": "6525b75b40104d58907e936730adf5e5",
       "version_major": 2,
       "version_minor": 0
      },
      "text/plain": [
       "merges.txt:   0%|          | 0.00/456k [00:00<?, ?B/s]"
      ]
     },
     "metadata": {},
     "output_type": "display_data"
    },
    {
     "data": {
      "application/vnd.jupyter.widget-view+json": {
       "model_id": "d60485e15c8f4d8a84303a0127d0eb5d",
       "version_major": 2,
       "version_minor": 0
      },
      "text/plain": [
       "special_tokens_map.json:   0%|          | 0.00/772 [00:00<?, ?B/s]"
      ]
     },
     "metadata": {},
     "output_type": "display_data"
    }
   ],
   "source": [
    "from tqdm import tqdm\n",
    "from sentence_transformers.cross_encoder import CrossEncoder\n",
    "\n",
    "model = CrossEncoder(\"cross-encoder/stsb-roberta-large\", device=device, max_length=512)\n",
    "\n",
    "def bm25_initial_search_and_rerank(query, top_k=50):\n",
    "    tokenized_query = tokenize(query)\n",
    "    initial_top_k_scores = bm25.get_scores(tokenized_query)\n",
    "    initial_top_k_indices =  np.argsort(initial_top_k_scores)[::-1][:top_k]\n",
    "    initial_top_k_docs = [combined_rules[i] for i in initial_top_k_indices]\n",
    "    \n",
    "    sentence_combinations = [[query, doc] for doc in initial_top_k_docs]\n",
    "    reranked_scores = model.predict(sentence_combinations)\n",
    "    reranked_indices = np.argsort(reranked_scores)[::-1]\n",
    "    final_top_k_indices = [initial_top_k_indices[i] for i in reranked_indices]\n",
    "    \n",
    "    return final_top_k_indices"
   ]
  },
  {
   "cell_type": "code",
   "execution_count": 6,
   "metadata": {},
   "outputs": [],
   "source": [
    "def find_rank_of_answer_in_results(final_indices, answer_index):\n",
    "    try:\n",
    "        return final_indices.index(answer_index) + 1\n",
    "    except ValueError:\n",
    "        return -1"
   ]
  },
  {
   "cell_type": "code",
   "execution_count": 7,
   "metadata": {},
   "outputs": [
    {
     "name": "stderr",
     "output_type": "stream",
     "text": [
      "100%|██████████| 943/943 [12:22<00:00,  1.27it/s]"
     ]
    },
    {
     "name": "stdout",
     "output_type": "stream",
     "text": [
      "Top-50 accuracy: 0.9406150583244963\n"
     ]
    },
    {
     "name": "stderr",
     "output_type": "stream",
     "text": [
      "\n"
     ]
    }
   ],
   "source": [
    "save_right_index = {}\n",
    "save_wrong_index = {}\n",
    "bm25_and_cross_encoder_final_top_k_indices = []\n",
    "\n",
    "for final_top_k in [50]:\n",
    "    correct = 0\n",
    "    save_right_index[final_top_k] = {}\n",
    "    save_wrong_index[final_top_k] = {}\n",
    "    \n",
    "    for idx, file in enumerate(tqdm(files)):\n",
    "        with open(os.path.join(root_path, file), 'r', encoding=\"UTF-8\") as j:\n",
    "            caption = json.load(j)\n",
    "        \n",
    "        final_top_k_indices = bm25_initial_search_and_rerank(caption['outputs'], top_k=50)\n",
    "        bm25_and_cross_encoder_final_top_k_indices.append(final_top_k_indices)\n",
    "        \n",
    "        answer = file.split('_')[2]\n",
    "        if answer[0] == 'Y':\n",
    "            answer_index = int(answer[2:]) - 1\n",
    "        elif answer[0] == 'N':\n",
    "            answer_index = int(answer[2:]) + 49\n",
    "            \n",
    "        rank = find_rank_of_answer_in_results(final_top_k_indices, answer_index)\n",
    "\n",
    "        if rank <= final_top_k and rank != -1:\n",
    "            correct += 1\n",
    "            save_right_index[final_top_k][idx] = final_top_k_indices\n",
    "        else:\n",
    "            save_wrong_index[final_top_k][idx] = final_top_k_indices\n",
    "\n",
    "    print(f\"Top-{final_top_k} accuracy:\", correct / len(files))"
   ]
  },
  {
   "cell_type": "code",
   "execution_count": 8,
   "metadata": {},
   "outputs": [
    {
     "name": "stderr",
     "output_type": "stream",
     "text": [
      "100%|██████████| 943/943 [00:00<00:00, 20975.30it/s]\n"
     ]
    },
    {
     "name": "stdout",
     "output_type": "stream",
     "text": [
      "Top-1 accuracy: 0.21527041357370094\n"
     ]
    },
    {
     "name": "stderr",
     "output_type": "stream",
     "text": [
      "100%|██████████| 943/943 [00:00<00:00, 21598.87it/s]\n"
     ]
    },
    {
     "name": "stdout",
     "output_type": "stream",
     "text": [
      "Top-5 accuracy: 0.5047720042417816\n"
     ]
    },
    {
     "name": "stderr",
     "output_type": "stream",
     "text": [
      "100%|██████████| 943/943 [00:00<00:00, 20775.01it/s]\n"
     ]
    },
    {
     "name": "stdout",
     "output_type": "stream",
     "text": [
      "Top-10 accuracy: 0.623541887592789\n"
     ]
    },
    {
     "name": "stderr",
     "output_type": "stream",
     "text": [
      "100%|██████████| 943/943 [00:00<00:00, 20422.41it/s]\n"
     ]
    },
    {
     "name": "stdout",
     "output_type": "stream",
     "text": [
      "Top-15 accuracy: 0.6914103923647932\n"
     ]
    },
    {
     "name": "stderr",
     "output_type": "stream",
     "text": [
      "100%|██████████| 943/943 [00:00<00:00, 21117.64it/s]\n"
     ]
    },
    {
     "name": "stdout",
     "output_type": "stream",
     "text": [
      "Top-20 accuracy: 0.7412513255567338\n"
     ]
    },
    {
     "name": "stderr",
     "output_type": "stream",
     "text": [
      "100%|██████████| 943/943 [00:00<00:00, 21241.26it/s]\n"
     ]
    },
    {
     "name": "stdout",
     "output_type": "stream",
     "text": [
      "Top-25 accuracy: 0.7932131495227995\n"
     ]
    },
    {
     "name": "stderr",
     "output_type": "stream",
     "text": [
      "100%|██████████| 943/943 [00:00<00:00, 21994.02it/s]"
     ]
    },
    {
     "name": "stdout",
     "output_type": "stream",
     "text": [
      "Top-30 accuracy: 0.8292682926829268\n"
     ]
    },
    {
     "name": "stderr",
     "output_type": "stream",
     "text": [
      "\n"
     ]
    }
   ],
   "source": [
    "for final_top_k in [1, 5, 10, 15, 20, 25, 30]:\n",
    "    correct = 0\n",
    "    \n",
    "    for idx, file in enumerate(tqdm(files)):\n",
    "        with open(os.path.join(root_path, file), 'r', encoding=\"UTF-8\") as j:\n",
    "            caption = json.load(j)\n",
    "        \n",
    "        final_top_k_indices = bm25_and_cross_encoder_final_top_k_indices[idx]\n",
    "\n",
    "        answer = file.split('_')[2]\n",
    "        if answer[0] == 'Y':\n",
    "            answer_index = int(answer[2:]) - 1\n",
    "        elif answer[0] == 'N':\n",
    "            answer_index = int(answer[2:]) + 49\n",
    "            \n",
    "        rank = find_rank_of_answer_in_results(final_top_k_indices, answer_index)\n",
    "\n",
    "        if rank <= final_top_k and rank != -1:\n",
    "            correct += 1\n",
    "\n",
    "    print(f\"Top-{final_top_k} accuracy:\", correct / len(files))"
   ]
  },
  {
   "cell_type": "code",
   "execution_count": null,
   "metadata": {},
   "outputs": [],
   "source": []
  }
 ],
 "metadata": {
  "kernelspec": {
   "display_name": "leh",
   "language": "python",
   "name": "python3"
  },
  "language_info": {
   "codemirror_mode": {
    "name": "ipython",
    "version": 3
   },
   "file_extension": ".py",
   "mimetype": "text/x-python",
   "name": "python",
   "nbconvert_exporter": "python",
   "pygments_lexer": "ipython3",
   "version": "3.10.14"
  }
 },
 "nbformat": 4,
 "nbformat_minor": 2
}
