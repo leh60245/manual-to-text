{
 "cells": [
  {
   "cell_type": "code",
   "execution_count": 1,
   "metadata": {},
   "outputs": [],
   "source": [
    "from sentence_transformers import SentenceTransformer, util\n",
    "from PIL import Image\n",
    "import glob\n",
    "import json\n",
    "import numpy as np\n",
    "import torch\n",
    "import pickle\n",
    "import zipfile\n",
    "from IPython.display import display\n",
    "from IPython.display import Image as IPImage\n",
    "import os\n",
    "from tqdm.autonotebook import tqdm\n",
    "\n",
    "device = torch.device('cuda:7' if torch.cuda.is_available() else 'cpu')"
   ]
  },
  {
   "cell_type": "code",
   "execution_count": 2,
   "metadata": {},
   "outputs": [],
   "source": [
    "#First, we load the respective CLIP model\n",
    "model = SentenceTransformer('clip-ViT-B-32', device=device)"
   ]
  },
  {
   "cell_type": "code",
   "execution_count": 3,
   "metadata": {},
   "outputs": [],
   "source": [
    "# Rule load = document = corpus\n",
    "data = 'data/aihub_rules_prev.json'\n",
    "with open(data, 'r', encoding=\"UTF-8\") as j:\n",
    "    aihub_rule = json.load(j)\n",
    "\n",
    "normal_rule = aihub_rule['normal']\n",
    "abnormal_rule = aihub_rule['abnormal']\n",
    "combined_rules = normal_rule + abnormal_rule"
   ]
  },
  {
   "cell_type": "code",
   "execution_count": null,
   "metadata": {},
   "outputs": [],
   "source": []
  },
  {
   "cell_type": "code",
   "execution_count": 4,
   "metadata": {},
   "outputs": [],
   "source": [
    "def find_rank_of_answer_in_results(final_indices, answer_index):\n",
    "    try:\n",
    "        return final_indices.index(answer_index) + 1\n",
    "    except ValueError:\n",
    "        return -1"
   ]
  },
  {
   "cell_type": "code",
   "execution_count": 5,
   "metadata": {},
   "outputs": [],
   "source": [
    "root_path = '/data1/sliver/jwsuh/construction_dataset/aihub/llava/llava_image_result_with_obj'\n",
    "files = sorted([i for i in os.listdir(root_path) if i.endswith('.jpg')])"
   ]
  },
  {
   "cell_type": "code",
   "execution_count": 7,
   "metadata": {},
   "outputs": [],
   "source": [
    "text_emb = model.encode(combined_rules)"
   ]
  },
  {
   "cell_type": "code",
   "execution_count": 19,
   "metadata": {},
   "outputs": [
    {
     "data": {
      "application/vnd.jupyter.widget-view+json": {
       "model_id": "791b107c5784431086cadcb8614813d7",
       "version_major": 2,
       "version_minor": 0
      },
      "text/plain": [
       "  0%|          | 0/957 [00:00<?, ?it/s]"
      ]
     },
     "metadata": {},
     "output_type": "display_data"
    },
    {
     "name": "stdout",
     "output_type": "stream",
     "text": [
      "Top-50 accuracy: 0.910135841170324\n"
     ]
    }
   ],
   "source": [
    "save_right_index = {}\n",
    "save_wrong_index = {}\n",
    "final_top_k_indices_list = []\n",
    "\n",
    "for final_top_k in [50]:\n",
    "    correct = 0\n",
    "    save_right_index[final_top_k] = {}\n",
    "    save_wrong_index[final_top_k] = {}\n",
    "    \n",
    "    for idx, file in enumerate(tqdm(files)):\n",
    "        img_emb = model.encode(Image.open(os.path.join(root_path, file)))\n",
    "        cos_scores = util.cos_sim(img_emb, text_emb)[0]\n",
    "        top_results =  torch.topk(cos_scores, k=50)\n",
    "        final_top_k_indices = top_results[1].tolist()\n",
    "        # final_top_k_indices = biencoder_initial_search(caption['outputs'], idx, top_k=50)\n",
    "        final_top_k_indices_list.append(final_top_k_indices)\n",
    "        \n",
    "        answer = file.split('_')[2]\n",
    "        if answer[0] == 'Y':\n",
    "            answer_index = int(answer[2:]) - 1\n",
    "        elif answer[0] == 'N':\n",
    "            answer_index = int(answer[2:]) + 49\n",
    "            \n",
    "        rank = find_rank_of_answer_in_results(final_top_k_indices, answer_index)\n",
    "\n",
    "        if rank <= final_top_k and rank != -1:\n",
    "            correct += 1\n",
    "            save_right_index[final_top_k][idx] = final_top_k_indices\n",
    "        else:\n",
    "            save_wrong_index[final_top_k][idx] = final_top_k_indices\n",
    "\n",
    "    print(f\"Top-{final_top_k} accuracy:\", correct / len(files))"
   ]
  },
  {
   "cell_type": "code",
   "execution_count": 20,
   "metadata": {},
   "outputs": [
    {
     "data": {
      "application/vnd.jupyter.widget-view+json": {
       "model_id": "9b443f9111c14672b5435dd0fef86b6f",
       "version_major": 2,
       "version_minor": 0
      },
      "text/plain": [
       "  0%|          | 0/957 [00:00<?, ?it/s]"
      ]
     },
     "metadata": {},
     "output_type": "display_data"
    },
    {
     "name": "stdout",
     "output_type": "stream",
     "text": [
      "Top-1 accuracy: 0.08881922675026123\n"
     ]
    },
    {
     "data": {
      "application/vnd.jupyter.widget-view+json": {
       "model_id": "4352b973044f4ab4a790b69415dc36af",
       "version_major": 2,
       "version_minor": 0
      },
      "text/plain": [
       "  0%|          | 0/957 [00:00<?, ?it/s]"
      ]
     },
     "metadata": {},
     "output_type": "display_data"
    },
    {
     "name": "stdout",
     "output_type": "stream",
     "text": [
      "Top-5 accuracy: 0.29571577847439917\n"
     ]
    },
    {
     "data": {
      "application/vnd.jupyter.widget-view+json": {
       "model_id": "84db514a8f654a1f827eaec2674dfbef",
       "version_major": 2,
       "version_minor": 0
      },
      "text/plain": [
       "  0%|          | 0/957 [00:00<?, ?it/s]"
      ]
     },
     "metadata": {},
     "output_type": "display_data"
    },
    {
     "name": "stdout",
     "output_type": "stream",
     "text": [
      "Top-10 accuracy: 0.45768025078369906\n"
     ]
    },
    {
     "data": {
      "application/vnd.jupyter.widget-view+json": {
       "model_id": "bea7a41128db467d87135391e378da2f",
       "version_major": 2,
       "version_minor": 0
      },
      "text/plain": [
       "  0%|          | 0/957 [00:00<?, ?it/s]"
      ]
     },
     "metadata": {},
     "output_type": "display_data"
    },
    {
     "name": "stdout",
     "output_type": "stream",
     "text": [
      "Top-15 accuracy: 0.5768025078369906\n"
     ]
    },
    {
     "data": {
      "application/vnd.jupyter.widget-view+json": {
       "model_id": "734b11a063704325b2ddf495814dcdab",
       "version_major": 2,
       "version_minor": 0
      },
      "text/plain": [
       "  0%|          | 0/957 [00:00<?, ?it/s]"
      ]
     },
     "metadata": {},
     "output_type": "display_data"
    },
    {
     "name": "stdout",
     "output_type": "stream",
     "text": [
      "Top-20 accuracy: 0.6781609195402298\n"
     ]
    },
    {
     "data": {
      "application/vnd.jupyter.widget-view+json": {
       "model_id": "9e14dac445584b3f81683fbad0ce7470",
       "version_major": 2,
       "version_minor": 0
      },
      "text/plain": [
       "  0%|          | 0/957 [00:00<?, ?it/s]"
      ]
     },
     "metadata": {},
     "output_type": "display_data"
    },
    {
     "name": "stdout",
     "output_type": "stream",
     "text": [
      "Top-25 accuracy: 0.741901776384535\n"
     ]
    },
    {
     "data": {
      "application/vnd.jupyter.widget-view+json": {
       "model_id": "3716c1f9f6cd411e97c4c3c864ea7d46",
       "version_major": 2,
       "version_minor": 0
      },
      "text/plain": [
       "  0%|          | 0/957 [00:00<?, ?it/s]"
      ]
     },
     "metadata": {},
     "output_type": "display_data"
    },
    {
     "name": "stdout",
     "output_type": "stream",
     "text": [
      "Top-30 accuracy: 0.786833855799373\n"
     ]
    }
   ],
   "source": [
    "for final_top_k in [1, 5, 10, 15, 20, 25, 30]:\n",
    "    correct = 0\n",
    "    \n",
    "    for idx, file in enumerate(tqdm(files)):\n",
    "        \n",
    "        final_top_k_indices = final_top_k_indices_list[idx]\n",
    "\n",
    "        answer = file.split('_')[2]\n",
    "        if answer[0] == 'Y':\n",
    "            answer_index = int(answer[2:]) - 1\n",
    "        elif answer[0] == 'N':\n",
    "            answer_index = int(answer[2:]) + 49\n",
    "            \n",
    "        rank = find_rank_of_answer_in_results(final_top_k_indices, answer_index)\n",
    "\n",
    "        if rank <= final_top_k and rank != -1:\n",
    "            correct += 1\n",
    "\n",
    "    print(f\"Top-{final_top_k} accuracy:\", correct / len(files))"
   ]
  },
  {
   "cell_type": "code",
   "execution_count": null,
   "metadata": {},
   "outputs": [],
   "source": []
  }
 ],
 "metadata": {
  "kernelspec": {
   "display_name": "leh",
   "language": "python",
   "name": "python3"
  },
  "language_info": {
   "codemirror_mode": {
    "name": "ipython",
    "version": 3
   },
   "file_extension": ".py",
   "mimetype": "text/x-python",
   "name": "python",
   "nbconvert_exporter": "python",
   "pygments_lexer": "ipython3",
   "version": "3.10.14"
  }
 },
 "nbformat": 4,
 "nbformat_minor": 2
}
