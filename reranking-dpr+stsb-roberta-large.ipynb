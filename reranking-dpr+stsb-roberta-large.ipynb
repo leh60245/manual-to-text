{
 "cells": [
  {
   "cell_type": "code",
   "execution_count": null,
   "metadata": {},
   "outputs": [],
   "source": [
    "import json\n",
    "import os\n",
    "from tqdm import tqdm\n",
    "import numpy as np\n",
    "import torch\n",
    "from transformers import DPRContextEncoder, DPRContextEncoderTokenizer\n",
    "from transformers import DPRQuestionEncoder, DPRQuestionEncoderTokenizer\n",
    "\n",
    "import torch\n",
    "\n",
    "device = torch.device('cuda:0' if torch.cuda.is_available() else 'cpu')"
   ]
  },
  {
   "cell_type": "code",
   "execution_count": null,
   "metadata": {},
   "outputs": [],
   "source": [
    "# 데이터 로드\n",
    "data = 'data/aihub_rules_prev.json'\n",
    "with open(data, 'r', encoding=\"UTF-8\") as j:\n",
    "    aihub_rule = json.load(j)\n",
    "\n",
    "normal_rule = aihub_rule['normal']\n",
    "abnormal_rule = aihub_rule['abnormal']\n",
    "combined_rules = normal_rule + abnormal_rule"
   ]
  },
  {
   "cell_type": "code",
   "execution_count": null,
   "metadata": {},
   "outputs": [],
   "source": [
    "root_path = '/data1/sliver/jwsuh/construction_dataset/aihub/llava/llava_image_result_with_obj'\n",
    "files = sorted([i for i in os.listdir(root_path) if i.endswith('.json')])\n",
    "\n",
    "files_captions = []\n",
    "for idx, file in enumerate(tqdm(files)):\n",
    "    with open(os.path.join(root_path, file), 'r', encoding=\"UTF-8\") as j:\n",
    "        caption = json.load(j)['outputs']\n",
    "    files_captions.append(caption)\n",
    "    "
   ]
  },
  {
   "cell_type": "code",
   "execution_count": null,
   "metadata": {},
   "outputs": [],
   "source": [
    "# # DPR 모델과 토크나이저 로드\n",
    "# dpr_question_tokenizer = DPRQuestionEncoderTokenizer.from_pretrained('facebook/dpr-question_encoder-single-nq-base')\n",
    "# dpr_question_model = DPRQuestionEncoder.from_pretrained('facebook/dpr-question_encoder-single-nq-base')\n",
    "# dpr_context_tokenizer = DPRContextEncoderTokenizer.from_pretrained('facebook/dpr-ctx_encoder-single-nq-base')\n",
    "# dpr_context_model = DPRContextEncoder.from_pretrained('facebook/dpr-ctx_encoder-single-nq-base')\n",
    "\n",
    "# dpr_question_model.to(device)\n",
    "# dpr_context_model.to(device)\n",
    "\n",
    "# # DPR 문서 임베딩 계산\n",
    "# def encode_contexts_dpr(rules):\n",
    "#     inputs = dpr_context_tokenizer(rules, padding=True, truncation=True, max_length=512, return_tensors='pt')\n",
    "#     inputs = {key: value.to(device) for key, value in inputs.items()}\n",
    "#     with torch.no_grad():\n",
    "#         outputs = dpr_context_model(**inputs)\n",
    "#     return outputs.pooler_output.cpu().numpy()\n",
    "\n",
    "# # DPR 쿼리 임베딩 계산\n",
    "# def encode_query_dpr(query):\n",
    "#     inputs = dpr_question_tokenizer(query,  padding=True, return_tensors='pt', truncation=True, max_length=512)\n",
    "#     inputs = {key: value.to(device) for key, value in inputs.items()}\n",
    "#     with torch.no_grad():\n",
    "#         outputs = dpr_question_model(**inputs)\n",
    "#     return outputs.pooler_output.cpu().numpy()\n",
    "\n",
    "# # 문서 임베딩 계산 및 저장\n",
    "# context_embeddings_dpr = encode_contexts_dpr(combined_rules)\n",
    "# torch.save(context_embeddings_dpr, 'context_embeddings_dpr.pt')\n",
    "# query_embeddings_dpr = encode_query_dpr(files_captions)\n",
    "# torch.save(query_embeddings_dpr, 'query_embeddings_dpr.pt')\n",
    "# print(\"DPR 문서 및 쿼리 임베딩 저장 완료\")"
   ]
  },
  {
   "cell_type": "code",
   "execution_count": null,
   "metadata": {},
   "outputs": [],
   "source": [
    "context_embeddings_dpr = torch.load('context_embeddings_dpr.pt')\n",
    "query_embeddings_dpr = torch.load('query_embeddings_dpr.pt')"
   ]
  },
  {
   "cell_type": "code",
   "execution_count": null,
   "metadata": {},
   "outputs": [],
   "source": [
    "from tqdm import tqdm\n",
    "from sentence_transformers.cross_encoder import CrossEncoder\n",
    "\n",
    "model = CrossEncoder(\"cross-encoder/stsb-roberta-large\", device=device, max_length=512)\n",
    "\n",
    "def dpr_initial_search_and_rerank(query, query_idx, top_k=50):\n",
    "    query_embedding = query_embeddings_dpr[query_idx]\n",
    "    similarities = np.dot(query_embedding, context_embeddings_dpr.T).flatten()\n",
    "    initial_top_k_indices = np.argsort(similarities)[::-1][:top_k]\n",
    "    initial_top_k_docs = [combined_rules[i] for i in initial_top_k_indices]\n",
    "    \n",
    "    sentence_combinations = [[query, doc] for doc in initial_top_k_docs]\n",
    "    reranked_scores = model.predict(sentence_combinations)\n",
    "    reranked_indices = np.argsort(reranked_scores)[::-1]\n",
    "    final_top_k_indices = [initial_top_k_indices[i] for i in reranked_indices]\n",
    "    \n",
    "    return final_top_k_indices"
   ]
  },
  {
   "cell_type": "code",
   "execution_count": null,
   "metadata": {},
   "outputs": [],
   "source": [
    "def find_rank_of_answer_in_results(final_indices, answer_index):\n",
    "    try:\n",
    "        return final_indices.index(answer_index) + 1\n",
    "    except ValueError:\n",
    "        return -1"
   ]
  },
  {
   "cell_type": "code",
   "execution_count": null,
   "metadata": {},
   "outputs": [],
   "source": [
    "save_right_index = {}\n",
    "save_wrong_index = {}\n",
    "bm25_and_cross_encoder_final_top_k_indices = []\n",
    "\n",
    "for final_top_k in [50]:\n",
    "    correct = 0\n",
    "    save_right_index[final_top_k] = {}\n",
    "    save_wrong_index[final_top_k] = {}\n",
    "    \n",
    "    for idx, file in enumerate(tqdm(files)):\n",
    "        with open(os.path.join(root_path, file), 'r', encoding=\"UTF-8\") as j:\n",
    "            caption = json.load(j)\n",
    "        \n",
    "        final_top_k_indices = dpr_initial_search_and_rerank(caption['outputs'], idx, top_k=50)\n",
    "        bm25_and_cross_encoder_final_top_k_indices.append(final_top_k_indices)\n",
    "        \n",
    "        answer = file.split('_')[2]\n",
    "        if answer[0] == 'Y':\n",
    "            answer_index = int(answer[2:]) - 1\n",
    "        elif answer[0] == 'N':\n",
    "            answer_index = int(answer[2:]) + 49\n",
    "            \n",
    "        rank = find_rank_of_answer_in_results(final_top_k_indices, answer_index)\n",
    "\n",
    "        if rank <= final_top_k and rank != -1:\n",
    "            correct += 1\n",
    "            save_right_index[final_top_k][idx] = final_top_k_indices\n",
    "        else:\n",
    "            save_wrong_index[final_top_k][idx] = final_top_k_indices\n",
    "\n",
    "    print(f\"Top-{final_top_k} accuracy:\", correct / len(files))"
   ]
  },
  {
   "cell_type": "code",
   "execution_count": null,
   "metadata": {},
   "outputs": [],
   "source": [
    "for final_top_k in [1, 5, 10, 15, 20, 25, 30]:\n",
    "    correct = 0\n",
    "    \n",
    "    for idx, file in enumerate(tqdm(files)):\n",
    "        with open(os.path.join(root_path, file), 'r', encoding=\"UTF-8\") as j:\n",
    "            caption = json.load(j)\n",
    "        \n",
    "        final_top_k_indices = bm25_and_cross_encoder_final_top_k_indices[idx]\n",
    "\n",
    "        answer = file.split('_')[2]\n",
    "        if answer[0] == 'Y':\n",
    "            answer_index = int(answer[2:]) - 1\n",
    "        elif answer[0] == 'N':\n",
    "            answer_index = int(answer[2:]) + 49\n",
    "            \n",
    "        rank = find_rank_of_answer_in_results(final_top_k_indices, answer_index)\n",
    "\n",
    "        if rank <= final_top_k and rank != -1:\n",
    "            correct += 1\n",
    "\n",
    "    print(f\"Top-{final_top_k} accuracy:\", correct / len(files))"
   ]
  }
 ],
 "metadata": {
  "kernelspec": {
   "display_name": "leh",
   "language": "python",
   "name": "python3"
  },
  "language_info": {
   "codemirror_mode": {
    "name": "ipython",
    "version": 3
   },
   "file_extension": ".py",
   "mimetype": "text/x-python",
   "name": "python",
   "nbconvert_exporter": "python",
   "pygments_lexer": "ipython3",
   "version": "3.10.14"
  }
 },
 "nbformat": 4,
 "nbformat_minor": 2
}
