{
 "cells": [
  {
   "cell_type": "code",
   "execution_count": 3,
   "metadata": {},
   "outputs": [],
   "source": [
    "import os\n",
    "import json\n",
    "from tqdm import tqdm\n",
    "import openai\n",
    "from openai import OpenAI\n",
    "from typing import List\n",
    "\n",
    "import re"
   ]
  },
  {
   "cell_type": "code",
   "execution_count": 8,
   "metadata": {},
   "outputs": [],
   "source": [
    "data = '/home/jwsuh/harddisk/2403_new_research/construction_dataset/dataset/aihub_rules.json'\n",
    "with open(data, 'r', encoding=\"UTF-8\") as j:\n",
    "    aihub_rule = json.load(j)\n",
    "    \n",
    "normal_rule = aihub_rule['normal']\n",
    "abnormal_rule = aihub_rule['abnormal']"
   ]
  },
  {
   "cell_type": "code",
   "execution_count": 7,
   "metadata": {},
   "outputs": [
    {
     "ename": "NameError",
     "evalue": "name 'aihub_rule' is not defined",
     "output_type": "error",
     "traceback": [
      "\u001b[0;31m---------------------------------------------------------------------------\u001b[0m",
      "\u001b[0;31mNameError\u001b[0m                                 Traceback (most recent call last)",
      "Cell \u001b[0;32mIn[7], line 1\u001b[0m\n\u001b[0;32m----> 1\u001b[0m normal_rule \u001b[38;5;241m=\u001b[39m \u001b[43maihub_rule\u001b[49m[\u001b[38;5;124m'\u001b[39m\u001b[38;5;124mnormal\u001b[39m\u001b[38;5;124m'\u001b[39m]\n\u001b[1;32m      2\u001b[0m abnormal_rule \u001b[38;5;241m=\u001b[39m aihub_rule[\u001b[38;5;124m'\u001b[39m\u001b[38;5;124mabnormal\u001b[39m\u001b[38;5;124m'\u001b[39m]\n",
      "\u001b[0;31mNameError\u001b[0m: name 'aihub_rule' is not defined"
     ]
    }
   ],
   "source": [
    "normal_rule = aihub_rule['normal']\n",
    "abnormal_rule = aihub_rule['abnormal']"
   ]
  },
  {
   "cell_type": "code",
   "execution_count": 11,
   "metadata": {},
   "outputs": [],
   "source": [
    "data = '/home/jwsuh/harddisk/2403_new_research/construction_dataset/dataset/LLaVA_inference/llava_image_result/H-220607_B16_Y-14_001_0005.json'\n",
    "with open(data, 'r', encoding=\"UTF-8\") as j:\n",
    "    caption = json.load(j)"
   ]
  },
  {
   "cell_type": "code",
   "execution_count": 14,
   "metadata": {},
   "outputs": [],
   "source": [
    "prompt = f\"Look at the image caption and decide whether it follows a normal rule or an abnormal rule, and specify what it pertains to.\\n\\nImage caption: {caption}\\n\\n normal rule: {normal_rule}\\n\\n abnormal rule: {abnormal_rule}\\n\\nRule:(normal/abnormal)\\n\\nSpecific Rule:\""
   ]
  },
  {
   "cell_type": "code",
   "execution_count": 15,
   "metadata": {},
   "outputs": [
    {
     "data": {
      "text/plain": [
       "'Look at the image caption and decide whether it follows a normal rule or an abnormal rule, and specify what it pertains to.\\n\\nImage caption: {\\'prompt\\': \\'<image>\\\\nExplain about the image including Safety net\\', \\'outputs\\': \\'<s> The image shows a construction site with a building under construction. The building appears to be at an early stage, with visible scaffolding and what looks like a protective mesh or safety net installed around the site. The safety net is a common safety measure in construction sites to protect workers from falling debris or materials. It is usually installed around the perimeter of the site to prevent accidents and ensure the safety of the workers.\\\\n\\\\nThe safety net is made of a strong, durable material that can withstand the weight of construction materials and workers. It is usually installed at a height that is higher than the anticipated fall distance to ensure maximum coverage. The net is usually checked regularly for damage and is often tensioned to maintain its integrity.\\\\n\\\\nThe construction site itself is surrounded by a fence, which is another safety measure to keep unauthorized personnel out of the site and to prevent accidents. The fence is likely to be temporary and will be removed once the construction is complete.\\\\n\\\\nThe sky is visible in the background, suggesting that the photo was taken on a clear day. The overall impression is of a well-organized and safety-conscious construction site.</s>\\'}\\n\\n normal rule: [\\'System scaffold catwalk installation\\', \\'Closed hatch catwalk\\', \\'Opening cover installation\\', \\'Safety railing installation for openings\\', \\'end section safety railing installation\\', \\'Vertical safety net installation at end section\\', \\'rolling tower safety railing installation\\', \\'No temporary ladder on rolling tower catwalk\\', \\'Proper ladder installation\\', \\'Worker working at the top and bottom of the ladder\\', \\'No falling hazards placed on system scaffold\\', \\'Working only on the top (or bottom) of the system scaffold\\', \\'Protective shelf installation at entrance\\', \\'Safety net installation\\', \\'No materials placed on the end of the formwork\\', \\'Working only on the top (or bottom) during formwork installation and dismantling\\', \\'Proper loading of a Ladder Truck\\', \\'Signalman deployment during Ladder Truck operations\\', \\'Signalman deployment during mobile crane operations\\', \\'Use of a metal lifting box during mobile crane operations\\', \\'Signalman deployment during pipeline construction\\', \\'Signalman deployment during excavator material lifting\\', \\'Compliance with scissor lift over-elevation prevention bar installation height\\', \\'Worker operating outside the hazard radius on a scissor lift\\', \\'Signalman deployment during dump truck operations\\', \\'Worker operating outside the hazard radius of a dump truck\\', \\'Signalman deployment during excavator operations\\', \\'Working outside the horizontal hazard radius of an excavator\\', \\'Signalman deployment during concrete mixer operations\\', \\'Worker operating outside the hazard radius of a concrete mixer\\', \\'Portable fan installation during interior finishing\\', \\'No stove installation near interior finishing work\\', \\'Fire extinguisher placement next to welding equipment\\', \\'Welding next to non-combustible materials\\', \\'Fire extinguisher placement with stove installation in material storage area\\', \\'Fire extinguisher placement with oxy cutter in material storage area\\', \\'Fire extinguisher placement outside hazardous material storage\\', \\'Non-combustible material placement outside hazardous material storage\\', \\'Fire extinguisher placement during circular saw operation (spark arrestor)\\', \\'Circular saw operation next to non-combustible materials\\', \\'support plate with support installation\\', \\'Formwork with support installation\\', \\'Proper placement of materials and tools on a horse scaffold\\', \\'Proper horse scaffold installation\\', \\'Concrete pump truck safety device installation\\', \\'Signalman deployment during concrete pump truck operations\\', \\'Safety device installation during auger crane operations\\', \\'Signalman deployment during auger crane operations\\', \\'Forklift Signalman deployment\\', \"Loading materials below forklift driver\\'s line of sight\"]\\n\\n abnormal rule: [\\'System scaffold catwalk installation defect\\', \\'Open hatch catwalk\\', \\'Opening cover installation defect\\', \\'Safety railing installation for openings defect\\', \\'End section safety railing installation defect\\', \\'Vertical safety net installation at end section defect\\', \\'Rolling tower safety railing installation defect\\', \\'Temporary ladder installed on rolling tower catwalk\\', \\'Ladder installed over materials\\', \\'Working from the top of the ladder\\', \\'Falling hazards placed on system scaffold\\', \\'Simultaneous top and bottom work on system scaffold (two-person operation)\\', \\'Defective protective shelf installation at entrance\\', \\'Safety net installation defect\\', \\'Material placement on the end of the formwork\\', \\'Simultaneous top and bottom formwork installation and dismantling (two-person operation)\\', \\'Improper overloading of a Ladder Truck\\', \\'No signalman deployed during Ladder Truck operations\\', \\'No signalman deployed during mobile crane operations\\', \\'Non-use of a metal lifting box during mobile crane operations\\', \\'No signalman deployed during pipeline construction\\', \\'No signalman deployed during excavator material lifting\\', \\'Non-compliance with scissor lift over-elevation prevention bar installation height\\', \\'Worker operating within the hazard radius on a scissor lift\\', \\'No signalman deployed during dump truck operations\\', \\'Worker operating within the hazard radius of a dump truck\\', \\'No signalman deployed during excavator operations\\', \\'Working within the horizontal hazard radius of an excavator\\', \\'No signalman deployed during concrete mixer operations\\', \\'Worker operating within the hazard radius of a concrete mixer\\', \\'No portable fan installed during interior finishing\\', \\'Stove installation near interior finishing work\\', \\'No fire extinguisher placement next to welding equipment\\', \\'Welding next to flammable materials\\', \\'No fire extinguisher placement with stove installation in material storage area\\', \\'No fire extinguisher placement with oxy cutter in material storage area\\', \\'No fire extinguisher placement outside hazardous material storage\\', \\'Flammable material placement outside hazardous material storage\\', \\'No fire extinguisher placement during circular saw operation (spark arrestor)\\', \\'Placement of flammable materials during circular saw operation\\', \\'Poor support plate with support installation\\', \\'Poor formwork with support installation\\', \\'Material placement at the edge of a horse scaffold\\', \\'Installation on top of materials on a horse scaffold\\', \\'Faulty concrete pump truck safety device installation\\', \\'No signalman deployed during concrete pump truck operations\\', \\'Faulty safety device installation during auger crane operations\\', \\'No signalman deployed during auger crane operations\\', \\'No forklift signalman deployed\\', \"Overloading materials beyond forklift driver\\'s line of sight\"]\\n\\nRule:(normal/abnormal)\\n\\nSpecific Rule:'"
      ]
     },
     "execution_count": 15,
     "metadata": {},
     "output_type": "execute_result"
    }
   ],
   "source": [
    "prompt"
   ]
  },
  {
   "cell_type": "markdown",
   "metadata": {},
   "source": [
    "### BM25"
   ]
  },
  {
   "cell_type": "code",
   "execution_count": null,
   "metadata": {},
   "outputs": [
    {
     "name": "stderr",
     "output_type": "stream",
     "text": [
      "[nltk_data] Downloading package punkt to /home/jwsuh/nltk_data...\n",
      "[nltk_data]   Unzipping tokenizers/punkt.zip.\n"
     ]
    },
    {
     "data": {
      "text/plain": [
       "True"
      ]
     },
     "execution_count": 20,
     "metadata": {},
     "output_type": "execute_result"
    }
   ],
   "source": [
    "from rank_bm25 import BM25Okapi\n",
    "from nltk.tokenize import word_tokenize\n",
    "import nltk\n",
    "nltk.download('punkt')"
   ]
  },
  {
   "cell_type": "code",
   "execution_count": 26,
   "metadata": {},
   "outputs": [
    {
     "data": {
      "text/plain": [
       "'<s> The image shows a construction site with a building under construction. The building appears to be at an early stage, with visible scaffolding and what looks like a protective mesh or safety net installed around the site. The safety net is a common safety measure in construction sites to protect workers from falling debris or materials. It is usually installed around the perimeter of the site to prevent accidents and ensure the safety of the workers.\\n\\nThe safety net is made of a strong, durable material that can withstand the weight of construction materials and workers. It is usually installed at a height that is higher than the anticipated fall distance to ensure maximum coverage. The net is usually checked regularly for damage and is often tensioned to maintain its integrity.\\n\\nThe construction site itself is surrounded by a fence, which is another safety measure to keep unauthorized personnel out of the site and to prevent accidents. The fence is likely to be temporary and will be removed once the construction is complete.\\n\\nThe sky is visible in the background, suggesting that the photo was taken on a clear day. The overall impression is of a well-organized and safety-conscious construction site.</s>'"
      ]
     },
     "execution_count": 26,
     "metadata": {},
     "output_type": "execute_result"
    }
   ],
   "source": [
    "caption['outputs']"
   ]
  },
  {
   "cell_type": "code",
   "execution_count": 45,
   "metadata": {},
   "outputs": [],
   "source": [
    "def tokenize(text):\n",
    "    return word_tokenize(text.lower())\n",
    "\n",
    "def find_answer_rank(top_k_indices, answer_index):\n",
    "    \"\"\"\n",
    "    top_k_indices: 상위 문서들의 인덱스가 담긴 배열\n",
    "    answer_index: 찾고자 하는 정답 문서의 인덱스\n",
    "    반환값: 정답 문서의 순위 (1부터 시작), 목록에 없는 경우 -1 반환\n",
    "    \"\"\"\n",
    "    # top_k_indices에서 정답 인덱스를 찾아 순위를 반환\n",
    "    try:\n",
    "        rank = (top_k_indices == answer_index).nonzero()[0][0] + 1\n",
    "        return rank\n",
    "    except IndexError:\n",
    "        # 정답 인덱스가 배열에 없는 경우\n",
    "        return -1"
   ]
  },
  {
   "cell_type": "code",
   "execution_count": 185,
   "metadata": {},
   "outputs": [
    {
     "name": "stderr",
     "output_type": "stream",
     "text": [
      " 15%|█▍        | 138/943 [00:01<00:08, 92.64it/s]\n"
     ]
    },
    {
     "ename": "KeyboardInterrupt",
     "evalue": "",
     "output_type": "error",
     "traceback": [
      "\u001b[0;31m---------------------------------------------------------------------------\u001b[0m",
      "\u001b[0;31mKeyboardInterrupt\u001b[0m                         Traceback (most recent call last)",
      "Cell \u001b[0;32mIn[185], line 31\u001b[0m\n\u001b[1;32m     28\u001b[0m k \u001b[38;5;241m=\u001b[39m \u001b[38;5;241m50\u001b[39m\n\u001b[1;32m     30\u001b[0m top_k \u001b[38;5;241m=\u001b[39m \u001b[38;5;241m100\u001b[39m  \u001b[38;5;66;03m# 예를 들어 상위 10개 결과를 가져오고 싶은 경우\u001b[39;00m\n\u001b[0;32m---> 31\u001b[0m top_k_scores \u001b[38;5;241m=\u001b[39m \u001b[43mbm25\u001b[49m\u001b[38;5;241;43m.\u001b[39;49m\u001b[43mget_scores\u001b[49m\u001b[43m(\u001b[49m\u001b[43mquery\u001b[49m\u001b[43m)\u001b[49m\n\u001b[1;32m     32\u001b[0m top_k_indices \u001b[38;5;241m=\u001b[39m top_k_scores\u001b[38;5;241m.\u001b[39margsort()[\u001b[38;5;241m-\u001b[39mtop_k:][::\u001b[38;5;241m-\u001b[39m\u001b[38;5;241m1\u001b[39m]  \u001b[38;5;66;03m# 점수가 높은 순서로 인덱스 정렬\u001b[39;00m\n\u001b[1;32m     34\u001b[0m \u001b[38;5;66;03m# 결과 출력\u001b[39;00m\n",
      "File \u001b[0;32m~/anaconda3/envs/llava/lib/python3.10/site-packages/rank_bm25.py:118\u001b[0m, in \u001b[0;36mBM25Okapi.get_scores\u001b[0;34m(self, query)\u001b[0m\n\u001b[1;32m    116\u001b[0m doc_len \u001b[38;5;241m=\u001b[39m np\u001b[38;5;241m.\u001b[39marray(\u001b[38;5;28mself\u001b[39m\u001b[38;5;241m.\u001b[39mdoc_len)\n\u001b[1;32m    117\u001b[0m \u001b[38;5;28;01mfor\u001b[39;00m q \u001b[38;5;129;01min\u001b[39;00m query:\n\u001b[0;32m--> 118\u001b[0m     q_freq \u001b[38;5;241m=\u001b[39m np\u001b[38;5;241m.\u001b[39marray([(doc\u001b[38;5;241m.\u001b[39mget(q) \u001b[38;5;129;01mor\u001b[39;00m \u001b[38;5;241m0\u001b[39m) \u001b[38;5;28;01mfor\u001b[39;00m doc \u001b[38;5;129;01min\u001b[39;00m \u001b[38;5;28mself\u001b[39m\u001b[38;5;241m.\u001b[39mdoc_freqs])\n\u001b[1;32m    119\u001b[0m     score \u001b[38;5;241m+\u001b[39m\u001b[38;5;241m=\u001b[39m (\u001b[38;5;28mself\u001b[39m\u001b[38;5;241m.\u001b[39midf\u001b[38;5;241m.\u001b[39mget(q) \u001b[38;5;129;01mor\u001b[39;00m \u001b[38;5;241m0\u001b[39m) \u001b[38;5;241m*\u001b[39m (q_freq \u001b[38;5;241m*\u001b[39m (\u001b[38;5;28mself\u001b[39m\u001b[38;5;241m.\u001b[39mk1 \u001b[38;5;241m+\u001b[39m \u001b[38;5;241m1\u001b[39m) \u001b[38;5;241m/\u001b[39m\n\u001b[1;32m    120\u001b[0m                                        (q_freq \u001b[38;5;241m+\u001b[39m \u001b[38;5;28mself\u001b[39m\u001b[38;5;241m.\u001b[39mk1 \u001b[38;5;241m*\u001b[39m (\u001b[38;5;241m1\u001b[39m \u001b[38;5;241m-\u001b[39m \u001b[38;5;28mself\u001b[39m\u001b[38;5;241m.\u001b[39mb \u001b[38;5;241m+\u001b[39m \u001b[38;5;28mself\u001b[39m\u001b[38;5;241m.\u001b[39mb \u001b[38;5;241m*\u001b[39m doc_len \u001b[38;5;241m/\u001b[39m \u001b[38;5;28mself\u001b[39m\u001b[38;5;241m.\u001b[39mavgdl)))\n\u001b[1;32m    121\u001b[0m \u001b[38;5;28;01mreturn\u001b[39;00m score\n",
      "File \u001b[0;32m~/anaconda3/envs/llava/lib/python3.10/site-packages/rank_bm25.py:118\u001b[0m, in \u001b[0;36m<listcomp>\u001b[0;34m(.0)\u001b[0m\n\u001b[1;32m    116\u001b[0m doc_len \u001b[38;5;241m=\u001b[39m np\u001b[38;5;241m.\u001b[39marray(\u001b[38;5;28mself\u001b[39m\u001b[38;5;241m.\u001b[39mdoc_len)\n\u001b[1;32m    117\u001b[0m \u001b[38;5;28;01mfor\u001b[39;00m q \u001b[38;5;129;01min\u001b[39;00m query:\n\u001b[0;32m--> 118\u001b[0m     q_freq \u001b[38;5;241m=\u001b[39m np\u001b[38;5;241m.\u001b[39marray([(\u001b[43mdoc\u001b[49m\u001b[38;5;241;43m.\u001b[39;49m\u001b[43mget\u001b[49m\u001b[43m(\u001b[49m\u001b[43mq\u001b[49m\u001b[43m)\u001b[49m \u001b[38;5;129;01mor\u001b[39;00m \u001b[38;5;241m0\u001b[39m) \u001b[38;5;28;01mfor\u001b[39;00m doc \u001b[38;5;129;01min\u001b[39;00m \u001b[38;5;28mself\u001b[39m\u001b[38;5;241m.\u001b[39mdoc_freqs])\n\u001b[1;32m    119\u001b[0m     score \u001b[38;5;241m+\u001b[39m\u001b[38;5;241m=\u001b[39m (\u001b[38;5;28mself\u001b[39m\u001b[38;5;241m.\u001b[39midf\u001b[38;5;241m.\u001b[39mget(q) \u001b[38;5;129;01mor\u001b[39;00m \u001b[38;5;241m0\u001b[39m) \u001b[38;5;241m*\u001b[39m (q_freq \u001b[38;5;241m*\u001b[39m (\u001b[38;5;28mself\u001b[39m\u001b[38;5;241m.\u001b[39mk1 \u001b[38;5;241m+\u001b[39m \u001b[38;5;241m1\u001b[39m) \u001b[38;5;241m/\u001b[39m\n\u001b[1;32m    120\u001b[0m                                        (q_freq \u001b[38;5;241m+\u001b[39m \u001b[38;5;28mself\u001b[39m\u001b[38;5;241m.\u001b[39mk1 \u001b[38;5;241m*\u001b[39m (\u001b[38;5;241m1\u001b[39m \u001b[38;5;241m-\u001b[39m \u001b[38;5;28mself\u001b[39m\u001b[38;5;241m.\u001b[39mb \u001b[38;5;241m+\u001b[39m \u001b[38;5;28mself\u001b[39m\u001b[38;5;241m.\u001b[39mb \u001b[38;5;241m*\u001b[39m doc_len \u001b[38;5;241m/\u001b[39m \u001b[38;5;28mself\u001b[39m\u001b[38;5;241m.\u001b[39mavgdl)))\n\u001b[1;32m    121\u001b[0m \u001b[38;5;28;01mreturn\u001b[39;00m score\n",
      "\u001b[0;31mKeyboardInterrupt\u001b[0m: "
     ]
    }
   ],
   "source": [
    "root_path = '/home/jwsuh/harddisk/2403_new_research/construction_dataset/dataset/LLaVA_inference/llava_image_result_with_obj'\n",
    "\n",
    "files = os.listdir(root_path)\n",
    "\n",
    "# 규칙을 하나의 리스트로 결합\n",
    "combined_rules = normal_rule + abnormal_rule\n",
    "# tokenized_rules = [remove_stopwords(sentence) for sentence in combined_rules]\n",
    "\n",
    "# 규칙 문장들 토큰화\n",
    "tokenized_rules = [tokenize(rule) for rule in combined_rules]\n",
    "\n",
    "# BM25 모델 생성\n",
    "bm25 = BM25Okapi(tokenized_rules)\n",
    "\n",
    "correct = 0\n",
    "\n",
    "for file in tqdm(sorted(files)):\n",
    "    # print(file)\n",
    "    # file = \"H-221107_A26_N-05_003_0049.json\"\n",
    "    with open(os.path.join(root_path, file), 'r', encoding=\"UTF-8\") as j:\n",
    "        caption = json.load(j)\n",
    "    \n",
    "    query = tokenize(caption['outputs'])\n",
    "    # query = remove_stopwords(query)\n",
    "    # query = ' '.join(query)\n",
    "    # 상위 k개의 가장 관련있는 규칙 추출\n",
    "    \n",
    "    k = 50\n",
    "    \n",
    "    top_k = 100  # 예를 들어 상위 10개 결과를 가져오고 싶은 경우\n",
    "    top_k_scores = bm25.get_scores(query)\n",
    "    top_k_indices = top_k_scores.argsort()[-top_k:][::-1]  # 점수가 높은 순서로 인덱스 정렬\n",
    "\n",
    "    # 결과 출력\n",
    "    top_k_results = [(combined_rules[i], top_k_scores[i]) for i in top_k_indices]\n",
    "    \n",
    "    answer = file.split('_')[2]\n",
    "    \n",
    "    if answer[0] == 'Y':\n",
    "        answer_index = int(answer[2:]) - 1\n",
    "        # print(answer_index)\n",
    "    elif answer[0] == 'N':\n",
    "        answer_index = int(answer[2:]) + 49\n",
    "        # print(answer_index)\n",
    "    rank = find_answer_rank(top_k_indices, answer_index)\n",
    "    \n",
    "    # for i in top_k_results:\n",
    "    #     print(i)\n",
    "    \n",
    "    if rank <= k:\n",
    "        correct += 1\n",
    "    # else:\n",
    "    #     print(f\"The answer is ranked {rank} in the top results.\")\n",
    "    # break\n",
    "\n",
    "print(\"accuracy:\", correct / len(files))\n",
    "    "
   ]
  },
  {
   "cell_type": "code",
   "execution_count": 186,
   "metadata": {},
   "outputs": [
    {
     "data": {
      "text/plain": [
       "[('Working from the top of the ladder', 49.23595092022736),\n",
       " ('Worker working at the top and bottom of the ladder', 47.33483903235452),\n",
       " ('Working only on the top (or bottom) of the system scaffold',\n",
       "  44.77276539821859),\n",
       " ('Worker operating outside the hazard radius of a dump truck',\n",
       "  41.54073105577899),\n",
       " ('Worker operating within the hazard radius of a dump truck',\n",
       "  41.54073105577899),\n",
       " ('Material placement at the edge of a horse scaffold', 39.91204245925877),\n",
       " ('Material placement on the end of the formwork', 39.59277237252375),\n",
       " ('Working only on the top (or bottom) during formwork installation and dismantling',\n",
       "  38.2045953585514),\n",
       " ('No materials placed on the end of the formwork', 37.81502574259518),\n",
       " ('Worker operating outside the hazard radius on a scissor lift',\n",
       "  34.67042729158017),\n",
       " ('Worker operating within the hazard radius on a scissor lift',\n",
       "  34.67042729158017),\n",
       " ('Worker operating within the hazard radius of a concrete mixer',\n",
       "  33.2427717079609),\n",
       " ('Worker operating outside the hazard radius of a concrete mixer',\n",
       "  33.2427717079609),\n",
       " ('Improper overloading of a Ladder Truck', 31.20461606508204),\n",
       " ('Proper loading of a Ladder Truck', 31.20461606508204),\n",
       " ('Working within the horizontal hazard radius of an excavator',\n",
       "  29.08678965417153),\n",
       " ('Working outside the horizontal hazard radius of an excavator',\n",
       "  29.08678965417153),\n",
       " ('Proper placement of materials and tools on a horse scaffold',\n",
       "  26.434215867452593),\n",
       " ('Installation on top of materials on a horse scaffold', 22.626996253215154),\n",
       " ('Use of a metal lifting box during mobile crane operations',\n",
       "  18.767748216240204),\n",
       " ('Simultaneous top and bottom work on system scaffold (two-person operation)',\n",
       "  18.50323467762096),\n",
       " ('Signalman deployment during pipeline construction', 18.074489614165994),\n",
       " ('No signalman deployed during pipeline construction', 16.848176711584056),\n",
       " ('Non-use of a metal lifting box during mobile crane operations',\n",
       "  15.211027002744427),\n",
       " ('support plate with support installation', 14.677684353748015),\n",
       " ('Fire extinguisher placement with oxy cutter in material storage area',\n",
       "  14.049706869673312),\n",
       " ('Fire extinguisher placement with stove installation in material storage area',\n",
       "  14.049706869673312),\n",
       " ('Poor support plate with support installation', 13.880032833002865),\n",
       " ('Signalman deployment during Ladder Truck operations', 13.878520955536292),\n",
       " ('No fire extinguisher placement with oxy cutter in material storage area',\n",
       "  13.337928868958087),\n",
       " ('No fire extinguisher placement with stove installation in material storage area',\n",
       "  13.337928868958087),\n",
       " ('Formwork with support installation', 13.020147393473756),\n",
       " ('No signalman deployed during Ladder Truck operations', 12.996722942124169),\n",
       " ('Safety railing installation for openings', 12.746021311721538),\n",
       " ('Poor formwork with support installation', 12.072461776480113),\n",
       " ('Safety railing installation for openings defect', 11.881232832222901),\n",
       " ('Signalman deployment during dump truck operations', 11.556482758200719),\n",
       " ('Signalman deployment during concrete pump truck operations',\n",
       "  10.822219822628485),\n",
       " ('No signalman deployed during dump truck operations', 10.822219822628485),\n",
       " ('Stove installation near interior finishing work', 10.76005545932241),\n",
       " ('Concrete pump truck safety device installation', 10.549949822913863),\n",
       " ('No signalman deployed during concrete pump truck operations',\n",
       "  10.17568826999884),\n",
       " ('No stove installation near interior finishing work', 10.076395034797866),\n",
       " ('Simultaneous top and bottom formwork installation and dismantling (two-person operation)',\n",
       "  10.043290782050468),\n",
       " ('Faulty concrete pump truck safety device installation', 9.879638856403274),\n",
       " ('Temporary ladder installed on rolling tower catwalk', 7.834786686720042),\n",
       " ('No temporary ladder on rolling tower catwalk', 7.834786686720042),\n",
       " ('Non-compliance with scissor lift over-elevation prevention bar installation height',\n",
       "  7.14929687118436),\n",
       " ('Compliance with scissor lift over-elevation prevention bar installation height',\n",
       "  7.14929687118436),\n",
       " (\"Overloading materials beyond forklift driver's line of sight\",\n",
       "  6.804594831515171),\n",
       " (\"Loading materials below forklift driver's line of sight\",\n",
       "  6.804594831515171),\n",
       " ('Welding next to flammable materials', 6.602120116465849),\n",
       " ('Welding next to non-combustible materials', 6.602120116465849),\n",
       " ('Protective shelf installation at entrance', 6.191379943979445),\n",
       " ('Falling hazards placed on system scaffold', 6.044320899339091),\n",
       " ('Defective protective shelf installation at entrance', 5.7713089338338355),\n",
       " ('Fire extinguisher placement next to welding equipment', 5.763163800924828),\n",
       " ('Circular saw operation next to non-combustible materials',\n",
       "  5.763163800924828),\n",
       " ('No falling hazards placed on system scaffold', 5.660283567224359),\n",
       " ('No fire extinguisher placement next to welding equipment',\n",
       "  5.418865930308677),\n",
       " ('Vertical safety net installation at end section', 5.40461793203712),\n",
       " ('Vertical safety net installation at end section defect',\n",
       "  5.0817399938470516),\n",
       " ('Placement of flammable materials during circular saw operation',\n",
       "  4.610166923237587),\n",
       " ('Proper ladder installation', 2.915460169205524),\n",
       " ('Ladder installed over materials', 2.686597181653412),\n",
       " ('Signalman deployment during excavator operations', 1.0797945318706141),\n",
       " ('Signalman deployment during auger crane operations', 1.0065329352868557),\n",
       " ('Signalman deployment during mobile crane operations', 1.0065329352868557),\n",
       " ('Portable fan installation during interior finishing', 1.0065329352868557),\n",
       " ('Signalman deployment during concrete mixer operations', 1.0065329352868557),\n",
       " ('Signalman deployment during excavator material lifting',\n",
       "  1.0065329352868557),\n",
       " ('No signalman deployed during excavator operations', 1.0065329352868557),\n",
       " ('No signalman deployed during excavator material lifting',\n",
       "  0.9425809662252128),\n",
       " ('Safety device installation during auger crane operations',\n",
       "  0.9425809662252128),\n",
       " ('No portable fan installed during interior finishing', 0.9425809662252128),\n",
       " ('No signalman deployed during concrete mixer operations',\n",
       "  0.9425809662252128),\n",
       " ('No signalman deployed during mobile crane operations', 0.9425809662252128),\n",
       " ('No signalman deployed during auger crane operations', 0.9425809662252128),\n",
       " ('Faulty safety device installation during auger crane operations',\n",
       "  0.8862701219103978),\n",
       " ('Fire extinguisher placement during circular saw operation (spark arrestor)',\n",
       "  0.7515710321745084),\n",
       " ('No fire extinguisher placement during circular saw operation (spark arrestor)',\n",
       "  0.7153313360075083),\n",
       " ('Opening cover installation', 0.0),\n",
       " ('end section safety railing installation', 0.0),\n",
       " ('Safety net installation', 0.0),\n",
       " ('Closed hatch catwalk', 0.0),\n",
       " ('rolling tower safety railing installation', 0.0),\n",
       " ('Forklift Signalman deployment', 0.0),\n",
       " ('Flammable material placement outside hazardous material storage', 0.0),\n",
       " ('No fire extinguisher placement outside hazardous material storage', 0.0),\n",
       " ('Safety net installation defect', 0.0),\n",
       " ('Rolling tower safety railing installation defect', 0.0),\n",
       " ('Fire extinguisher placement outside hazardous material storage', 0.0),\n",
       " ('Non-combustible material placement outside hazardous material storage',\n",
       "  0.0),\n",
       " ('End section safety railing installation defect', 0.0),\n",
       " ('Opening cover installation defect', 0.0),\n",
       " ('Open hatch catwalk', 0.0),\n",
       " ('Proper horse scaffold installation', 0.0),\n",
       " ('System scaffold catwalk installation defect', 0.0),\n",
       " ('No forklift signalman deployed', 0.0),\n",
       " ('System scaffold catwalk installation', 0.0)]"
      ]
     },
     "execution_count": 186,
     "metadata": {},
     "output_type": "execute_result"
    }
   ],
   "source": [
    "top_k_results"
   ]
  },
  {
   "cell_type": "code",
   "execution_count": 51,
   "metadata": {},
   "outputs": [
    {
     "name": "stdout",
     "output_type": "stream",
     "text": [
      "('Worker working at the top and bottom of the ladder', 115.51986914951269)\n",
      "('Working from the top of the ladder', 114.69374316147665)\n",
      "('Material placement on the end of the formwork', 105.13267045438994)\n",
      "('Material placement at the edge of a horse scaffold', 102.60859878476975)\n",
      "('No materials placed on the end of the formwork', 102.32331257552454)\n",
      "('Worker operating outside the hazard radius of a dump truck', 94.86321216099593)\n",
      "('Worker operating outside the hazard radius of a concrete mixer', 94.86321216099593)\n",
      "('Worker operating within the hazard radius of a concrete mixer', 94.86321216099593)\n",
      "('Worker operating within the hazard radius of a dump truck', 94.86321216099593)\n",
      "('Working only on the top (or bottom) of the system scaffold', 93.8928698206872)\n",
      "('Worker operating outside the hazard radius on a scissor lift', 89.29237759817102)\n",
      "('Worker operating within the hazard radius on a scissor lift', 89.29237759817102)\n",
      "('Use of a metal lifting box during mobile crane operations', 87.12385630492207)\n",
      "('Non-use of a metal lifting box during mobile crane operations', 87.12385630492207)\n",
      "('Proper placement of materials and tools on a horse scaffold', 76.41575217089667)\n",
      "('Working only on the top (or bottom) during formwork installation and dismantling', 74.70147275708436)\n",
      "('Working outside the horizontal hazard radius of an excavator', 68.40429692912956)\n",
      "('Working within the horizontal hazard radius of an excavator', 68.40429692912956)\n",
      "('Proper loading of a Ladder Truck', 58.01702455667407)\n",
      "('Improper overloading of a Ladder Truck', 58.01702455667407)\n",
      "('Installation on top of materials on a horse scaffold', 57.52930482930247)\n",
      "('Fire extinguisher placement next to welding equipment', 49.4140978562078)\n",
      "('Signalman deployment during pipeline construction', 47.23239121129597)\n",
      "('No fire extinguisher placement next to welding equipment', 46.46204421727073)\n",
      "(\"Overloading materials beyond forklift driver's line of sight\", 44.652865906386495)\n",
      "(\"Loading materials below forklift driver's line of sight\", 44.652865906386495)\n",
      "('No signalman deployed during pipeline construction', 44.027781178113415)\n",
      "('Welding next to non-combustible materials', 42.103770976810175)\n",
      "('Welding next to flammable materials', 42.103770976810175)\n",
      "('Circular saw operation next to non-combustible materials', 39.45579489106321)\n",
      "('Signalman deployment during mobile crane operations', 39.34035690553036)\n",
      "('No signalman deployed during mobile crane operations', 36.840793106379124)\n",
      "('Simultaneous top and bottom formwork installation and dismantling (two-person operation)', 35.528437252981135)\n",
      "('Safety railing installation for openings', 33.753988254663994)\n",
      "('Safety device installation during auger crane operations', 33.72089445780617)\n",
      "('Simultaneous top and bottom work on system scaffold (two-person operation)', 33.312989903339314)\n",
      "('Signalman deployment during auger crane operations', 32.73106052476414)\n",
      "('Faulty safety device installation during auger crane operations', 31.70637039461165)\n",
      "('Safety railing installation for openings defect', 31.46385712543688)\n",
      "('No signalman deployed during auger crane operations', 30.651430840875143)\n",
      "('Fire extinguisher placement with stove installation in material storage area', 27.326551506451548)\n",
      "('Fire extinguisher placement with oxy cutter in material storage area', 27.326551506451548)\n",
      "('No fire extinguisher placement with oxy cutter in material storage area', 25.942149797709277)\n",
      "('No fire extinguisher placement with stove installation in material storage area', 25.942149797709277)\n",
      "('Placement of flammable materials during circular saw operation', 21.96365093355118)\n",
      "('Compliance with scissor lift over-elevation prevention bar installation height', 21.71946146416767)\n",
      "('Non-compliance with scissor lift over-elevation prevention bar installation height', 21.71946146416767)\n",
      "('Signalman deployment during excavator material lifting', 14.337616308519745)\n",
      "('Falling hazards placed on system scaffold', 13.965142787487693)\n",
      "('Formwork with support installation', 13.43298590826706)\n",
      "('No signalman deployed during excavator material lifting', 13.426648805684037)\n",
      "('No falling hazards placed on system scaffold', 13.077841092553774)\n",
      "('Vertical safety net installation at end section', 12.616686956396219)\n",
      "('support plate with support installation', 12.455251390075361)\n",
      "('Poor formwork with support installation', 12.455251390075361)\n",
      "('Vertical safety net installation at end section defect', 11.862951924152172)\n",
      "('Poor support plate with support installation', 11.61019098667786)\n",
      "('end section safety railing installation', 11.35763560321064)\n",
      "('End section safety railing installation defect', 10.587045927907996)\n",
      "('Safety net installation', 9.669565331760213)\n",
      "('Temporary ladder installed on rolling tower catwalk', 9.019081912156981)\n",
      "('Safety net installation defect', 8.910506561713621)\n",
      "('rolling tower safety railing installation', 8.26194563122092)\n",
      "('Concrete pump truck safety device installation', 7.701391460991078)\n",
      "('Rolling tower safety railing installation defect', 7.701391460991078)\n",
      "('Faulty concrete pump truck safety device installation', 7.212069024359099)\n",
      "('Stove installation near interior finishing work', 7.173370306214941)\n",
      "('Ladder installed over materials', 6.836390339609854)\n",
      "('No stove installation near interior finishing work', 6.7175966898652435)\n",
      "('No temporary ladder on rolling tower catwalk', 5.660283567224359)\n",
      "('Forklift Signalman deployment', 5.5541888874792855)\n",
      "('No forklift signalman deployed', 5.118186270930542)\n",
      "('Signalman deployment during excavator operations', 4.745653505557514)\n",
      "('No signalman deployed during excavator operations', 4.423671737370422)\n",
      "('Signalman deployment during Ladder Truck operations', 4.423671737370422)\n",
      "('Signalman deployment during concrete mixer operations', 4.423671737370422)\n",
      "('Signalman deployment during dump truck operations', 4.423671737370422)\n",
      "('No signalman deployed during concrete mixer operations', 4.142605407428073)\n",
      "('No signalman deployed during Ladder Truck operations', 4.142605407428073)\n",
      "('Signalman deployment during concrete pump truck operations', 4.142605407428073)\n",
      "('No signalman deployed during dump truck operations', 4.142605407428073)\n",
      "('No signalman deployed during concrete pump truck operations', 3.895121513190751)\n",
      "('No portable fan installed during interior finishing', 3.3587983449326217)\n",
      "('Protective shelf installation at entrance', 3.0956899719897226)\n",
      "('Defective protective shelf installation at entrance', 2.8856544669169177)\n",
      "('Fire extinguisher placement during circular saw operation (spark arrestor)', 2.154697804877732)\n",
      "('No fire extinguisher placement during circular saw operation (spark arrestor)', 2.050801312812907)\n",
      "('Proper ladder installation', 0.0)\n",
      "('Closed hatch catwalk', 0.0)\n",
      "('Opening cover installation', 0.0)\n",
      "('Fire extinguisher placement outside hazardous material storage', 0.0)\n",
      "('Flammable material placement outside hazardous material storage', 0.0)\n",
      "('No fire extinguisher placement outside hazardous material storage', 0.0)\n",
      "('Portable fan installation during interior finishing', 0.0)\n",
      "('Non-combustible material placement outside hazardous material storage', 0.0)\n",
      "('Proper horse scaffold installation', 0.0)\n",
      "('System scaffold catwalk installation defect', 0.0)\n",
      "('Open hatch catwalk', 0.0)\n",
      "('Opening cover installation defect', 0.0)\n",
      "('System scaffold catwalk installation', 0.0)\n"
     ]
    }
   ],
   "source": [
    "with open(\"/home/jwsuh/harddisk/2403_new_research/construction_dataset/dataset/LLaVA_inference/llava_image_result_with_obj/H-221027_B13_Y-20_003_0057.json\", 'r', encoding=\"UTF-8\") as j:\n",
    "    caption = json.load(j)\n",
    "\n",
    "query = tokenize(caption['outputs'])\n",
    "\n",
    "# 상위 k개의 가장 관련있는 규칙 추출\n",
    "\n",
    "k = 50\n",
    "\n",
    "top_k = 100  # 예를 들어 상위 10개 결과를 가져오고 싶은 경우\n",
    "top_k_scores = bm25.get_scores(query)\n",
    "top_k_indices = top_k_scores.argsort()[-top_k:][::-1]  # 점수가 높은 순서로 인덱스 정렬\n",
    "\n",
    "# 결과 출력\n",
    "top_k_results = [(combined_rules[i], top_k_scores[i]) for i in top_k_indices]\n",
    "\n",
    "for i in top_k_results:\n",
    "    print(i)\n",
    "    "
   ]
  },
  {
   "cell_type": "markdown",
   "metadata": {},
   "source": [
    "### DPR"
   ]
  },
  {
   "cell_type": "code",
   "execution_count": 100,
   "metadata": {},
   "outputs": [],
   "source": [
    "from transformers import DPRContextEncoder, DPRContextEncoderTokenizer\n",
    "from transformers import DPRQuestionEncoder, DPRQuestionEncoderTokenizer\n",
    "import torch"
   ]
  },
  {
   "cell_type": "code",
   "execution_count": 147,
   "metadata": {},
   "outputs": [
    {
     "name": "stderr",
     "output_type": "stream",
     "text": [
      "Some weights of the model checkpoint at facebook/dpr-ctx_encoder-single-nq-base were not used when initializing DPRContextEncoder: ['ctx_encoder.bert_model.pooler.dense.bias', 'ctx_encoder.bert_model.pooler.dense.weight']\n",
      "- This IS expected if you are initializing DPRContextEncoder from the checkpoint of a model trained on another task or with another architecture (e.g. initializing a BertForSequenceClassification model from a BertForPreTraining model).\n",
      "- This IS NOT expected if you are initializing DPRContextEncoder from the checkpoint of a model that you expect to be exactly identical (initializing a BertForSequenceClassification model from a BertForSequenceClassification model).\n",
      "The tokenizer class you load from this checkpoint is not the same type as the class this function is called from. It may result in unexpected tokenization. \n",
      "The tokenizer class you load from this checkpoint is 'DPRQuestionEncoderTokenizer'. \n",
      "The class this function is called from is 'DPRContextEncoderTokenizer'.\n",
      "Some weights of the model checkpoint at facebook/dpr-question_encoder-single-nq-base were not used when initializing DPRQuestionEncoder: ['question_encoder.bert_model.pooler.dense.bias', 'question_encoder.bert_model.pooler.dense.weight']\n",
      "- This IS expected if you are initializing DPRQuestionEncoder from the checkpoint of a model trained on another task or with another architecture (e.g. initializing a BertForSequenceClassification model from a BertForPreTraining model).\n",
      "- This IS NOT expected if you are initializing DPRQuestionEncoder from the checkpoint of a model that you expect to be exactly identical (initializing a BertForSequenceClassification model from a BertForSequenceClassification model).\n"
     ]
    }
   ],
   "source": [
    "# 모델과 토크나이저 로드\n",
    "context_encoder = DPRContextEncoder.from_pretrained('facebook/dpr-ctx_encoder-single-nq-base')\n",
    "context_tokenizer = DPRContextEncoderTokenizer.from_pretrained('facebook/dpr-ctx_encoder-single-nq-base')\n",
    "\n",
    "question_encoder = DPRQuestionEncoder.from_pretrained('facebook/dpr-question_encoder-single-nq-base')\n",
    "question_tokenizer = DPRQuestionEncoderTokenizer.from_pretrained('facebook/dpr-question_encoder-single-nq-base')\n",
    "\n",
    "# 규칙 문장 벡터화 함수\n",
    "def encode_contexts(texts):\n",
    "    inputs = context_tokenizer(texts, return_tensors=\"pt\", padding=True, truncation=True)\n",
    "    embeddings = context_encoder(**inputs)\n",
    "    return embeddings.pooler_output\n",
    "\n",
    "# 쿼리 벡터화 함수\n",
    "def encode_query(query):\n",
    "    inputs = question_tokenizer(query, return_tensors=\"pt\", padding=True, truncation=True)\n",
    "    embeddings = question_encoder(**inputs)\n",
    "    return embeddings.pooler_output"
   ]
  },
  {
   "cell_type": "code",
   "execution_count": 106,
   "metadata": {},
   "outputs": [],
   "source": [
    "def find_rank_of_answer_in_dpr_results(top_k_indices, answer_index):\n",
    "    \"\"\"\n",
    "    top_k_indices: 상위 문서들의 인덱스가 담긴 배열\n",
    "    answer_index: 찾고자 하는 정답 문서의 인덱스\n",
    "    반환값: 정답 문서의 순위 (1부터 시작), 목록에 없는 경우 -1 반환\n",
    "    \"\"\"\n",
    "    try:\n",
    "        # top_k_indices 배열에서 정답 인덱스의 위치를 찾아 순위 반환\n",
    "        rank = list(top_k_indices).index(answer_index) + 1\n",
    "        return rank\n",
    "    except ValueError:\n",
    "        # 정답 인덱스가 배열에 없는 경우\n",
    "        return -1"
   ]
  },
  {
   "cell_type": "code",
   "execution_count": 149,
   "metadata": {},
   "outputs": [
    {
     "name": "stderr",
     "output_type": "stream",
     "text": [
      "100%|██████████| 943/943 [01:19<00:00, 11.83it/s]"
     ]
    },
    {
     "name": "stdout",
     "output_type": "stream",
     "text": [
      "accuracy: 0.3902439024390244\n"
     ]
    },
    {
     "name": "stderr",
     "output_type": "stream",
     "text": [
      "\n"
     ]
    }
   ],
   "source": [
    "# 규칙 문장 벡터화\n",
    "context_embeddings = encode_contexts(combined_rules)\n",
    "\n",
    "# 쿼리 벡터화\n",
    "correct = 0\n",
    "\n",
    "root_path = '/home/jwsuh/harddisk/2403_new_research/construction_dataset/dataset/LLaVA_inference/llava_image_result_with_obj'\n",
    "\n",
    "files = os.listdir(root_path)\n",
    "\n",
    "for file in tqdm(sorted(files)):\n",
    "    # print(file)\n",
    "    # file = \"H-221107_A26_N-05_003_0049.json\"\n",
    "    with open(os.path.join(root_path, file), 'r', encoding=\"UTF-8\") as j:\n",
    "        caption = json.load(j)\n",
    "    # query = remove_stopwords(caption['outputs'])\n",
    "    # query = ' '.join(query)\n",
    "    query_embedding = encode_query(caption['outputs'])\n",
    "    # query_embedding = encode_query(query)\n",
    "\n",
    "    # 유사성 계산\n",
    "    similarities = torch.matmul(query_embedding, context_embeddings.T).squeeze(0)\n",
    "\n",
    "    k = 10\n",
    "\n",
    "    # 상위 k개 문서 반환\n",
    "    \n",
    "    top_k = 100\n",
    "    top_k_indices = torch.topk(similarities, k=top_k).indices\n",
    "\n",
    "    # 결과 출력\n",
    "    # for index in top_k_indices:\n",
    "        # print(combined_rules[index], similarities[index].item())\n",
    "    answer = file.split('_')[2]\n",
    "    \n",
    "    if answer[0] == 'Y':\n",
    "        answer_index = int(answer[2:]) - 1\n",
    "        # print(answer_index)\n",
    "    elif answer[0] == 'N':\n",
    "        answer_index = int(answer[2:]) + 49\n",
    "        # print(answer_index)\n",
    "    rank = find_rank_of_answer_in_dpr_results(top_k_indices, answer_index)\n",
    "    \n",
    "    # for i in top_k_results:\n",
    "    #     print(i)\n",
    "    \n",
    "    if rank <= k:\n",
    "        correct += 1\n",
    "    # else:\n",
    "    #     print(f\"The answer is ranked {rank} in the top results.\")\n",
    "    # break\n",
    "\n",
    "print(\"accuracy:\", correct / len(files))"
   ]
  },
  {
   "cell_type": "code",
   "execution_count": 118,
   "metadata": {},
   "outputs": [
    {
     "name": "stdout",
     "output_type": "stream",
     "text": [
      "No falling hazards placed on system scaffold 73.15587615966797\n",
      "Proper horse scaffold installation 71.16910552978516\n",
      "Falling hazards placed on system scaffold 70.80186462402344\n",
      "Safety railing installation for openings defect 70.44868469238281\n",
      "Fire extinguisher placement outside hazardous material storage 70.3277587890625\n",
      "Material placement at the edge of a horse scaffold 69.73934173583984\n",
      "Proper placement of materials and tools on a horse scaffold 69.5841293334961\n",
      "Fire extinguisher placement next to welding equipment 69.04817199707031\n",
      "Safety device installation during auger crane operations 68.91004943847656\n",
      "Working only on the top (or bottom) during formwork installation and dismantling 68.57279968261719\n",
      "No fire extinguisher placement next to welding equipment 68.35093688964844\n",
      "No fire extinguisher placement with oxy cutter in material storage area 68.17562866210938\n",
      "Safety net installation 68.1009292602539\n",
      "rolling tower safety railing installation 68.05232238769531\n",
      "System scaffold catwalk installation 68.04325866699219\n",
      "Proper ladder installation 67.51219940185547\n",
      "No fire extinguisher placement outside hazardous material storage 67.4974594116211\n",
      "Safety railing installation for openings 67.17222595214844\n",
      "Ladder installed over materials 67.15144348144531\n",
      "Non-use of a metal lifting box during mobile crane operations 67.02214813232422\n",
      "Rolling tower safety railing installation defect 67.01780700683594\n",
      "Non-combustible material placement outside hazardous material storage 66.95573425292969\n",
      "No fire extinguisher placement with stove installation in material storage area 66.87022399902344\n",
      "System scaffold catwalk installation defect 66.69635772705078\n",
      "Fire extinguisher placement with oxy cutter in material storage area 66.49898529052734\n",
      "Fire extinguisher placement with stove installation in material storage area 66.22317504882812\n",
      "Flammable material placement outside hazardous material storage 65.95293426513672\n",
      "Vertical safety net installation at end section defect 65.79061889648438\n",
      "end section safety railing installation 65.7789077758789\n",
      "Simultaneous top and bottom formwork installation and dismantling (two-person operation) 65.70802307128906\n",
      "No fire extinguisher placement during circular saw operation (spark arrestor) 65.70255279541016\n",
      "Overloading materials beyond forklift driver's line of sight 65.30867004394531\n",
      "End section safety railing installation defect 64.83642578125\n",
      "Safety net installation defect 64.519775390625\n",
      "Opening cover installation defect 64.33377838134766\n",
      "Portable fan installation during interior finishing 64.13711547851562\n",
      "Fire extinguisher placement during circular saw operation (spark arrestor) 64.1187744140625\n",
      "Welding next to non-combustible materials 64.02374267578125\n",
      "Placement of flammable materials during circular saw operation 63.95643615722656\n",
      "Material placement on the end of the formwork 63.913719177246094\n",
      "Loading materials below forklift driver's line of sight 63.719112396240234\n",
      "Working only on the top (or bottom) of the system scaffold 63.715248107910156\n",
      "Non-compliance with scissor lift over-elevation prevention bar installation height 63.66157531738281\n",
      "Signalman deployment during excavator operations 63.48199462890625\n",
      "Temporary ladder installed on rolling tower catwalk 63.28764724731445\n",
      "Opening cover installation 63.27846908569336\n",
      "Proper loading of a Ladder Truck 63.225868225097656\n",
      "Compliance with scissor lift over-elevation prevention bar installation height 63.22401428222656\n",
      "No portable fan installed during interior finishing 63.1490592956543\n",
      "Signalman deployment during pipeline construction 63.127349853515625\n",
      "Faulty safety device installation during auger crane operations 63.01559829711914\n",
      "No signalman deployed during excavator operations 62.760887145996094\n",
      "Vertical safety net installation at end section 62.676456451416016\n",
      "Protective shelf installation at entrance 62.672576904296875\n",
      "Use of a metal lifting box during mobile crane operations 62.52095031738281\n",
      "Signalman deployment during dump truck operations 62.32874298095703\n",
      "No temporary ladder on rolling tower catwalk 62.31576156616211\n",
      "Worker operating within the hazard radius of a concrete mixer 62.301307678222656\n",
      "Concrete pump truck safety device installation 62.26298141479492\n",
      "Improper overloading of a Ladder Truck 62.2411994934082\n",
      "Circular saw operation next to non-combustible materials 62.03848648071289\n",
      "Signalman deployment during excavator material lifting 62.03778076171875\n",
      "Signalman deployment during Ladder Truck operations 61.89850616455078\n",
      "Simultaneous top and bottom work on system scaffold (two-person operation) 61.83544158935547\n",
      "Installation on top of materials on a horse scaffold 61.77846908569336\n",
      "Signalman deployment during mobile crane operations 61.73854064941406\n",
      "Signalman deployment during concrete mixer operations 61.71961212158203\n",
      "No signalman deployed during auger crane operations 61.61247253417969\n",
      "Worker operating outside the hazard radius of a concrete mixer 61.49095916748047\n",
      "Welding next to flammable materials 61.42387390136719\n",
      "No signalman deployed during dump truck operations 61.37078094482422\n",
      "No signalman deployed during Ladder Truck operations 61.363773345947266\n",
      "Formwork with support installation 61.181068420410156\n",
      "Signalman deployment during auger crane operations 61.069618225097656\n",
      "No signalman deployed during mobile crane operations 61.059112548828125\n",
      "Signalman deployment during concrete pump truck operations 61.00276184082031\n",
      "No signalman deployed during concrete pump truck operations 60.983489990234375\n",
      "No signalman deployed during excavator material lifting 60.41694641113281\n",
      "Worker operating within the hazard radius of a dump truck 60.08809280395508\n",
      "No signalman deployed during concrete mixer operations 59.95014953613281\n",
      "No signalman deployed during pipeline construction 59.84258270263672\n",
      "Working within the horizontal hazard radius of an excavator 59.64164733886719\n",
      "Worker operating outside the hazard radius of a dump truck 59.62547302246094\n",
      "support plate with support installation 59.173728942871094\n",
      "Working outside the horizontal hazard radius of an excavator 58.988468170166016\n",
      "Worker working at the top and bottom of the ladder 58.90658187866211\n",
      "Forklift Signalman deployment 58.70519256591797\n",
      "Worker operating within the hazard radius on a scissor lift 57.85576629638672\n",
      "Stove installation near interior finishing work 56.78824996948242\n",
      "Worker operating outside the hazard radius on a scissor lift 56.072715759277344\n",
      "Defective protective shelf installation at entrance 55.52259826660156\n",
      "No stove installation near interior finishing work 55.156436920166016\n",
      "Poor support plate with support installation 55.02030944824219\n",
      "No materials placed on the end of the formwork 54.89762878417969\n",
      "Open hatch catwalk 54.8917236328125\n",
      "No forklift signalman deployed 54.758033752441406\n",
      "Closed hatch catwalk 53.2907829284668\n",
      "Faulty concrete pump truck safety device installation 52.95372009277344\n",
      "Poor formwork with support installation 52.931026458740234\n",
      "Working from the top of the ladder 49.47980499267578\n"
     ]
    }
   ],
   "source": [
    "with open(\"/home/jwsuh/harddisk/2403_new_research/construction_dataset/dataset/LLaVA_inference/llava_image_result_with_obj/H-220607_B16_Y-14_001_0005.json\", 'r', encoding=\"UTF-8\") as j:\n",
    "    caption = json.load(j)\n",
    "query_embedding = encode_query(caption['outputs'])\n",
    "\n",
    "# 유사성 계산\n",
    "similarities = torch.matmul(query_embedding, context_embeddings.T).squeeze(0)\n",
    "\n",
    "k = 50\n",
    "\n",
    "# 상위 k개 문서 반환\n",
    "\n",
    "top_k = 100\n",
    "top_k_indices = torch.topk(similarities, k=top_k).indices\n",
    "\n",
    "# 결과 출력\n",
    "for index in top_k_indices:\n",
    "    print(combined_rules[index], similarities[index].item())\n"
   ]
  },
  {
   "cell_type": "code",
   "execution_count": 159,
   "metadata": {},
   "outputs": [],
   "source": [
    "prompt = f\"Look at the image caption and decide whether it follows a normal rule or an abnormal rule, and specify what it pertains to.\\n\\nImage caption: {caption['outputs']}\\n\\n normal rule: {normal_rule}\\n\\n abnormal rule: {abnormal_rule}\\n\\nRule:(normal/abnormal)\\n\\nSpecific Rule:\""
   ]
  },
  {
   "cell_type": "code",
   "execution_count": 161,
   "metadata": {},
   "outputs": [
    {
     "data": {
      "text/plain": [
       "'Look at the image caption and decide whether it follows a normal rule or an abnormal rule, and specify what it pertains to.\\n\\nImage caption: <s> The image shows an entrance to a building that appears to be undergoing construction or renovation. The entrance is marked by a temporary guard shelf, which is a safety measure to prevent unauthorized access to the construction site. The guard shelf is designed to be sturdy enough to withstand the weight of construction equipment and workers, while also being low enough to not obstruct the entrance for pedestrians.\\n\\nThe entrance is marked by a sign with the number \"1307\" and some Korean text, which could indicate a specific section or level of the building. The text \"1307\" might refer to a floor number or a code for the construction site. The presence of the guard shelf suggests that the entrance is not yet open for public use, and it\\'s likely that the construction work is still ongoing.\\n\\nThe building itself has a concrete facade, which is typical for many commercial or industrial buildings. The ground around the entrance is covered in a fine dust, which could be a result of the construction work or simply a natural occurrence. The overall scene suggests a construction site that is actively being worked on.</s>\\n\\n normal rule: [\\'System scaffold catwalk installation\\', \\'Closed hatch catwalk\\', \\'Opening cover installation\\', \\'Safety railing installation for openings\\', \\'end section safety railing installation\\', \\'Vertical safety net installation at end section\\', \\'rolling tower safety railing installation\\', \\'No temporary ladder on rolling tower catwalk\\', \\'Proper ladder installation\\', \\'Worker working at the top and bottom of the ladder\\', \\'No falling hazards placed on system scaffold\\', \\'Working only on the top (or bottom) of the system scaffold\\', \\'Protective shelf installation at entrance\\', \\'Safety net installation\\', \\'No materials placed on the end of the formwork\\', \\'Working only on the top (or bottom) during formwork installation and dismantling\\', \\'Proper loading of a Ladder Truck\\', \\'Signalman deployment during Ladder Truck operations\\', \\'Signalman deployment during mobile crane operations\\', \\'Use of a metal lifting box during mobile crane operations\\', \\'Signalman deployment during pipeline construction\\', \\'Signalman deployment during excavator material lifting\\', \\'Compliance with scissor lift over-elevation prevention bar installation height\\', \\'Worker operating outside the hazard radius on a scissor lift\\', \\'Signalman deployment during dump truck operations\\', \\'Worker operating outside the hazard radius of a dump truck\\', \\'Signalman deployment during excavator operations\\', \\'Working outside the horizontal hazard radius of an excavator\\', \\'Signalman deployment during concrete mixer operations\\', \\'Worker operating outside the hazard radius of a concrete mixer\\', \\'Portable fan installation during interior finishing\\', \\'No stove installation near interior finishing work\\', \\'Fire extinguisher placement next to welding equipment\\', \\'Welding next to non-combustible materials\\', \\'Fire extinguisher placement with stove installation in material storage area\\', \\'Fire extinguisher placement with oxy cutter in material storage area\\', \\'Fire extinguisher placement outside hazardous material storage\\', \\'Non-combustible material placement outside hazardous material storage\\', \\'Fire extinguisher placement during circular saw operation (spark arrestor)\\', \\'Circular saw operation next to non-combustible materials\\', \\'support plate with support installation\\', \\'Formwork with support installation\\', \\'Proper placement of materials and tools on a horse scaffold\\', \\'Proper horse scaffold installation\\', \\'Concrete pump truck safety device installation\\', \\'Signalman deployment during concrete pump truck operations\\', \\'Safety device installation during auger crane operations\\', \\'Signalman deployment during auger crane operations\\', \\'Forklift Signalman deployment\\', \"Loading materials below forklift driver\\'s line of sight\"]\\n\\n abnormal rule: [\\'System scaffold catwalk installation defect\\', \\'Open hatch catwalk\\', \\'Opening cover installation defect\\', \\'Safety railing installation for openings defect\\', \\'End section safety railing installation defect\\', \\'Vertical safety net installation at end section defect\\', \\'Rolling tower safety railing installation defect\\', \\'Temporary ladder installed on rolling tower catwalk\\', \\'Ladder installed over materials\\', \\'Working from the top of the ladder\\', \\'Falling hazards placed on system scaffold\\', \\'Simultaneous top and bottom work on system scaffold (two-person operation)\\', \\'Defective protective shelf installation at entrance\\', \\'Safety net installation defect\\', \\'Material placement on the end of the formwork\\', \\'Simultaneous top and bottom formwork installation and dismantling (two-person operation)\\', \\'Improper overloading of a Ladder Truck\\', \\'No signalman deployed during Ladder Truck operations\\', \\'No signalman deployed during mobile crane operations\\', \\'Non-use of a metal lifting box during mobile crane operations\\', \\'No signalman deployed during pipeline construction\\', \\'No signalman deployed during excavator material lifting\\', \\'Non-compliance with scissor lift over-elevation prevention bar installation height\\', \\'Worker operating within the hazard radius on a scissor lift\\', \\'No signalman deployed during dump truck operations\\', \\'Worker operating within the hazard radius of a dump truck\\', \\'No signalman deployed during excavator operations\\', \\'Working within the horizontal hazard radius of an excavator\\', \\'No signalman deployed during concrete mixer operations\\', \\'Worker operating within the hazard radius of a concrete mixer\\', \\'No portable fan installed during interior finishing\\', \\'Stove installation near interior finishing work\\', \\'No fire extinguisher placement next to welding equipment\\', \\'Welding next to flammable materials\\', \\'No fire extinguisher placement with stove installation in material storage area\\', \\'No fire extinguisher placement with oxy cutter in material storage area\\', \\'No fire extinguisher placement outside hazardous material storage\\', \\'Flammable material placement outside hazardous material storage\\', \\'No fire extinguisher placement during circular saw operation (spark arrestor)\\', \\'Placement of flammable materials during circular saw operation\\', \\'Poor support plate with support installation\\', \\'Poor formwork with support installation\\', \\'Material placement at the edge of a horse scaffold\\', \\'Installation on top of materials on a horse scaffold\\', \\'Faulty concrete pump truck safety device installation\\', \\'No signalman deployed during concrete pump truck operations\\', \\'Faulty safety device installation during auger crane operations\\', \\'No signalman deployed during auger crane operations\\', \\'No forklift signalman deployed\\', \"Overloading materials beyond forklift driver\\'s line of sight\"]\\n\\nRule:(normal/abnormal)\\n\\nSpecific Rule:'"
      ]
     },
     "execution_count": 161,
     "metadata": {},
     "output_type": "execute_result"
    }
   ],
   "source": [
    "prompt"
   ]
  },
  {
   "cell_type": "code",
   "execution_count": 3,
   "metadata": {},
   "outputs": [],
   "source": [
    "data = '/home/jwsuh/harddisk/2403_new_research/construction_dataset/dataset/aihub_rules.json'\n",
    "with open(data, 'r', encoding=\"UTF-8\") as j:\n",
    "    aihub_rule = json.load(j)\n",
    "    \n",
    "normal_rule = aihub_rule['normal']\n",
    "abnormal_rule = aihub_rule['abnormal']"
   ]
  },
  {
   "cell_type": "code",
   "execution_count": null,
   "metadata": {},
   "outputs": [],
   "source": [
    "save_path = \"/home/jwsuh/harddisk/2403_new_research/construction_dataset/chatgpt_output/aihub/all_rules\"\n",
    "\n",
    "root_path = '/home/jwsuh/harddisk/2403_new_research/construction_dataset/dataset/LLaVA_inference/llava_image_result_with_obj'\n",
    "\n",
    "files = os.listdir(root_path)\n",
    "\n",
    "for file in tqdm(sorted(files)):\n",
    "    with open(os.path.join(root_path, file), 'r', encoding=\"UTF-8\") as j:\n",
    "        caption = json.load(j)\n",
    "    prompt = f\"Look at the image caption and decide whether it follows a normal rule or an abnormal rule\\n\\nImage caption: {caption['outputs']}\\n\\n Rule: (choose one normal/abnormal)\"\n",
    "    try:\n",
    "        client = OpenAI(api_key=API_KEY)\n",
    "        response = client.chat.completions.create(\n",
    "                        model=MODEL_CONFIG['model'],\n",
    "                        messages=[{\"role\": \"user\", \"content\": prompt}],\n",
    "                    )\n",
    "    except Exception as e:\n",
    "        print(e)\n",
    "\n",
    "    output = response.choices[0].message.content.lower()\n",
    "    print(output)\n",
    "    print(\"\\n==================================\\n\")\n",
    "    \n",
    "    # with open(os.path.join(save_path, file), 'w', encoding=\"UTF-8\") as j:\n",
    "    #     json.dump(output, j, indent='\\t')\n",
    "    # break\n",
    "    \n",
    "    # break"
   ]
  },
  {
   "cell_type": "code",
   "execution_count": null,
   "metadata": {},
   "outputs": [],
   "source": [
    "\"Look at the image caption and rules, decide whether situation is normal or abnormal.\\n\\nImage caption: {caption['outputs']}\\n\\n Normal Rules: {normal_rule}\\n\\nAbnormal Rules: {abnormal_rule}Situation: (choose one normal/abnormal)\\n\\n\""
   ]
  },
  {
   "cell_type": "markdown",
   "metadata": {},
   "source": [
    "## All rules chatgpt"
   ]
  },
  {
   "cell_type": "code",
   "execution_count": 68,
   "metadata": {},
   "outputs": [
    {
     "name": "stderr",
     "output_type": "stream",
     "text": [
      "100%|██████████| 957/957 [00:39<00:00, 24.00it/s]\n"
     ]
    }
   ],
   "source": [
    "import os\n",
    "import json\n",
    "import multiprocessing\n",
    "from tqdm import tqdm\n",
    "from openai import OpenAI\n",
    "\n",
    "save_path = \"/home/jwsuh/harddisk/2403_new_research/construction_dataset/chatgpt_output/aihub/no_obj/all_rules\"\n",
    "root_path = '/home/jwsuh/harddisk/2403_new_research/construction_dataset/dataset/LLaVA_inference/llava_image_result'\n",
    "combined_rules = normal_rule + abnormal_rule\n",
    "def process_file(file):\n",
    "    try:\n",
    "        with open(os.path.join(root_path, file), 'r', encoding=\"UTF-8\") as j:\n",
    "            caption = json.load(j)\n",
    "        \n",
    "        prompt = f\"Look at the image caption and rules, decide whether situation is normal or abnormal.\\n\\nImage caption: {caption['outputs']}\\n\\n Normal Rules: {normal_rule}\\n\\nAbnormal Rules: {abnormal_rule}\\n\\nSituation: (choose one normal/abnormal)\\n\\n\"\n",
    "        client = OpenAI(api_key=API_KEY)\n",
    "        response = client.chat.completions.create(\n",
    "            model=MODEL_CONFIG['model'],\n",
    "            messages=[{\"role\": \"user\", \"content\": prompt}],\n",
    "        )\n",
    "        output = response.choices[0].message.content.lower()\n",
    "\n",
    "        with open(os.path.join(save_path, file), 'w', encoding=\"UTF-8\") as j:\n",
    "            json.dump(output, j, indent='\\t')\n",
    "        \n",
    "        return f\"Processed {file}\"\n",
    "\n",
    "    except Exception as e:\n",
    "        return str(e)\n",
    "\n",
    "def main():\n",
    "    files = os.listdir(root_path)\n",
    "    pool = multiprocessing.Pool(processes=16)  # Number of worker processes\n",
    "    for result in tqdm(pool.imap_unordered(process_file, sorted(files)), total=len(files)):\n",
    "        # print(result)\n",
    "        # print(\"\\n==================================\\n\")\n",
    "        pass\n",
    "\n",
    "if __name__ == \"__main__\":\n",
    "    main()"
   ]
  },
  {
   "cell_type": "markdown",
   "metadata": {},
   "source": [
    "### No rules chatgpt"
   ]
  },
  {
   "cell_type": "code",
   "execution_count": 70,
   "metadata": {},
   "outputs": [
    {
     "name": "stderr",
     "output_type": "stream",
     "text": [
      "100%|██████████| 957/957 [00:36<00:00, 26.35it/s]\n"
     ]
    }
   ],
   "source": [
    "import os\n",
    "import json\n",
    "import multiprocessing\n",
    "from tqdm import tqdm\n",
    "from openai import OpenAI\n",
    "\n",
    "save_path = \"/home/jwsuh/harddisk/2403_new_research/construction_dataset/chatgpt_output/aihub/no_obj/no_rules\"\n",
    "root_path = '/home/jwsuh/harddisk/2403_new_research/construction_dataset/dataset/LLaVA_inference/llava_image_result'\n",
    "\n",
    "def process_file(file):\n",
    "    try:\n",
    "        # with open(os.path.join(root_path, file), 'r', encoding=\"UTF-8\") as j:\n",
    "        #     caption = json.load(j)\n",
    "        \n",
    "        prompt = f\"Look at the image caption, decide whether situation is normal or abnormal.\\n\\nImage caption: {caption['outputs']}\\n\\n Situation: (choose one normal/abnormal)\\n\\n\"\n",
    "        client = OpenAI(api_key=API_KEY)\n",
    "        response = client.chat.completions.create(\n",
    "            model=MODEL_CONFIG['model'],\n",
    "            messages=[{\"role\": \"user\", \"content\": prompt}],\n",
    "        )\n",
    "        output = response.choices[0].message.content.lower()\n",
    "\n",
    "        with open(os.path.join(save_path, file), 'w', encoding=\"UTF-8\") as j:\n",
    "            json.dump(output, j, indent='\\t')\n",
    "        \n",
    "        return f\"Processed {file}\"\n",
    "\n",
    "    except Exception as e:\n",
    "        return str(e)\n",
    "\n",
    "def main():\n",
    "    files = os.listdir(root_path)\n",
    "    pool = multiprocessing.Pool(processes=16)  # Number of worker processes\n",
    "    for result in tqdm(pool.imap_unordered(process_file, sorted(files)), total=len(files)):\n",
    "        # print(result)\n",
    "        # print(\"\\n==================================\\n\")\n",
    "        pass\n",
    "\n",
    "if __name__ == \"__main__\":\n",
    "    main()"
   ]
  },
  {
   "cell_type": "markdown",
   "metadata": {},
   "source": [
    "### RAG Top-k rules"
   ]
  },
  {
   "cell_type": "code",
   "execution_count": 63,
   "metadata": {},
   "outputs": [],
   "source": [
    "def classify_rule(rule, normal_rules, abnormal_rules):\n",
    "    \"\"\"주어진 규칙을 'normal' 또는 'abnormal'로 분류합니다.\"\"\"\n",
    "    if rule in normal_rules:\n",
    "        return 'normal'\n",
    "    elif rule in abnormal_rules:\n",
    "        return 'abnormal'\n",
    "    else:\n",
    "        return 'unknown'  # 규칙이 어느 카테고리에도 속하지 않는 경우"
   ]
  },
  {
   "cell_type": "code",
   "execution_count": 64,
   "metadata": {},
   "outputs": [],
   "source": [
    "normal_rule = aihub_rule['normal']\n",
    "abnormal_rule = aihub_rule['abnormal']"
   ]
  },
  {
   "cell_type": "markdown",
   "metadata": {},
   "source": [
    "##### BM25"
   ]
  },
  {
   "cell_type": "code",
   "execution_count": 65,
   "metadata": {},
   "outputs": [
    {
     "name": "stderr",
     "output_type": "stream",
     "text": [
      "[nltk_data] Downloading package punkt to /home/jwsuh/nltk_data...\n",
      "[nltk_data]   Package punkt is already up-to-date!\n"
     ]
    }
   ],
   "source": [
    "from rank_bm25 import BM25Okapi\n",
    "from nltk.tokenize import word_tokenize\n",
    "import nltk\n",
    "nltk.download('punkt')\n",
    "\n",
    "def tokenize(text):\n",
    "    return word_tokenize(text.lower())\n",
    "\n",
    "combined_rules = normal_rule + abnormal_rule\n",
    "tokenized_rules = [tokenize(rule) for rule in combined_rules]\n",
    "\n",
    "# BM25 모델 생성\n",
    "bm25 = BM25Okapi(tokenized_rules)"
   ]
  },
  {
   "cell_type": "code",
   "execution_count": 67,
   "metadata": {},
   "outputs": [
    {
     "name": "stderr",
     "output_type": "stream",
     "text": [
      "100%|██████████| 957/957 [00:41<00:00, 22.80it/s]\n"
     ]
    }
   ],
   "source": [
    "import os\n",
    "import json\n",
    "import multiprocessing\n",
    "from tqdm import tqdm\n",
    "from openai import OpenAI\n",
    "\n",
    "top_k = 50\n",
    "\n",
    "save_path = f\"/home/jwsuh/harddisk/2403_new_research/construction_dataset/chatgpt_output/aihub/no_obj/BM25/rag_k_{top_k}\"\n",
    "os.makedirs(save_path, exist_ok=True)\n",
    "root_path = '/home/jwsuh/harddisk/2403_new_research/construction_dataset/dataset/LLaVA_inference/llava_image_result'\n",
    "\n",
    "def process_file(file):\n",
    "    try:\n",
    "        with open(os.path.join(root_path, file), 'r', encoding=\"UTF-8\") as j:\n",
    "            caption = json.load(j)\n",
    "        \n",
    "        query = tokenize(caption['outputs'])\n",
    "        top_k_scores = bm25.get_scores(query)\n",
    "        top_k_indices = top_k_scores.argsort()[-top_k:][::-1]  # 점수가 높은 순서로 인덱스 정렬\n",
    "\n",
    "        # 결과 출력\n",
    "        top_k_results = [(combined_rules[i], top_k_scores[i]) for i in top_k_indices]\n",
    "        top_k_results = [item[0] for item in top_k_results]\n",
    "        \n",
    "        classified_results = {rule: classify_rule(rule, normal_rule, abnormal_rule) for rule in top_k_results}\n",
    "        \n",
    "        normal_group = [rule for rule, category in classified_results.items() if category == 'normal']\n",
    "        abnormal_group = [rule for rule, category in classified_results.items() if category == 'abnormal']\n",
    "        \n",
    "        prompt = f\"Look at the image caption and rules, decide whether situation is normal or abnormal.\\n\\nImage caption: {caption['outputs']}\\n\\n Normal Rules: {normal_group}\\n\\nAbnormal Rules: {abnormal_group}\\n\\nSituation: (choose one normal/abnormal)\\n\\n\"\n",
    "        client = OpenAI(api_key=API_KEY)\n",
    "        response = client.chat.completions.create(\n",
    "            model=MODEL_CONFIG['model'],\n",
    "            messages=[{\"role\": \"user\", \"content\": prompt}],\n",
    "        )\n",
    "        output = response.choices[0].message.content.lower()\n",
    "\n",
    "        with open(os.path.join(save_path, file), 'w', encoding=\"UTF-8\") as j:\n",
    "            json.dump(output, j, indent='\\t')\n",
    "        \n",
    "        return output\n",
    "\n",
    "    except Exception as e:\n",
    "        return str(e)\n",
    "\n",
    "def main():\n",
    "    files = os.listdir(root_path)\n",
    "    pool = multiprocessing.Pool(processes=16)  # Number of worker processes\n",
    "    for result in tqdm(pool.imap_unordered(process_file, sorted(files)), total=len(files)):\n",
    "        # print(result)\n",
    "        # print(\"\\n==================================\\n\")\n",
    "        pass\n",
    "\n",
    "if __name__ == \"__main__\":\n",
    "    main()"
   ]
  },
  {
   "cell_type": "markdown",
   "metadata": {},
   "source": [
    "##### DPR"
   ]
  },
  {
   "cell_type": "code",
   "execution_count": 1,
   "metadata": {},
   "outputs": [
    {
     "name": "stderr",
     "output_type": "stream",
     "text": [
      "/home/jwsuh/anaconda3/envs/llava/lib/python3.10/site-packages/tqdm/auto.py:21: TqdmWarning: IProgress not found. Please update jupyter and ipywidgets. See https://ipywidgets.readthedocs.io/en/stable/user_install.html\n",
      "  from .autonotebook import tqdm as notebook_tqdm\n"
     ]
    }
   ],
   "source": [
    "from transformers import DPRContextEncoder, DPRContextEncoderTokenizer\n",
    "from transformers import DPRQuestionEncoder, DPRQuestionEncoderTokenizer\n",
    "import torch"
   ]
  },
  {
   "cell_type": "code",
   "execution_count": 12,
   "metadata": {},
   "outputs": [
    {
     "name": "stderr",
     "output_type": "stream",
     "text": [
      "Some weights of the model checkpoint at facebook/dpr-ctx_encoder-single-nq-base were not used when initializing DPRContextEncoder: ['ctx_encoder.bert_model.pooler.dense.bias', 'ctx_encoder.bert_model.pooler.dense.weight']\n",
      "- This IS expected if you are initializing DPRContextEncoder from the checkpoint of a model trained on another task or with another architecture (e.g. initializing a BertForSequenceClassification model from a BertForPreTraining model).\n",
      "- This IS NOT expected if you are initializing DPRContextEncoder from the checkpoint of a model that you expect to be exactly identical (initializing a BertForSequenceClassification model from a BertForSequenceClassification model).\n",
      "The tokenizer class you load from this checkpoint is not the same type as the class this function is called from. It may result in unexpected tokenization. \n",
      "The tokenizer class you load from this checkpoint is 'DPRQuestionEncoderTokenizer'. \n",
      "The class this function is called from is 'DPRContextEncoderTokenizer'.\n",
      "Some weights of the model checkpoint at facebook/dpr-question_encoder-single-nq-base were not used when initializing DPRQuestionEncoder: ['question_encoder.bert_model.pooler.dense.bias', 'question_encoder.bert_model.pooler.dense.weight']\n",
      "- This IS expected if you are initializing DPRQuestionEncoder from the checkpoint of a model trained on another task or with another architecture (e.g. initializing a BertForSequenceClassification model from a BertForPreTraining model).\n",
      "- This IS NOT expected if you are initializing DPRQuestionEncoder from the checkpoint of a model that you expect to be exactly identical (initializing a BertForSequenceClassification model from a BertForSequenceClassification model).\n"
     ]
    }
   ],
   "source": [
    "import torch\n",
    "from transformers import DPRContextEncoder, DPRContextEncoderTokenizer, DPRQuestionEncoder, DPRQuestionEncoderTokenizer\n",
    "\n",
    "# CUDA 사용 가능 여부 확인\n",
    "device = 'cuda' if torch.cuda.is_available() else 'cpu'\n",
    "\n",
    "# 모델과 토크나이저 로드\n",
    "context_encoder = DPRContextEncoder.from_pretrained('facebook/dpr-ctx_encoder-single-nq-base').to(device)\n",
    "context_tokenizer = DPRContextEncoderTokenizer.from_pretrained('facebook/dpr-ctx_encoder-single-nq-base')\n",
    "\n",
    "question_encoder = DPRQuestionEncoder.from_pretrained('facebook/dpr-question_encoder-single-nq-base').to(device)\n",
    "question_tokenizer = DPRQuestionEncoderTokenizer.from_pretrained('facebook/dpr-question_encoder-single-nq-base')\n",
    "\n",
    "# 규칙 문장 벡터화 함수\n",
    "def encode_contexts(texts):\n",
    "    inputs = context_tokenizer(texts, return_tensors=\"pt\", padding=True, truncation=True).to(device)\n",
    "    embeddings = context_encoder(**inputs)\n",
    "    return embeddings.pooler_output\n",
    "\n",
    "# 쿼리 벡터화 함수\n",
    "def encode_query(query):\n",
    "    inputs = question_tokenizer(query, return_tensors=\"pt\", padding=True, truncation=True).to(device)\n",
    "    embeddings = question_encoder(**inputs)\n",
    "    return embeddings.pooler_output"
   ]
  },
  {
   "cell_type": "code",
   "execution_count": null,
   "metadata": {},
   "outputs": [],
   "source": [
    "import os\n",
    "import json\n",
    "import multiprocessing\n",
    "from tqdm import tqdm\n",
    "from openai import OpenAI\n",
    "\n",
    "top_k = 10\n",
    "\n",
    "save_path = f\"/home/jwsuh/harddisk/2403_new_research/construction_dataset/chatgpt_output/aihub/DPR/rag_k_{top_k}\"\n",
    "os.makedirs(save_path, exist_ok=True)\n",
    "root_path = '/home/jwsuh/harddisk/2403_new_research/construction_dataset/dataset/LLaVA_inference/llava_image_result_with_obj'\n",
    "\n",
    "def process_file(file):\n",
    "    try:\n",
    "        # print(1)\n",
    "        with open(os.path.join(root_path, file), 'r', encoding=\"UTF-8\") as j:\n",
    "            caption = json.load(j)\n",
    "        # print(1)\n",
    "        context_embeddings = encode_contexts(combined_rules)\n",
    "        # print(1)        \n",
    "        query_embedding = encode_query(caption['outputs'])\n",
    "        # query_embedding = encode_query(query)\n",
    "        # print(1)   \n",
    "        # 유사성 계산\n",
    "        similarities = torch.matmul(query_embedding, context_embeddings.T).squeeze(0)\n",
    "        # print(1)   \n",
    "        top_k_indices = torch.topk(similarities, k=top_k).indices\n",
    "        # print(1)   \n",
    "        # 결과 출력\n",
    "        top_k_results = [combined_rules[index] for index in top_k_indices]\n",
    "        classified_results = {rule: classify_rule(rule, normal_rule, abnormal_rule) for rule in top_k_results}\n",
    "        \n",
    "        normal_group = [rule for rule, category in classified_results.items() if category == 'normal']\n",
    "        abnormal_group = [rule for rule, category in classified_results.items() if category == 'abnormal']\n",
    "        # print(1)   \n",
    "        prompt = f\"Look at the image caption and rules, decide whether situation is normal or abnormal.\\n\\nImage caption: {caption['outputs']}\\n\\n Normal Rules: {normal_group}\\n\\nAbnormal Rules: {abnormal_group}\\n\\nSituation: (choose one normal/abnormal)\\n\\n\"\n",
    "        client = OpenAI(api_key=API_KEY)\n",
    "        response = client.chat.completions.create(\n",
    "            model=MODEL_CONFIG['model'],\n",
    "            messages=[{\"role\": \"user\", \"content\": prompt}],\n",
    "        )\n",
    "        output = response.choices[0].message.content.lower()\n",
    "\n",
    "        with open(os.path.join(save_path, file), 'w', encoding=\"UTF-8\") as j:\n",
    "            json.dump(output, j, indent='\\t')\n",
    "        \n",
    "        return output\n",
    "\n",
    "    except Exception as e:\n",
    "        return str(e)\n",
    "\n",
    "def main():\n",
    "    files = os.listdir(root_path)\n",
    "    pool = multiprocessing.Pool(processes=16)  # Number of worker processes\n",
    "    for result in tqdm(pool.imap_unordered(process_file, sorted(files)), total=len(files)):\n",
    "        print(result)\n",
    "        # print(\"\\n==================================\\n\")\n",
    "        pass\n",
    "\n",
    "if __name__ == \"__main__\":\n",
    "    main()"
   ]
  },
  {
   "cell_type": "code",
   "execution_count": 43,
   "metadata": {},
   "outputs": [
    {
     "name": "stderr",
     "output_type": "stream",
     "text": [
      "100%|██████████| 1900/1900 [11:02<00:00,  2.87it/s]\n",
      "  2%|▏         | 41/1900 [00:13<10:24,  2.98it/s]\n"
     ]
    },
    {
     "ename": "KeyboardInterrupt",
     "evalue": "",
     "output_type": "error",
     "traceback": [
      "\u001b[0;31m---------------------------------------------------------------------------\u001b[0m",
      "\u001b[0;31mKeyboardInterrupt\u001b[0m                         Traceback (most recent call last)",
      "Cell \u001b[0;32mIn[43], line 59\u001b[0m\n\u001b[1;32m     55\u001b[0m             \u001b[38;5;66;03m# print(result)\u001b[39;00m\n\u001b[1;32m     56\u001b[0m             \u001b[38;5;66;03m# print(\"\\n==================================\\n\")\u001b[39;00m\n\u001b[1;32m     58\u001b[0m \u001b[38;5;28;01mif\u001b[39;00m \u001b[38;5;18m__name__\u001b[39m \u001b[38;5;241m==\u001b[39m \u001b[38;5;124m\"\u001b[39m\u001b[38;5;124m__main__\u001b[39m\u001b[38;5;124m\"\u001b[39m:\n\u001b[0;32m---> 59\u001b[0m     \u001b[43mmain\u001b[49m\u001b[43m(\u001b[49m\u001b[43m)\u001b[49m\n",
      "Cell \u001b[0;32mIn[43], line 54\u001b[0m, in \u001b[0;36mmain\u001b[0;34m()\u001b[0m\n\u001b[1;32m     51\u001b[0m \u001b[38;5;28;01mfor\u001b[39;00m file \u001b[38;5;129;01min\u001b[39;00m tqdm(\u001b[38;5;28msorted\u001b[39m(files)):\n\u001b[1;32m     52\u001b[0m     \u001b[38;5;66;03m# continue\u001b[39;00m\n\u001b[1;32m     53\u001b[0m     \u001b[38;5;28;01mif\u001b[39;00m file\u001b[38;5;241m.\u001b[39mendswith(\u001b[38;5;124m'\u001b[39m\u001b[38;5;124m.json\u001b[39m\u001b[38;5;124m'\u001b[39m):\n\u001b[0;32m---> 54\u001b[0m         result \u001b[38;5;241m=\u001b[39m \u001b[43mprocess_file\u001b[49m\u001b[43m(\u001b[49m\u001b[43mfile\u001b[49m\u001b[43m,\u001b[49m\u001b[43m \u001b[49m\u001b[43mtop_k\u001b[49m\u001b[43m,\u001b[49m\u001b[43m \u001b[49m\u001b[43msave_path\u001b[49m\u001b[43m)\u001b[49m\n",
      "Cell \u001b[0;32mIn[43], line 29\u001b[0m, in \u001b[0;36mprocess_file\u001b[0;34m(file, top_k, save_path)\u001b[0m\n\u001b[1;32m     26\u001b[0m abnormal_group \u001b[38;5;241m=\u001b[39m [rule \u001b[38;5;28;01mfor\u001b[39;00m rule, category \u001b[38;5;129;01min\u001b[39;00m classified_results\u001b[38;5;241m.\u001b[39mitems() \u001b[38;5;28;01mif\u001b[39;00m category \u001b[38;5;241m==\u001b[39m \u001b[38;5;124m'\u001b[39m\u001b[38;5;124mabnormal\u001b[39m\u001b[38;5;124m'\u001b[39m]\n\u001b[1;32m     28\u001b[0m prompt \u001b[38;5;241m=\u001b[39m \u001b[38;5;124mf\u001b[39m\u001b[38;5;124m\"\u001b[39m\u001b[38;5;124mLook at the image caption and rules, decide whether situation is normal or abnormal.\u001b[39m\u001b[38;5;130;01m\\n\u001b[39;00m\u001b[38;5;130;01m\\n\u001b[39;00m\u001b[38;5;124mImage caption: \u001b[39m\u001b[38;5;132;01m{\u001b[39;00mcaption[\u001b[38;5;124m'\u001b[39m\u001b[38;5;124moutputs\u001b[39m\u001b[38;5;124m'\u001b[39m]\u001b[38;5;132;01m}\u001b[39;00m\u001b[38;5;130;01m\\n\u001b[39;00m\u001b[38;5;130;01m\\n\u001b[39;00m\u001b[38;5;124m Normal Rules: \u001b[39m\u001b[38;5;132;01m{\u001b[39;00mnormal_group\u001b[38;5;132;01m}\u001b[39;00m\u001b[38;5;130;01m\\n\u001b[39;00m\u001b[38;5;130;01m\\n\u001b[39;00m\u001b[38;5;124mAbnormal Rules: \u001b[39m\u001b[38;5;132;01m{\u001b[39;00mabnormal_group\u001b[38;5;132;01m}\u001b[39;00m\u001b[38;5;130;01m\\n\u001b[39;00m\u001b[38;5;130;01m\\n\u001b[39;00m\u001b[38;5;124mSituation: (choose one normal/abnormal)\u001b[39m\u001b[38;5;130;01m\\n\u001b[39;00m\u001b[38;5;130;01m\\n\u001b[39;00m\u001b[38;5;124m\"\u001b[39m\n\u001b[0;32m---> 29\u001b[0m client \u001b[38;5;241m=\u001b[39m \u001b[43mOpenAI\u001b[49m\u001b[43m(\u001b[49m\u001b[43mapi_key\u001b[49m\u001b[38;5;241;43m=\u001b[39;49m\u001b[43mAPI_KEY\u001b[49m\u001b[43m)\u001b[49m\n\u001b[1;32m     30\u001b[0m response \u001b[38;5;241m=\u001b[39m client\u001b[38;5;241m.\u001b[39mchat\u001b[38;5;241m.\u001b[39mcompletions\u001b[38;5;241m.\u001b[39mcreate(\n\u001b[1;32m     31\u001b[0m     model\u001b[38;5;241m=\u001b[39mMODEL_CONFIG[\u001b[38;5;124m'\u001b[39m\u001b[38;5;124mmodel\u001b[39m\u001b[38;5;124m'\u001b[39m],\n\u001b[1;32m     32\u001b[0m     messages\u001b[38;5;241m=\u001b[39m[{\u001b[38;5;124m\"\u001b[39m\u001b[38;5;124mrole\u001b[39m\u001b[38;5;124m\"\u001b[39m: \u001b[38;5;124m\"\u001b[39m\u001b[38;5;124muser\u001b[39m\u001b[38;5;124m\"\u001b[39m, \u001b[38;5;124m\"\u001b[39m\u001b[38;5;124mcontent\u001b[39m\u001b[38;5;124m\"\u001b[39m: prompt}],\n\u001b[1;32m     33\u001b[0m )\n\u001b[1;32m     34\u001b[0m output \u001b[38;5;241m=\u001b[39m response\u001b[38;5;241m.\u001b[39mchoices[\u001b[38;5;241m0\u001b[39m]\u001b[38;5;241m.\u001b[39mmessage\u001b[38;5;241m.\u001b[39mcontent\u001b[38;5;241m.\u001b[39mlower()\n",
      "File \u001b[0;32m~/anaconda3/envs/llava/lib/python3.10/site-packages/openai/_client.py:114\u001b[0m, in \u001b[0;36mOpenAI.__init__\u001b[0;34m(self, api_key, organization, base_url, timeout, max_retries, default_headers, default_query, http_client, _strict_response_validation)\u001b[0m\n\u001b[1;32m    111\u001b[0m \u001b[38;5;28;01mif\u001b[39;00m base_url \u001b[38;5;129;01mis\u001b[39;00m \u001b[38;5;28;01mNone\u001b[39;00m:\n\u001b[1;32m    112\u001b[0m     base_url \u001b[38;5;241m=\u001b[39m \u001b[38;5;124mf\u001b[39m\u001b[38;5;124m\"\u001b[39m\u001b[38;5;124mhttps://api.openai.com/v1\u001b[39m\u001b[38;5;124m\"\u001b[39m\n\u001b[0;32m--> 114\u001b[0m \u001b[38;5;28;43msuper\u001b[39;49m\u001b[43m(\u001b[49m\u001b[43m)\u001b[49m\u001b[38;5;241;43m.\u001b[39;49m\u001b[38;5;21;43m__init__\u001b[39;49m\u001b[43m(\u001b[49m\n\u001b[1;32m    115\u001b[0m \u001b[43m    \u001b[49m\u001b[43mversion\u001b[49m\u001b[38;5;241;43m=\u001b[39;49m\u001b[43m__version__\u001b[49m\u001b[43m,\u001b[49m\n\u001b[1;32m    116\u001b[0m \u001b[43m    \u001b[49m\u001b[43mbase_url\u001b[49m\u001b[38;5;241;43m=\u001b[39;49m\u001b[43mbase_url\u001b[49m\u001b[43m,\u001b[49m\n\u001b[1;32m    117\u001b[0m \u001b[43m    \u001b[49m\u001b[43mmax_retries\u001b[49m\u001b[38;5;241;43m=\u001b[39;49m\u001b[43mmax_retries\u001b[49m\u001b[43m,\u001b[49m\n\u001b[1;32m    118\u001b[0m \u001b[43m    \u001b[49m\u001b[43mtimeout\u001b[49m\u001b[38;5;241;43m=\u001b[39;49m\u001b[43mtimeout\u001b[49m\u001b[43m,\u001b[49m\n\u001b[1;32m    119\u001b[0m \u001b[43m    \u001b[49m\u001b[43mhttp_client\u001b[49m\u001b[38;5;241;43m=\u001b[39;49m\u001b[43mhttp_client\u001b[49m\u001b[43m,\u001b[49m\n\u001b[1;32m    120\u001b[0m \u001b[43m    \u001b[49m\u001b[43mcustom_headers\u001b[49m\u001b[38;5;241;43m=\u001b[39;49m\u001b[43mdefault_headers\u001b[49m\u001b[43m,\u001b[49m\n\u001b[1;32m    121\u001b[0m \u001b[43m    \u001b[49m\u001b[43mcustom_query\u001b[49m\u001b[38;5;241;43m=\u001b[39;49m\u001b[43mdefault_query\u001b[49m\u001b[43m,\u001b[49m\n\u001b[1;32m    122\u001b[0m \u001b[43m    \u001b[49m\u001b[43m_strict_response_validation\u001b[49m\u001b[38;5;241;43m=\u001b[39;49m\u001b[43m_strict_response_validation\u001b[49m\u001b[43m,\u001b[49m\n\u001b[1;32m    123\u001b[0m \u001b[43m\u001b[49m\u001b[43m)\u001b[49m\n\u001b[1;32m    125\u001b[0m \u001b[38;5;28mself\u001b[39m\u001b[38;5;241m.\u001b[39m_default_stream_cls \u001b[38;5;241m=\u001b[39m Stream\n\u001b[1;32m    127\u001b[0m \u001b[38;5;28mself\u001b[39m\u001b[38;5;241m.\u001b[39mcompletions \u001b[38;5;241m=\u001b[39m resources\u001b[38;5;241m.\u001b[39mCompletions(\u001b[38;5;28mself\u001b[39m)\n",
      "File \u001b[0;32m~/anaconda3/envs/llava/lib/python3.10/site-packages/openai/_base_client.py:826\u001b[0m, in \u001b[0;36mSyncAPIClient.__init__\u001b[0;34m(self, version, base_url, max_retries, timeout, transport, proxies, limits, http_client, custom_headers, custom_query, _strict_response_validation)\u001b[0m\n\u001b[1;32m    809\u001b[0m     \u001b[38;5;28;01mraise\u001b[39;00m \u001b[38;5;167;01mTypeError\u001b[39;00m(\n\u001b[1;32m    810\u001b[0m         \u001b[38;5;124mf\u001b[39m\u001b[38;5;124m\"\u001b[39m\u001b[38;5;124mInvalid `http_client` argument; Expected an instance of `httpx.Client` but got \u001b[39m\u001b[38;5;132;01m{\u001b[39;00m\u001b[38;5;28mtype\u001b[39m(http_client)\u001b[38;5;132;01m}\u001b[39;00m\u001b[38;5;124m\"\u001b[39m\n\u001b[1;32m    811\u001b[0m     )\n\u001b[1;32m    813\u001b[0m \u001b[38;5;28msuper\u001b[39m()\u001b[38;5;241m.\u001b[39m\u001b[38;5;21m__init__\u001b[39m(\n\u001b[1;32m    814\u001b[0m     version\u001b[38;5;241m=\u001b[39mversion,\n\u001b[1;32m    815\u001b[0m     limits\u001b[38;5;241m=\u001b[39mlimits,\n\u001b[0;32m   (...)\u001b[0m\n\u001b[1;32m    824\u001b[0m     _strict_response_validation\u001b[38;5;241m=\u001b[39m_strict_response_validation,\n\u001b[1;32m    825\u001b[0m )\n\u001b[0;32m--> 826\u001b[0m \u001b[38;5;28mself\u001b[39m\u001b[38;5;241m.\u001b[39m_client \u001b[38;5;241m=\u001b[39m http_client \u001b[38;5;129;01mor\u001b[39;00m \u001b[43mSyncHttpxClientWrapper\u001b[49m\u001b[43m(\u001b[49m\n\u001b[1;32m    827\u001b[0m \u001b[43m    \u001b[49m\u001b[43mbase_url\u001b[49m\u001b[38;5;241;43m=\u001b[39;49m\u001b[43mbase_url\u001b[49m\u001b[43m,\u001b[49m\n\u001b[1;32m    828\u001b[0m \u001b[43m    \u001b[49m\u001b[38;5;66;43;03m# cast to a valid type because mypy doesn't understand our type narrowing\u001b[39;49;00m\n\u001b[1;32m    829\u001b[0m \u001b[43m    \u001b[49m\u001b[43mtimeout\u001b[49m\u001b[38;5;241;43m=\u001b[39;49m\u001b[43mcast\u001b[49m\u001b[43m(\u001b[49m\u001b[43mTimeout\u001b[49m\u001b[43m,\u001b[49m\u001b[43m \u001b[49m\u001b[43mtimeout\u001b[49m\u001b[43m)\u001b[49m\u001b[43m,\u001b[49m\n\u001b[1;32m    830\u001b[0m \u001b[43m    \u001b[49m\u001b[43mproxies\u001b[49m\u001b[38;5;241;43m=\u001b[39;49m\u001b[43mproxies\u001b[49m\u001b[43m,\u001b[49m\n\u001b[1;32m    831\u001b[0m \u001b[43m    \u001b[49m\u001b[43mtransport\u001b[49m\u001b[38;5;241;43m=\u001b[39;49m\u001b[43mtransport\u001b[49m\u001b[43m,\u001b[49m\n\u001b[1;32m    832\u001b[0m \u001b[43m    \u001b[49m\u001b[43mlimits\u001b[49m\u001b[38;5;241;43m=\u001b[39;49m\u001b[43mlimits\u001b[49m\u001b[43m,\u001b[49m\n\u001b[1;32m    833\u001b[0m \u001b[43m    \u001b[49m\u001b[43mfollow_redirects\u001b[49m\u001b[38;5;241;43m=\u001b[39;49m\u001b[38;5;28;43;01mTrue\u001b[39;49;00m\u001b[43m,\u001b[49m\n\u001b[1;32m    834\u001b[0m \u001b[43m\u001b[49m\u001b[43m)\u001b[49m\n",
      "File \u001b[0;32m~/anaconda3/envs/llava/lib/python3.10/site-packages/openai/_base_client.py:724\u001b[0m, in \u001b[0;36m_DefaultHttpxClient.__init__\u001b[0;34m(self, **kwargs)\u001b[0m\n\u001b[1;32m    722\u001b[0m kwargs\u001b[38;5;241m.\u001b[39msetdefault(\u001b[38;5;124m\"\u001b[39m\u001b[38;5;124mlimits\u001b[39m\u001b[38;5;124m\"\u001b[39m, DEFAULT_CONNECTION_LIMITS)\n\u001b[1;32m    723\u001b[0m kwargs\u001b[38;5;241m.\u001b[39msetdefault(\u001b[38;5;124m\"\u001b[39m\u001b[38;5;124mfollow_redirects\u001b[39m\u001b[38;5;124m\"\u001b[39m, \u001b[38;5;28;01mTrue\u001b[39;00m)\n\u001b[0;32m--> 724\u001b[0m \u001b[38;5;28;43msuper\u001b[39;49m\u001b[43m(\u001b[49m\u001b[43m)\u001b[49m\u001b[38;5;241;43m.\u001b[39;49m\u001b[38;5;21;43m__init__\u001b[39;49m\u001b[43m(\u001b[49m\u001b[38;5;241;43m*\u001b[39;49m\u001b[38;5;241;43m*\u001b[39;49m\u001b[43mkwargs\u001b[49m\u001b[43m)\u001b[49m\n",
      "File \u001b[0;32m~/anaconda3/envs/llava/lib/python3.10/site-packages/httpx/_client.py:672\u001b[0m, in \u001b[0;36mClient.__init__\u001b[0;34m(self, auth, params, headers, cookies, verify, cert, http1, http2, proxies, mounts, timeout, follow_redirects, limits, max_redirects, event_hooks, base_url, transport, app, trust_env, default_encoding)\u001b[0m\n\u001b[1;32m    669\u001b[0m allow_env_proxies \u001b[38;5;241m=\u001b[39m trust_env \u001b[38;5;129;01mand\u001b[39;00m app \u001b[38;5;129;01mis\u001b[39;00m \u001b[38;5;28;01mNone\u001b[39;00m \u001b[38;5;129;01mand\u001b[39;00m transport \u001b[38;5;129;01mis\u001b[39;00m \u001b[38;5;28;01mNone\u001b[39;00m\n\u001b[1;32m    670\u001b[0m proxy_map \u001b[38;5;241m=\u001b[39m \u001b[38;5;28mself\u001b[39m\u001b[38;5;241m.\u001b[39m_get_proxy_map(proxies, allow_env_proxies)\n\u001b[0;32m--> 672\u001b[0m \u001b[38;5;28mself\u001b[39m\u001b[38;5;241m.\u001b[39m_transport \u001b[38;5;241m=\u001b[39m \u001b[38;5;28;43mself\u001b[39;49m\u001b[38;5;241;43m.\u001b[39;49m\u001b[43m_init_transport\u001b[49m\u001b[43m(\u001b[49m\n\u001b[1;32m    673\u001b[0m \u001b[43m    \u001b[49m\u001b[43mverify\u001b[49m\u001b[38;5;241;43m=\u001b[39;49m\u001b[43mverify\u001b[49m\u001b[43m,\u001b[49m\n\u001b[1;32m    674\u001b[0m \u001b[43m    \u001b[49m\u001b[43mcert\u001b[49m\u001b[38;5;241;43m=\u001b[39;49m\u001b[43mcert\u001b[49m\u001b[43m,\u001b[49m\n\u001b[1;32m    675\u001b[0m \u001b[43m    \u001b[49m\u001b[43mhttp1\u001b[49m\u001b[38;5;241;43m=\u001b[39;49m\u001b[43mhttp1\u001b[49m\u001b[43m,\u001b[49m\n\u001b[1;32m    676\u001b[0m \u001b[43m    \u001b[49m\u001b[43mhttp2\u001b[49m\u001b[38;5;241;43m=\u001b[39;49m\u001b[43mhttp2\u001b[49m\u001b[43m,\u001b[49m\n\u001b[1;32m    677\u001b[0m \u001b[43m    \u001b[49m\u001b[43mlimits\u001b[49m\u001b[38;5;241;43m=\u001b[39;49m\u001b[43mlimits\u001b[49m\u001b[43m,\u001b[49m\n\u001b[1;32m    678\u001b[0m \u001b[43m    \u001b[49m\u001b[43mtransport\u001b[49m\u001b[38;5;241;43m=\u001b[39;49m\u001b[43mtransport\u001b[49m\u001b[43m,\u001b[49m\n\u001b[1;32m    679\u001b[0m \u001b[43m    \u001b[49m\u001b[43mapp\u001b[49m\u001b[38;5;241;43m=\u001b[39;49m\u001b[43mapp\u001b[49m\u001b[43m,\u001b[49m\n\u001b[1;32m    680\u001b[0m \u001b[43m    \u001b[49m\u001b[43mtrust_env\u001b[49m\u001b[38;5;241;43m=\u001b[39;49m\u001b[43mtrust_env\u001b[49m\u001b[43m,\u001b[49m\n\u001b[1;32m    681\u001b[0m \u001b[43m\u001b[49m\u001b[43m)\u001b[49m\n\u001b[1;32m    682\u001b[0m \u001b[38;5;28mself\u001b[39m\u001b[38;5;241m.\u001b[39m_mounts: typing\u001b[38;5;241m.\u001b[39mDict[URLPattern, typing\u001b[38;5;241m.\u001b[39mOptional[BaseTransport]] \u001b[38;5;241m=\u001b[39m {\n\u001b[1;32m    683\u001b[0m     URLPattern(key): \u001b[38;5;28;01mNone\u001b[39;00m\n\u001b[1;32m    684\u001b[0m     \u001b[38;5;28;01mif\u001b[39;00m proxy \u001b[38;5;129;01mis\u001b[39;00m \u001b[38;5;28;01mNone\u001b[39;00m\n\u001b[0;32m   (...)\u001b[0m\n\u001b[1;32m    694\u001b[0m     \u001b[38;5;28;01mfor\u001b[39;00m key, proxy \u001b[38;5;129;01min\u001b[39;00m proxy_map\u001b[38;5;241m.\u001b[39mitems()\n\u001b[1;32m    695\u001b[0m }\n\u001b[1;32m    696\u001b[0m \u001b[38;5;28;01mif\u001b[39;00m mounts \u001b[38;5;129;01mis\u001b[39;00m \u001b[38;5;129;01mnot\u001b[39;00m \u001b[38;5;28;01mNone\u001b[39;00m:\n",
      "File \u001b[0;32m~/anaconda3/envs/llava/lib/python3.10/site-packages/httpx/_client.py:720\u001b[0m, in \u001b[0;36mClient._init_transport\u001b[0;34m(self, verify, cert, http1, http2, limits, transport, app, trust_env)\u001b[0m\n\u001b[1;32m    717\u001b[0m \u001b[38;5;28;01mif\u001b[39;00m app \u001b[38;5;129;01mis\u001b[39;00m \u001b[38;5;129;01mnot\u001b[39;00m \u001b[38;5;28;01mNone\u001b[39;00m:\n\u001b[1;32m    718\u001b[0m     \u001b[38;5;28;01mreturn\u001b[39;00m WSGITransport(app\u001b[38;5;241m=\u001b[39mapp)\n\u001b[0;32m--> 720\u001b[0m \u001b[38;5;28;01mreturn\u001b[39;00m \u001b[43mHTTPTransport\u001b[49m\u001b[43m(\u001b[49m\n\u001b[1;32m    721\u001b[0m \u001b[43m    \u001b[49m\u001b[43mverify\u001b[49m\u001b[38;5;241;43m=\u001b[39;49m\u001b[43mverify\u001b[49m\u001b[43m,\u001b[49m\n\u001b[1;32m    722\u001b[0m \u001b[43m    \u001b[49m\u001b[43mcert\u001b[49m\u001b[38;5;241;43m=\u001b[39;49m\u001b[43mcert\u001b[49m\u001b[43m,\u001b[49m\n\u001b[1;32m    723\u001b[0m \u001b[43m    \u001b[49m\u001b[43mhttp1\u001b[49m\u001b[38;5;241;43m=\u001b[39;49m\u001b[43mhttp1\u001b[49m\u001b[43m,\u001b[49m\n\u001b[1;32m    724\u001b[0m \u001b[43m    \u001b[49m\u001b[43mhttp2\u001b[49m\u001b[38;5;241;43m=\u001b[39;49m\u001b[43mhttp2\u001b[49m\u001b[43m,\u001b[49m\n\u001b[1;32m    725\u001b[0m \u001b[43m    \u001b[49m\u001b[43mlimits\u001b[49m\u001b[38;5;241;43m=\u001b[39;49m\u001b[43mlimits\u001b[49m\u001b[43m,\u001b[49m\n\u001b[1;32m    726\u001b[0m \u001b[43m    \u001b[49m\u001b[43mtrust_env\u001b[49m\u001b[38;5;241;43m=\u001b[39;49m\u001b[43mtrust_env\u001b[49m\u001b[43m,\u001b[49m\n\u001b[1;32m    727\u001b[0m \u001b[43m\u001b[49m\u001b[43m)\u001b[49m\n",
      "File \u001b[0;32m~/anaconda3/envs/llava/lib/python3.10/site-packages/httpx/_transports/default.py:126\u001b[0m, in \u001b[0;36mHTTPTransport.__init__\u001b[0;34m(self, verify, cert, http1, http2, limits, trust_env, proxy, uds, local_address, retries)\u001b[0m\n\u001b[1;32m    113\u001b[0m \u001b[38;5;28;01mdef\u001b[39;00m \u001b[38;5;21m__init__\u001b[39m(\n\u001b[1;32m    114\u001b[0m     \u001b[38;5;28mself\u001b[39m,\n\u001b[1;32m    115\u001b[0m     verify: VerifyTypes \u001b[38;5;241m=\u001b[39m \u001b[38;5;28;01mTrue\u001b[39;00m,\n\u001b[0;32m   (...)\u001b[0m\n\u001b[1;32m    124\u001b[0m     retries: \u001b[38;5;28mint\u001b[39m \u001b[38;5;241m=\u001b[39m \u001b[38;5;241m0\u001b[39m,\n\u001b[1;32m    125\u001b[0m ) \u001b[38;5;241m-\u001b[39m\u001b[38;5;241m>\u001b[39m \u001b[38;5;28;01mNone\u001b[39;00m:\n\u001b[0;32m--> 126\u001b[0m     ssl_context \u001b[38;5;241m=\u001b[39m \u001b[43mcreate_ssl_context\u001b[49m\u001b[43m(\u001b[49m\u001b[43mverify\u001b[49m\u001b[38;5;241;43m=\u001b[39;49m\u001b[43mverify\u001b[49m\u001b[43m,\u001b[49m\u001b[43m \u001b[49m\u001b[43mcert\u001b[49m\u001b[38;5;241;43m=\u001b[39;49m\u001b[43mcert\u001b[49m\u001b[43m,\u001b[49m\u001b[43m \u001b[49m\u001b[43mtrust_env\u001b[49m\u001b[38;5;241;43m=\u001b[39;49m\u001b[43mtrust_env\u001b[49m\u001b[43m)\u001b[49m\n\u001b[1;32m    128\u001b[0m     \u001b[38;5;28;01mif\u001b[39;00m proxy \u001b[38;5;129;01mis\u001b[39;00m \u001b[38;5;28;01mNone\u001b[39;00m:\n\u001b[1;32m    129\u001b[0m         \u001b[38;5;28mself\u001b[39m\u001b[38;5;241m.\u001b[39m_pool \u001b[38;5;241m=\u001b[39m httpcore\u001b[38;5;241m.\u001b[39mConnectionPool(\n\u001b[1;32m    130\u001b[0m             ssl_context\u001b[38;5;241m=\u001b[39mssl_context,\n\u001b[1;32m    131\u001b[0m             max_connections\u001b[38;5;241m=\u001b[39mlimits\u001b[38;5;241m.\u001b[39mmax_connections,\n\u001b[0;32m   (...)\u001b[0m\n\u001b[1;32m    138\u001b[0m             retries\u001b[38;5;241m=\u001b[39mretries,\n\u001b[1;32m    139\u001b[0m         )\n",
      "File \u001b[0;32m~/anaconda3/envs/llava/lib/python3.10/site-packages/httpx/_config.py:52\u001b[0m, in \u001b[0;36mcreate_ssl_context\u001b[0;34m(cert, verify, trust_env, http2)\u001b[0m\n\u001b[1;32m     46\u001b[0m \u001b[38;5;28;01mdef\u001b[39;00m \u001b[38;5;21mcreate_ssl_context\u001b[39m(\n\u001b[1;32m     47\u001b[0m     cert: typing\u001b[38;5;241m.\u001b[39mOptional[CertTypes] \u001b[38;5;241m=\u001b[39m \u001b[38;5;28;01mNone\u001b[39;00m,\n\u001b[1;32m     48\u001b[0m     verify: VerifyTypes \u001b[38;5;241m=\u001b[39m \u001b[38;5;28;01mTrue\u001b[39;00m,\n\u001b[1;32m     49\u001b[0m     trust_env: \u001b[38;5;28mbool\u001b[39m \u001b[38;5;241m=\u001b[39m \u001b[38;5;28;01mTrue\u001b[39;00m,\n\u001b[1;32m     50\u001b[0m     http2: \u001b[38;5;28mbool\u001b[39m \u001b[38;5;241m=\u001b[39m \u001b[38;5;28;01mFalse\u001b[39;00m,\n\u001b[1;32m     51\u001b[0m ) \u001b[38;5;241m-\u001b[39m\u001b[38;5;241m>\u001b[39m ssl\u001b[38;5;241m.\u001b[39mSSLContext:\n\u001b[0;32m---> 52\u001b[0m     \u001b[38;5;28;01mreturn\u001b[39;00m \u001b[43mSSLConfig\u001b[49m\u001b[43m(\u001b[49m\n\u001b[1;32m     53\u001b[0m \u001b[43m        \u001b[49m\u001b[43mcert\u001b[49m\u001b[38;5;241;43m=\u001b[39;49m\u001b[43mcert\u001b[49m\u001b[43m,\u001b[49m\u001b[43m \u001b[49m\u001b[43mverify\u001b[49m\u001b[38;5;241;43m=\u001b[39;49m\u001b[43mverify\u001b[49m\u001b[43m,\u001b[49m\u001b[43m \u001b[49m\u001b[43mtrust_env\u001b[49m\u001b[38;5;241;43m=\u001b[39;49m\u001b[43mtrust_env\u001b[49m\u001b[43m,\u001b[49m\u001b[43m \u001b[49m\u001b[43mhttp2\u001b[49m\u001b[38;5;241;43m=\u001b[39;49m\u001b[43mhttp2\u001b[49m\n\u001b[1;32m     54\u001b[0m \u001b[43m    \u001b[49m\u001b[43m)\u001b[49m\u001b[38;5;241m.\u001b[39mssl_context\n",
      "File \u001b[0;32m~/anaconda3/envs/llava/lib/python3.10/site-packages/httpx/_config.py:76\u001b[0m, in \u001b[0;36mSSLConfig.__init__\u001b[0;34m(self, cert, verify, trust_env, http2)\u001b[0m\n\u001b[1;32m     74\u001b[0m \u001b[38;5;28mself\u001b[39m\u001b[38;5;241m.\u001b[39mtrust_env \u001b[38;5;241m=\u001b[39m trust_env\n\u001b[1;32m     75\u001b[0m \u001b[38;5;28mself\u001b[39m\u001b[38;5;241m.\u001b[39mhttp2 \u001b[38;5;241m=\u001b[39m http2\n\u001b[0;32m---> 76\u001b[0m \u001b[38;5;28mself\u001b[39m\u001b[38;5;241m.\u001b[39mssl_context \u001b[38;5;241m=\u001b[39m \u001b[38;5;28;43mself\u001b[39;49m\u001b[38;5;241;43m.\u001b[39;49m\u001b[43mload_ssl_context\u001b[49m\u001b[43m(\u001b[49m\u001b[43m)\u001b[49m\n",
      "File \u001b[0;32m~/anaconda3/envs/llava/lib/python3.10/site-packages/httpx/_config.py:88\u001b[0m, in \u001b[0;36mSSLConfig.load_ssl_context\u001b[0;34m(self)\u001b[0m\n\u001b[1;32m     79\u001b[0m logger\u001b[38;5;241m.\u001b[39mdebug(\n\u001b[1;32m     80\u001b[0m     \u001b[38;5;124m\"\u001b[39m\u001b[38;5;124mload_ssl_context verify=\u001b[39m\u001b[38;5;132;01m%r\u001b[39;00m\u001b[38;5;124m cert=\u001b[39m\u001b[38;5;132;01m%r\u001b[39;00m\u001b[38;5;124m trust_env=\u001b[39m\u001b[38;5;132;01m%r\u001b[39;00m\u001b[38;5;124m http2=\u001b[39m\u001b[38;5;132;01m%r\u001b[39;00m\u001b[38;5;124m\"\u001b[39m,\n\u001b[1;32m     81\u001b[0m     \u001b[38;5;28mself\u001b[39m\u001b[38;5;241m.\u001b[39mverify,\n\u001b[0;32m   (...)\u001b[0m\n\u001b[1;32m     84\u001b[0m     \u001b[38;5;28mself\u001b[39m\u001b[38;5;241m.\u001b[39mhttp2,\n\u001b[1;32m     85\u001b[0m )\n\u001b[1;32m     87\u001b[0m \u001b[38;5;28;01mif\u001b[39;00m \u001b[38;5;28mself\u001b[39m\u001b[38;5;241m.\u001b[39mverify:\n\u001b[0;32m---> 88\u001b[0m     \u001b[38;5;28;01mreturn\u001b[39;00m \u001b[38;5;28;43mself\u001b[39;49m\u001b[38;5;241;43m.\u001b[39;49m\u001b[43mload_ssl_context_verify\u001b[49m\u001b[43m(\u001b[49m\u001b[43m)\u001b[49m\n\u001b[1;32m     89\u001b[0m \u001b[38;5;28;01mreturn\u001b[39;00m \u001b[38;5;28mself\u001b[39m\u001b[38;5;241m.\u001b[39mload_ssl_context_no_verify()\n",
      "File \u001b[0;32m~/anaconda3/envs/llava/lib/python3.10/site-packages/httpx/_config.py:147\u001b[0m, in \u001b[0;36mSSLConfig.load_ssl_context_verify\u001b[0;34m(self)\u001b[0m\n\u001b[1;32m    145\u001b[0m     cafile \u001b[38;5;241m=\u001b[39m \u001b[38;5;28mstr\u001b[39m(ca_bundle_path)\n\u001b[1;32m    146\u001b[0m     logger\u001b[38;5;241m.\u001b[39mdebug(\u001b[38;5;124m\"\u001b[39m\u001b[38;5;124mload_verify_locations cafile=\u001b[39m\u001b[38;5;132;01m%r\u001b[39;00m\u001b[38;5;124m\"\u001b[39m, cafile)\n\u001b[0;32m--> 147\u001b[0m     \u001b[43mcontext\u001b[49m\u001b[38;5;241;43m.\u001b[39;49m\u001b[43mload_verify_locations\u001b[49m\u001b[43m(\u001b[49m\u001b[43mcafile\u001b[49m\u001b[38;5;241;43m=\u001b[39;49m\u001b[43mcafile\u001b[49m\u001b[43m)\u001b[49m\n\u001b[1;32m    148\u001b[0m \u001b[38;5;28;01melif\u001b[39;00m ca_bundle_path\u001b[38;5;241m.\u001b[39mis_dir():\n\u001b[1;32m    149\u001b[0m     capath \u001b[38;5;241m=\u001b[39m \u001b[38;5;28mstr\u001b[39m(ca_bundle_path)\n",
      "\u001b[0;31mKeyboardInterrupt\u001b[0m: "
     ]
    }
   ],
   "source": [
    "import os\n",
    "import json\n",
    "from openai import OpenAI\n",
    "from tqdm import tqdm\n",
    "\n",
    "top_ks = [50, 70]\n",
    "\n",
    "\n",
    "# save_path = f\"/home/jwsuh/harddisk/2403_new_research/construction_dataset/chatgpt_output/aihub/DPR/rag_k_{top_k}\"\n",
    "# os.makedirs(save_path, exist_ok=True)\n",
    "root_path = '/home/jwsuh/harddisk/2403_new_research/construction_dataset/dataset/LLaVA_inference/llava_image_result_with_obj'\n",
    "\n",
    "def process_file(file, top_k, save_path):\n",
    "    try:\n",
    "        with open(os.path.join(root_path, file), 'r', encoding=\"UTF-8\") as j:\n",
    "            caption = json.load(j)\n",
    "        \n",
    "        context_embeddings = encode_contexts(combined_rules)        \n",
    "        query_embedding = encode_query(caption['outputs'])\n",
    "        similarities = torch.matmul(query_embedding, context_embeddings.T).squeeze(0)\n",
    "        top_k_indices = torch.topk(similarities, k=top_k).indices\n",
    "        top_k_results = [combined_rules[index] for index in top_k_indices]\n",
    "        classified_results = {rule: classify_rule(rule, normal_rule, abnormal_rule) for rule in top_k_results}\n",
    "        \n",
    "        normal_group = [rule for rule, category in classified_results.items() if category == 'normal']\n",
    "        abnormal_group = [rule for rule, category in classified_results.items() if category == 'abnormal']\n",
    "        \n",
    "        prompt = f\"Look at the image caption and rules, decide whether situation is normal or abnormal.\\n\\nImage caption: {caption['outputs']}\\n\\n Normal Rules: {normal_group}\\n\\nAbnormal Rules: {abnormal_group}\\n\\nSituation: (choose one normal/abnormal)\\n\\n\"\n",
    "        client = OpenAI(api_key=API_KEY)\n",
    "        response = client.chat.completions.create(\n",
    "            model=MODEL_CONFIG['model'],\n",
    "            messages=[{\"role\": \"user\", \"content\": prompt}],\n",
    "        )\n",
    "        output = response.choices[0].message.content.lower()\n",
    "\n",
    "        with open(os.path.join(save_path, file), 'w', encoding=\"UTF-8\") as j:\n",
    "            json.dump(output, j, indent='\\t')\n",
    "        \n",
    "        return output\n",
    "\n",
    "    except Exception as e:\n",
    "        return str(e)\n",
    "\n",
    "def main():\n",
    "    \n",
    "    files = os.listdir(root_path)\n",
    "    for top_k in top_ks:\n",
    "        save_path = f\"/home/jwsuh/harddisk/2403_new_research/construction_dataset/chatgpt_output/aihub/DPR/rag_k_{top_k}\"\n",
    "        os.makedirs(save_path, exist_ok=True)\n",
    "        # print(top_k)\n",
    "        for file in tqdm(sorted(files)):\n",
    "            # continue\n",
    "            if file.endswith('.json'):\n",
    "                result = process_file(file, top_k, save_path)\n",
    "            # print(result)\n",
    "            # print(\"\\n==================================\\n\")\n",
    "\n",
    "if __name__ == \"__main__\":\n",
    "    main()"
   ]
  },
  {
   "cell_type": "code",
   "execution_count": 73,
   "metadata": {},
   "outputs": [
    {
     "name": "stderr",
     "output_type": "stream",
     "text": [
      "100%|██████████| 957/957 [00:00<00:00, 12572.19it/s]"
     ]
    },
    {
     "name": "stdout",
     "output_type": "stream",
     "text": [
      "Accuracy: 0.4994775339602926\n",
      "Normal: 905\n",
      "Abnormal: 52\n"
     ]
    },
    {
     "name": "stderr",
     "output_type": "stream",
     "text": [
      "\n"
     ]
    }
   ],
   "source": [
    "pattern = r'\\bnormal\\b'\n",
    "\n",
    "root_path = \"/home/jwsuh/harddisk/2403_new_research/construction_dataset/chatgpt_output/aihub/no_obj/BM25/rag_k_10\"\n",
    "files = os.listdir(root_path)\n",
    "\n",
    "correct = 0\n",
    "normals = 0\n",
    "abnormals = 0\n",
    "\n",
    "for file in tqdm(files):\n",
    "    with open(os.path.join(root_path, file), 'r', encoding=\"UTF-8\") as j:\n",
    "        text = json.load(j)\n",
    "\n",
    "    if bool(re.search(pattern, text)): # normal\n",
    "        pred = \"normal\"\n",
    "        normals += 1\n",
    "    else:\n",
    "        pred = \"abnormal\"\n",
    "        abnormals += 1\n",
    "    \n",
    "    name = file.split('_')[2]\n",
    "    \n",
    "    if name[0] == 'Y':\n",
    "        answer = 'normal'\n",
    "        # print(answer_index)\n",
    "    elif name[0] == 'N':\n",
    "        answer = \"abnormal\"\n",
    "\n",
    "    if answer == pred:\n",
    "        correct += 1\n",
    "\n",
    "print(\"Accuracy:\", correct / len(files))\n",
    "print(\"Normal:\", normals)\n",
    "print(\"Abnormal:\", abnormals)\n",
    "# for text, is_normal in results.items():\n",
    "#     print(f\"'{text}' is normal: {is_normal}\")"
   ]
  }
 ],
 "metadata": {
  "kernelspec": {
   "display_name": "llava",
   "language": "python",
   "name": "python3"
  },
  "language_info": {
   "codemirror_mode": {
    "name": "ipython",
    "version": 3
   },
   "file_extension": ".py",
   "mimetype": "text/x-python",
   "name": "python",
   "nbconvert_exporter": "python",
   "pygments_lexer": "ipython3",
   "version": "3.10.14"
  }
 },
 "nbformat": 4,
 "nbformat_minor": 2
}
